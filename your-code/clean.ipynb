{
 "cells": [
  {
   "cell_type": "code",
   "execution_count": 1,
   "metadata": {},
   "outputs": [],
   "source": [
    "# Libraries\n",
    "import numpy as np\n",
    "import pandas as pd\n",
    "import re"
   ]
  },
  {
   "cell_type": "code",
   "execution_count": 2,
   "metadata": {},
   "outputs": [],
   "source": [
    "import sys\n",
    "sys.path.append(\"..\")\n",
    "from src.cleaning import *"
   ]
  },
  {
   "cell_type": "markdown",
   "metadata": {},
   "source": [
    "# Primera visualización rápida"
   ]
  },
  {
   "cell_type": "markdown",
   "metadata": {},
   "source": [
    "Cargamos datos de formato CSV"
   ]
  },
  {
   "cell_type": "code",
   "execution_count": 3,
   "metadata": {},
   "outputs": [],
   "source": [
    "attacks = pd.read_csv(\"../data/attacks.csv\", encoding = \"ISO-8859-1\")"
   ]
  },
  {
   "cell_type": "markdown",
   "metadata": {},
   "source": [
    "Visualizo las primeras y últimas filas para echar una ojeada a los datos."
   ]
  },
  {
   "cell_type": "code",
   "execution_count": 4,
   "metadata": {
    "scrolled": true
   },
   "outputs": [
    {
     "data": {
      "text/html": [
       "<div>\n",
       "<style scoped>\n",
       "    .dataframe tbody tr th:only-of-type {\n",
       "        vertical-align: middle;\n",
       "    }\n",
       "\n",
       "    .dataframe tbody tr th {\n",
       "        vertical-align: top;\n",
       "    }\n",
       "\n",
       "    .dataframe thead th {\n",
       "        text-align: right;\n",
       "    }\n",
       "</style>\n",
       "<table border=\"1\" class=\"dataframe\">\n",
       "  <thead>\n",
       "    <tr style=\"text-align: right;\">\n",
       "      <th></th>\n",
       "      <th>Case Number</th>\n",
       "      <th>Date</th>\n",
       "      <th>Year</th>\n",
       "      <th>Type</th>\n",
       "      <th>Country</th>\n",
       "      <th>Area</th>\n",
       "      <th>Location</th>\n",
       "      <th>Activity</th>\n",
       "      <th>Name</th>\n",
       "      <th>Sex</th>\n",
       "      <th>...</th>\n",
       "      <th>Species</th>\n",
       "      <th>Investigator or Source</th>\n",
       "      <th>pdf</th>\n",
       "      <th>href formula</th>\n",
       "      <th>href</th>\n",
       "      <th>Case Number.1</th>\n",
       "      <th>Case Number.2</th>\n",
       "      <th>original order</th>\n",
       "      <th>Unnamed: 22</th>\n",
       "      <th>Unnamed: 23</th>\n",
       "    </tr>\n",
       "  </thead>\n",
       "  <tbody>\n",
       "    <tr>\n",
       "      <th>0</th>\n",
       "      <td>2018.06.25</td>\n",
       "      <td>25-Jun-2018</td>\n",
       "      <td>2018.0</td>\n",
       "      <td>Boating</td>\n",
       "      <td>USA</td>\n",
       "      <td>California</td>\n",
       "      <td>Oceanside, San Diego County</td>\n",
       "      <td>Paddling</td>\n",
       "      <td>Julie Wolfe</td>\n",
       "      <td>F</td>\n",
       "      <td>...</td>\n",
       "      <td>White shark</td>\n",
       "      <td>R. Collier, GSAF</td>\n",
       "      <td>2018.06.25-Wolfe.pdf</td>\n",
       "      <td>http://sharkattackfile.net/spreadsheets/pdf_di...</td>\n",
       "      <td>http://sharkattackfile.net/spreadsheets/pdf_di...</td>\n",
       "      <td>2018.06.25</td>\n",
       "      <td>2018.06.25</td>\n",
       "      <td>6303.0</td>\n",
       "      <td>NaN</td>\n",
       "      <td>NaN</td>\n",
       "    </tr>\n",
       "    <tr>\n",
       "      <th>1</th>\n",
       "      <td>2018.06.18</td>\n",
       "      <td>18-Jun-2018</td>\n",
       "      <td>2018.0</td>\n",
       "      <td>Unprovoked</td>\n",
       "      <td>USA</td>\n",
       "      <td>Georgia</td>\n",
       "      <td>St. Simon Island, Glynn County</td>\n",
       "      <td>Standing</td>\n",
       "      <td>Adyson McNeely</td>\n",
       "      <td>F</td>\n",
       "      <td>...</td>\n",
       "      <td>NaN</td>\n",
       "      <td>K.McMurray, TrackingSharks.com</td>\n",
       "      <td>2018.06.18-McNeely.pdf</td>\n",
       "      <td>http://sharkattackfile.net/spreadsheets/pdf_di...</td>\n",
       "      <td>http://sharkattackfile.net/spreadsheets/pdf_di...</td>\n",
       "      <td>2018.06.18</td>\n",
       "      <td>2018.06.18</td>\n",
       "      <td>6302.0</td>\n",
       "      <td>NaN</td>\n",
       "      <td>NaN</td>\n",
       "    </tr>\n",
       "  </tbody>\n",
       "</table>\n",
       "<p>2 rows × 24 columns</p>\n",
       "</div>"
      ],
      "text/plain": [
       "  Case Number         Date    Year        Type Country        Area  \\\n",
       "0  2018.06.25  25-Jun-2018  2018.0     Boating     USA  California   \n",
       "1  2018.06.18  18-Jun-2018  2018.0  Unprovoked     USA     Georgia   \n",
       "\n",
       "                         Location  Activity             Name Sex   ...  \\\n",
       "0     Oceanside, San Diego County  Paddling      Julie Wolfe    F  ...   \n",
       "1  St. Simon Island, Glynn County  Standing  Adyson McNeely     F  ...   \n",
       "\n",
       "      Species           Investigator or Source                     pdf  \\\n",
       "0  White shark                R. Collier, GSAF    2018.06.25-Wolfe.pdf   \n",
       "1          NaN  K.McMurray, TrackingSharks.com  2018.06.18-McNeely.pdf   \n",
       "\n",
       "                                        href formula  \\\n",
       "0  http://sharkattackfile.net/spreadsheets/pdf_di...   \n",
       "1  http://sharkattackfile.net/spreadsheets/pdf_di...   \n",
       "\n",
       "                                                href Case Number.1  \\\n",
       "0  http://sharkattackfile.net/spreadsheets/pdf_di...    2018.06.25   \n",
       "1  http://sharkattackfile.net/spreadsheets/pdf_di...    2018.06.18   \n",
       "\n",
       "  Case Number.2 original order Unnamed: 22 Unnamed: 23  \n",
       "0    2018.06.25         6303.0         NaN         NaN  \n",
       "1    2018.06.18         6302.0         NaN         NaN  \n",
       "\n",
       "[2 rows x 24 columns]"
      ]
     },
     "execution_count": 4,
     "metadata": {},
     "output_type": "execute_result"
    }
   ],
   "source": [
    "attacks.head(2)"
   ]
  },
  {
   "cell_type": "code",
   "execution_count": 5,
   "metadata": {},
   "outputs": [
    {
     "data": {
      "text/html": [
       "<div>\n",
       "<style scoped>\n",
       "    .dataframe tbody tr th:only-of-type {\n",
       "        vertical-align: middle;\n",
       "    }\n",
       "\n",
       "    .dataframe tbody tr th {\n",
       "        vertical-align: top;\n",
       "    }\n",
       "\n",
       "    .dataframe thead th {\n",
       "        text-align: right;\n",
       "    }\n",
       "</style>\n",
       "<table border=\"1\" class=\"dataframe\">\n",
       "  <thead>\n",
       "    <tr style=\"text-align: right;\">\n",
       "      <th></th>\n",
       "      <th>Case Number</th>\n",
       "      <th>Date</th>\n",
       "      <th>Year</th>\n",
       "      <th>Type</th>\n",
       "      <th>Country</th>\n",
       "      <th>Area</th>\n",
       "      <th>Location</th>\n",
       "      <th>Activity</th>\n",
       "      <th>Name</th>\n",
       "      <th>Sex</th>\n",
       "      <th>...</th>\n",
       "      <th>Species</th>\n",
       "      <th>Investigator or Source</th>\n",
       "      <th>pdf</th>\n",
       "      <th>href formula</th>\n",
       "      <th>href</th>\n",
       "      <th>Case Number.1</th>\n",
       "      <th>Case Number.2</th>\n",
       "      <th>original order</th>\n",
       "      <th>Unnamed: 22</th>\n",
       "      <th>Unnamed: 23</th>\n",
       "    </tr>\n",
       "  </thead>\n",
       "  <tbody>\n",
       "    <tr>\n",
       "      <th>25721</th>\n",
       "      <td>NaN</td>\n",
       "      <td>NaN</td>\n",
       "      <td>NaN</td>\n",
       "      <td>NaN</td>\n",
       "      <td>NaN</td>\n",
       "      <td>NaN</td>\n",
       "      <td>NaN</td>\n",
       "      <td>NaN</td>\n",
       "      <td>NaN</td>\n",
       "      <td>NaN</td>\n",
       "      <td>...</td>\n",
       "      <td>NaN</td>\n",
       "      <td>NaN</td>\n",
       "      <td>NaN</td>\n",
       "      <td>NaN</td>\n",
       "      <td>NaN</td>\n",
       "      <td>NaN</td>\n",
       "      <td>NaN</td>\n",
       "      <td>NaN</td>\n",
       "      <td>NaN</td>\n",
       "      <td>NaN</td>\n",
       "    </tr>\n",
       "    <tr>\n",
       "      <th>25722</th>\n",
       "      <td>xx</td>\n",
       "      <td>NaN</td>\n",
       "      <td>NaN</td>\n",
       "      <td>NaN</td>\n",
       "      <td>NaN</td>\n",
       "      <td>NaN</td>\n",
       "      <td>NaN</td>\n",
       "      <td>NaN</td>\n",
       "      <td>NaN</td>\n",
       "      <td>NaN</td>\n",
       "      <td>...</td>\n",
       "      <td>NaN</td>\n",
       "      <td>NaN</td>\n",
       "      <td>NaN</td>\n",
       "      <td>NaN</td>\n",
       "      <td>NaN</td>\n",
       "      <td>NaN</td>\n",
       "      <td>NaN</td>\n",
       "      <td>NaN</td>\n",
       "      <td>NaN</td>\n",
       "      <td>NaN</td>\n",
       "    </tr>\n",
       "  </tbody>\n",
       "</table>\n",
       "<p>2 rows × 24 columns</p>\n",
       "</div>"
      ],
      "text/plain": [
       "      Case Number Date  Year Type Country Area Location Activity Name Sex   \\\n",
       "25721         NaN  NaN   NaN  NaN     NaN  NaN      NaN      NaN  NaN  NaN   \n",
       "25722          xx  NaN   NaN  NaN     NaN  NaN      NaN      NaN  NaN  NaN   \n",
       "\n",
       "       ... Species  Investigator or Source  pdf href formula href  \\\n",
       "25721  ...      NaN                    NaN  NaN          NaN  NaN   \n",
       "25722  ...      NaN                    NaN  NaN          NaN  NaN   \n",
       "\n",
       "      Case Number.1 Case Number.2 original order Unnamed: 22 Unnamed: 23  \n",
       "25721           NaN           NaN            NaN         NaN         NaN  \n",
       "25722           NaN           NaN            NaN         NaN         NaN  \n",
       "\n",
       "[2 rows x 24 columns]"
      ]
     },
     "execution_count": 5,
     "metadata": {},
     "output_type": "execute_result"
    }
   ],
   "source": [
    "attacks.tail(2)"
   ]
  },
  {
   "cell_type": "markdown",
   "metadata": {},
   "source": [
    "Visualizo también una muestra aleatoria."
   ]
  },
  {
   "cell_type": "code",
   "execution_count": 6,
   "metadata": {},
   "outputs": [
    {
     "data": {
      "text/html": [
       "<div>\n",
       "<style scoped>\n",
       "    .dataframe tbody tr th:only-of-type {\n",
       "        vertical-align: middle;\n",
       "    }\n",
       "\n",
       "    .dataframe tbody tr th {\n",
       "        vertical-align: top;\n",
       "    }\n",
       "\n",
       "    .dataframe thead th {\n",
       "        text-align: right;\n",
       "    }\n",
       "</style>\n",
       "<table border=\"1\" class=\"dataframe\">\n",
       "  <thead>\n",
       "    <tr style=\"text-align: right;\">\n",
       "      <th></th>\n",
       "      <th>Case Number</th>\n",
       "      <th>Date</th>\n",
       "      <th>Year</th>\n",
       "      <th>Type</th>\n",
       "      <th>Country</th>\n",
       "      <th>Area</th>\n",
       "      <th>Location</th>\n",
       "      <th>Activity</th>\n",
       "      <th>Name</th>\n",
       "      <th>Sex</th>\n",
       "      <th>...</th>\n",
       "      <th>Species</th>\n",
       "      <th>Investigator or Source</th>\n",
       "      <th>pdf</th>\n",
       "      <th>href formula</th>\n",
       "      <th>href</th>\n",
       "      <th>Case Number.1</th>\n",
       "      <th>Case Number.2</th>\n",
       "      <th>original order</th>\n",
       "      <th>Unnamed: 22</th>\n",
       "      <th>Unnamed: 23</th>\n",
       "    </tr>\n",
       "  </thead>\n",
       "  <tbody>\n",
       "    <tr>\n",
       "      <th>12939</th>\n",
       "      <td>NaN</td>\n",
       "      <td>NaN</td>\n",
       "      <td>NaN</td>\n",
       "      <td>NaN</td>\n",
       "      <td>NaN</td>\n",
       "      <td>NaN</td>\n",
       "      <td>NaN</td>\n",
       "      <td>NaN</td>\n",
       "      <td>NaN</td>\n",
       "      <td>NaN</td>\n",
       "      <td>...</td>\n",
       "      <td>NaN</td>\n",
       "      <td>NaN</td>\n",
       "      <td>NaN</td>\n",
       "      <td>NaN</td>\n",
       "      <td>NaN</td>\n",
       "      <td>NaN</td>\n",
       "      <td>NaN</td>\n",
       "      <td>NaN</td>\n",
       "      <td>NaN</td>\n",
       "      <td>NaN</td>\n",
       "    </tr>\n",
       "    <tr>\n",
       "      <th>17163</th>\n",
       "      <td>NaN</td>\n",
       "      <td>NaN</td>\n",
       "      <td>NaN</td>\n",
       "      <td>NaN</td>\n",
       "      <td>NaN</td>\n",
       "      <td>NaN</td>\n",
       "      <td>NaN</td>\n",
       "      <td>NaN</td>\n",
       "      <td>NaN</td>\n",
       "      <td>NaN</td>\n",
       "      <td>...</td>\n",
       "      <td>NaN</td>\n",
       "      <td>NaN</td>\n",
       "      <td>NaN</td>\n",
       "      <td>NaN</td>\n",
       "      <td>NaN</td>\n",
       "      <td>NaN</td>\n",
       "      <td>NaN</td>\n",
       "      <td>NaN</td>\n",
       "      <td>NaN</td>\n",
       "      <td>NaN</td>\n",
       "    </tr>\n",
       "  </tbody>\n",
       "</table>\n",
       "<p>2 rows × 24 columns</p>\n",
       "</div>"
      ],
      "text/plain": [
       "      Case Number Date  Year Type Country Area Location Activity Name Sex   \\\n",
       "12939         NaN  NaN   NaN  NaN     NaN  NaN      NaN      NaN  NaN  NaN   \n",
       "17163         NaN  NaN   NaN  NaN     NaN  NaN      NaN      NaN  NaN  NaN   \n",
       "\n",
       "       ... Species  Investigator or Source  pdf href formula href  \\\n",
       "12939  ...      NaN                    NaN  NaN          NaN  NaN   \n",
       "17163  ...      NaN                    NaN  NaN          NaN  NaN   \n",
       "\n",
       "      Case Number.1 Case Number.2 original order Unnamed: 22 Unnamed: 23  \n",
       "12939           NaN           NaN            NaN         NaN         NaN  \n",
       "17163           NaN           NaN            NaN         NaN         NaN  \n",
       "\n",
       "[2 rows x 24 columns]"
      ]
     },
     "execution_count": 6,
     "metadata": {},
     "output_type": "execute_result"
    }
   ],
   "source": [
    "attacks.sample(2)"
   ]
  },
  {
   "cell_type": "markdown",
   "metadata": {},
   "source": [
    "# Mis HIPOTESIS.\n",
    "\n",
    "1_ USA es el pais donde más accidentes de tiburón se producen.\n",
    "\n",
    "2_ La mayor parte de los accidentes son no provocados.\n",
    "\n",
    "3_ Fishing y Surfing; mayores causas de accidentes.\n",
    "\n",
    "4_ Mueren más hombres que mujeres."
   ]
  },
  {
   "cell_type": "markdown",
   "metadata": {},
   "source": [
    "# Análisis exploratorio del DataFrame"
   ]
  },
  {
   "cell_type": "markdown",
   "metadata": {},
   "source": [
    "Evaluar forma, info y Nan del Data Frame. Para este caso no merece la pena hacer un describe. "
   ]
  },
  {
   "cell_type": "code",
   "execution_count": 7,
   "metadata": {},
   "outputs": [
    {
     "data": {
      "text/plain": [
       "(25723, 24)"
      ]
     },
     "execution_count": 7,
     "metadata": {},
     "output_type": "execute_result"
    }
   ],
   "source": [
    "attacks.shape"
   ]
  },
  {
   "cell_type": "code",
   "execution_count": 8,
   "metadata": {},
   "outputs": [
    {
     "data": {
      "text/plain": [
       "<bound method DataFrame.info of       Case Number         Date    Year        Type    Country  \\\n",
       "0      2018.06.25  25-Jun-2018  2018.0     Boating        USA   \n",
       "1      2018.06.18  18-Jun-2018  2018.0  Unprovoked        USA   \n",
       "2      2018.06.09  09-Jun-2018  2018.0     Invalid        USA   \n",
       "3      2018.06.08  08-Jun-2018  2018.0  Unprovoked  AUSTRALIA   \n",
       "4      2018.06.04  04-Jun-2018  2018.0    Provoked     MEXICO   \n",
       "...           ...          ...     ...         ...        ...   \n",
       "25718         NaN          NaN     NaN         NaN        NaN   \n",
       "25719         NaN          NaN     NaN         NaN        NaN   \n",
       "25720         NaN          NaN     NaN         NaN        NaN   \n",
       "25721         NaN          NaN     NaN         NaN        NaN   \n",
       "25722          xx          NaN     NaN         NaN        NaN   \n",
       "\n",
       "                  Area                        Location     Activity  \\\n",
       "0           California     Oceanside, San Diego County     Paddling   \n",
       "1              Georgia  St. Simon Island, Glynn County     Standing   \n",
       "2               Hawaii                    Habush, Oahu      Surfing   \n",
       "3      New South Wales              Arrawarra Headland      Surfing   \n",
       "4               Colima                        La Ticla  Free diving   \n",
       "...                ...                             ...          ...   \n",
       "25718              NaN                             NaN          NaN   \n",
       "25719              NaN                             NaN          NaN   \n",
       "25720              NaN                             NaN          NaN   \n",
       "25721              NaN                             NaN          NaN   \n",
       "25722              NaN                             NaN          NaN   \n",
       "\n",
       "                  Name Sex   ...         Species   \\\n",
       "0          Julie Wolfe    F  ...      White shark   \n",
       "1      Adyson McNeely     F  ...              NaN   \n",
       "2          John Denges    M  ...              NaN   \n",
       "3                 male    M  ...        2 m shark   \n",
       "4       Gustavo Ramos     M  ...  Tiger shark, 3m   \n",
       "...                ...  ...  ...              ...   \n",
       "25718              NaN  NaN  ...              NaN   \n",
       "25719              NaN  NaN  ...              NaN   \n",
       "25720              NaN  NaN  ...              NaN   \n",
       "25721              NaN  NaN  ...              NaN   \n",
       "25722              NaN  NaN  ...              NaN   \n",
       "\n",
       "               Investigator or Source                       pdf  \\\n",
       "0                    R. Collier, GSAF      2018.06.25-Wolfe.pdf   \n",
       "1      K.McMurray, TrackingSharks.com    2018.06.18-McNeely.pdf   \n",
       "2      K.McMurray, TrackingSharks.com     2018.06.09-Denges.pdf   \n",
       "3                      B. Myatt, GSAF  2018.06.08-Arrawarra.pdf   \n",
       "4                           A .Kipper      2018.06.04-Ramos.pdf   \n",
       "...                               ...                       ...   \n",
       "25718                             NaN                       NaN   \n",
       "25719                             NaN                       NaN   \n",
       "25720                             NaN                       NaN   \n",
       "25721                             NaN                       NaN   \n",
       "25722                             NaN                       NaN   \n",
       "\n",
       "                                            href formula  \\\n",
       "0      http://sharkattackfile.net/spreadsheets/pdf_di...   \n",
       "1      http://sharkattackfile.net/spreadsheets/pdf_di...   \n",
       "2      http://sharkattackfile.net/spreadsheets/pdf_di...   \n",
       "3      http://sharkattackfile.net/spreadsheets/pdf_di...   \n",
       "4      http://sharkattackfile.net/spreadsheets/pdf_di...   \n",
       "...                                                  ...   \n",
       "25718                                                NaN   \n",
       "25719                                                NaN   \n",
       "25720                                                NaN   \n",
       "25721                                                NaN   \n",
       "25722                                                NaN   \n",
       "\n",
       "                                                    href Case Number.1  \\\n",
       "0      http://sharkattackfile.net/spreadsheets/pdf_di...    2018.06.25   \n",
       "1      http://sharkattackfile.net/spreadsheets/pdf_di...    2018.06.18   \n",
       "2      http://sharkattackfile.net/spreadsheets/pdf_di...    2018.06.09   \n",
       "3      http://sharkattackfile.net/spreadsheets/pdf_di...    2018.06.08   \n",
       "4      http://sharkattackfile.net/spreadsheets/pdf_di...    2018.06.04   \n",
       "...                                                  ...           ...   \n",
       "25718                                                NaN           NaN   \n",
       "25719                                                NaN           NaN   \n",
       "25720                                                NaN           NaN   \n",
       "25721                                                NaN           NaN   \n",
       "25722                                                NaN           NaN   \n",
       "\n",
       "      Case Number.2 original order Unnamed: 22 Unnamed: 23  \n",
       "0        2018.06.25         6303.0         NaN         NaN  \n",
       "1        2018.06.18         6302.0         NaN         NaN  \n",
       "2        2018.06.09         6301.0         NaN         NaN  \n",
       "3        2018.06.08         6300.0         NaN         NaN  \n",
       "4        2018.06.04         6299.0         NaN         NaN  \n",
       "...             ...            ...         ...         ...  \n",
       "25718           NaN            NaN         NaN         NaN  \n",
       "25719           NaN            NaN         NaN         NaN  \n",
       "25720           NaN            NaN         NaN         NaN  \n",
       "25721           NaN            NaN         NaN         NaN  \n",
       "25722           NaN            NaN         NaN         NaN  \n",
       "\n",
       "[25723 rows x 24 columns]>"
      ]
     },
     "execution_count": 8,
     "metadata": {},
     "output_type": "execute_result"
    }
   ],
   "source": [
    "attacks.info"
   ]
  },
  {
   "cell_type": "code",
   "execution_count": 9,
   "metadata": {},
   "outputs": [
    {
     "data": {
      "text/plain": [
       "Case Number               17021\n",
       "Date                      19421\n",
       "Year                      19423\n",
       "Type                      19425\n",
       "Country                   19471\n",
       "Area                      19876\n",
       "Location                  19961\n",
       "Activity                  19965\n",
       "Name                      19631\n",
       "Sex                       19986\n",
       "Age                       22252\n",
       "Injury                    19449\n",
       "Fatal (Y/N)               19960\n",
       "Time                      22775\n",
       "Species                   22259\n",
       "Investigator or Source    19438\n",
       "pdf                       19421\n",
       "href formula              19422\n",
       "href                      19421\n",
       "Case Number.1             19421\n",
       "Case Number.2             19421\n",
       "original order            19414\n",
       "Unnamed: 22               25722\n",
       "Unnamed: 23               25721\n",
       "dtype: int64"
      ]
     },
     "execution_count": 9,
     "metadata": {},
     "output_type": "execute_result"
    }
   ],
   "source": [
    "attacks.isnull().sum()"
   ]
  },
  {
   "cell_type": "markdown",
   "metadata": {},
   "source": [
    "Hago comprbación de DATOS NUMËRICOS y CATEGÓRICOS"
   ]
  },
  {
   "cell_type": "code",
   "execution_count": 10,
   "metadata": {
    "scrolled": true
   },
   "outputs": [
    {
     "data": {
      "text/html": [
       "<div>\n",
       "<style scoped>\n",
       "    .dataframe tbody tr th:only-of-type {\n",
       "        vertical-align: middle;\n",
       "    }\n",
       "\n",
       "    .dataframe tbody tr th {\n",
       "        vertical-align: top;\n",
       "    }\n",
       "\n",
       "    .dataframe thead th {\n",
       "        text-align: right;\n",
       "    }\n",
       "</style>\n",
       "<table border=\"1\" class=\"dataframe\">\n",
       "  <thead>\n",
       "    <tr style=\"text-align: right;\">\n",
       "      <th></th>\n",
       "      <th>Year</th>\n",
       "      <th>original order</th>\n",
       "    </tr>\n",
       "  </thead>\n",
       "  <tbody>\n",
       "    <tr>\n",
       "      <th>0</th>\n",
       "      <td>2018.0</td>\n",
       "      <td>6303.0</td>\n",
       "    </tr>\n",
       "    <tr>\n",
       "      <th>1</th>\n",
       "      <td>2018.0</td>\n",
       "      <td>6302.0</td>\n",
       "    </tr>\n",
       "    <tr>\n",
       "      <th>2</th>\n",
       "      <td>2018.0</td>\n",
       "      <td>6301.0</td>\n",
       "    </tr>\n",
       "  </tbody>\n",
       "</table>\n",
       "</div>"
      ],
      "text/plain": [
       "     Year  original order\n",
       "0  2018.0          6303.0\n",
       "1  2018.0          6302.0\n",
       "2  2018.0          6301.0"
      ]
     },
     "execution_count": 10,
     "metadata": {},
     "output_type": "execute_result"
    }
   ],
   "source": [
    "# DATOS NUMÉRICOS\n",
    "numericas = attacks._get_numeric_data()\n",
    "numericas.head(3)"
   ]
  },
  {
   "cell_type": "code",
   "execution_count": 11,
   "metadata": {},
   "outputs": [
    {
     "data": {
      "text/html": [
       "<div>\n",
       "<style scoped>\n",
       "    .dataframe tbody tr th:only-of-type {\n",
       "        vertical-align: middle;\n",
       "    }\n",
       "\n",
       "    .dataframe tbody tr th {\n",
       "        vertical-align: top;\n",
       "    }\n",
       "\n",
       "    .dataframe thead th {\n",
       "        text-align: right;\n",
       "    }\n",
       "</style>\n",
       "<table border=\"1\" class=\"dataframe\">\n",
       "  <thead>\n",
       "    <tr style=\"text-align: right;\">\n",
       "      <th></th>\n",
       "      <th>Case Number</th>\n",
       "      <th>Date</th>\n",
       "      <th>Type</th>\n",
       "      <th>Country</th>\n",
       "      <th>Area</th>\n",
       "      <th>Location</th>\n",
       "      <th>Activity</th>\n",
       "      <th>Name</th>\n",
       "      <th>Sex</th>\n",
       "      <th>Age</th>\n",
       "      <th>...</th>\n",
       "      <th>Time</th>\n",
       "      <th>Species</th>\n",
       "      <th>Investigator or Source</th>\n",
       "      <th>pdf</th>\n",
       "      <th>href formula</th>\n",
       "      <th>href</th>\n",
       "      <th>Case Number.1</th>\n",
       "      <th>Case Number.2</th>\n",
       "      <th>Unnamed: 22</th>\n",
       "      <th>Unnamed: 23</th>\n",
       "    </tr>\n",
       "  </thead>\n",
       "  <tbody>\n",
       "    <tr>\n",
       "      <th>0</th>\n",
       "      <td>2018.06.25</td>\n",
       "      <td>25-Jun-2018</td>\n",
       "      <td>Boating</td>\n",
       "      <td>USA</td>\n",
       "      <td>California</td>\n",
       "      <td>Oceanside, San Diego County</td>\n",
       "      <td>Paddling</td>\n",
       "      <td>Julie Wolfe</td>\n",
       "      <td>F</td>\n",
       "      <td>57</td>\n",
       "      <td>...</td>\n",
       "      <td>18h00</td>\n",
       "      <td>White shark</td>\n",
       "      <td>R. Collier, GSAF</td>\n",
       "      <td>2018.06.25-Wolfe.pdf</td>\n",
       "      <td>http://sharkattackfile.net/spreadsheets/pdf_di...</td>\n",
       "      <td>http://sharkattackfile.net/spreadsheets/pdf_di...</td>\n",
       "      <td>2018.06.25</td>\n",
       "      <td>2018.06.25</td>\n",
       "      <td>NaN</td>\n",
       "      <td>NaN</td>\n",
       "    </tr>\n",
       "    <tr>\n",
       "      <th>1</th>\n",
       "      <td>2018.06.18</td>\n",
       "      <td>18-Jun-2018</td>\n",
       "      <td>Unprovoked</td>\n",
       "      <td>USA</td>\n",
       "      <td>Georgia</td>\n",
       "      <td>St. Simon Island, Glynn County</td>\n",
       "      <td>Standing</td>\n",
       "      <td>Adyson McNeely</td>\n",
       "      <td>F</td>\n",
       "      <td>11</td>\n",
       "      <td>...</td>\n",
       "      <td>14h00  -15h00</td>\n",
       "      <td>NaN</td>\n",
       "      <td>K.McMurray, TrackingSharks.com</td>\n",
       "      <td>2018.06.18-McNeely.pdf</td>\n",
       "      <td>http://sharkattackfile.net/spreadsheets/pdf_di...</td>\n",
       "      <td>http://sharkattackfile.net/spreadsheets/pdf_di...</td>\n",
       "      <td>2018.06.18</td>\n",
       "      <td>2018.06.18</td>\n",
       "      <td>NaN</td>\n",
       "      <td>NaN</td>\n",
       "    </tr>\n",
       "    <tr>\n",
       "      <th>2</th>\n",
       "      <td>2018.06.09</td>\n",
       "      <td>09-Jun-2018</td>\n",
       "      <td>Invalid</td>\n",
       "      <td>USA</td>\n",
       "      <td>Hawaii</td>\n",
       "      <td>Habush, Oahu</td>\n",
       "      <td>Surfing</td>\n",
       "      <td>John Denges</td>\n",
       "      <td>M</td>\n",
       "      <td>48</td>\n",
       "      <td>...</td>\n",
       "      <td>07h45</td>\n",
       "      <td>NaN</td>\n",
       "      <td>K.McMurray, TrackingSharks.com</td>\n",
       "      <td>2018.06.09-Denges.pdf</td>\n",
       "      <td>http://sharkattackfile.net/spreadsheets/pdf_di...</td>\n",
       "      <td>http://sharkattackfile.net/spreadsheets/pdf_di...</td>\n",
       "      <td>2018.06.09</td>\n",
       "      <td>2018.06.09</td>\n",
       "      <td>NaN</td>\n",
       "      <td>NaN</td>\n",
       "    </tr>\n",
       "  </tbody>\n",
       "</table>\n",
       "<p>3 rows × 22 columns</p>\n",
       "</div>"
      ],
      "text/plain": [
       "  Case Number         Date        Type Country        Area  \\\n",
       "0  2018.06.25  25-Jun-2018     Boating     USA  California   \n",
       "1  2018.06.18  18-Jun-2018  Unprovoked     USA     Georgia   \n",
       "2  2018.06.09  09-Jun-2018     Invalid     USA      Hawaii   \n",
       "\n",
       "                         Location  Activity             Name Sex  Age  ...  \\\n",
       "0     Oceanside, San Diego County  Paddling      Julie Wolfe    F  57  ...   \n",
       "1  St. Simon Island, Glynn County  Standing  Adyson McNeely     F  11  ...   \n",
       "2                    Habush, Oahu   Surfing      John Denges    M  48  ...   \n",
       "\n",
       "            Time     Species           Investigator or Source  \\\n",
       "0          18h00  White shark                R. Collier, GSAF   \n",
       "1  14h00  -15h00          NaN  K.McMurray, TrackingSharks.com   \n",
       "2          07h45          NaN  K.McMurray, TrackingSharks.com   \n",
       "\n",
       "                      pdf                                       href formula  \\\n",
       "0    2018.06.25-Wolfe.pdf  http://sharkattackfile.net/spreadsheets/pdf_di...   \n",
       "1  2018.06.18-McNeely.pdf  http://sharkattackfile.net/spreadsheets/pdf_di...   \n",
       "2   2018.06.09-Denges.pdf  http://sharkattackfile.net/spreadsheets/pdf_di...   \n",
       "\n",
       "                                                href Case Number.1  \\\n",
       "0  http://sharkattackfile.net/spreadsheets/pdf_di...    2018.06.25   \n",
       "1  http://sharkattackfile.net/spreadsheets/pdf_di...    2018.06.18   \n",
       "2  http://sharkattackfile.net/spreadsheets/pdf_di...    2018.06.09   \n",
       "\n",
       "  Case Number.2 Unnamed: 22 Unnamed: 23  \n",
       "0    2018.06.25         NaN         NaN  \n",
       "1    2018.06.18         NaN         NaN  \n",
       "2    2018.06.09         NaN         NaN  \n",
       "\n",
       "[3 rows x 22 columns]"
      ]
     },
     "execution_count": 11,
     "metadata": {},
     "output_type": "execute_result"
    }
   ],
   "source": [
    "# DATOS CATEGÓRICOS\n",
    "attacks.select_dtypes(include=\"object\").head(3)"
   ]
  },
  {
   "cell_type": "markdown",
   "metadata": {},
   "source": [
    "Renombro COLUMNAS. Elimino mayúsculas y espacios.\n",
    "\n",
    "Nota; más adelante me di cuenta que tendría que renombrar de nuevo la columna \"fata(y/n)\" para poder trabajar sobre ella. Haré referncia a ello más adelante."
   ]
  },
  {
   "cell_type": "code",
   "execution_count": 12,
   "metadata": {},
   "outputs": [],
   "source": [
    "attacks_copia = attacks.copy()"
   ]
  },
  {
   "cell_type": "code",
   "execution_count": 13,
   "metadata": {},
   "outputs": [
    {
     "data": {
      "text/plain": [
       "['Case Number', 'Date', 'Year', 'Type', 'Country']"
      ]
     },
     "execution_count": 13,
     "metadata": {},
     "output_type": "execute_result"
    }
   ],
   "source": [
    "# Saco los 5 primeros elementos.\n",
    "columnas = list(attacks.columns)\n",
    "columnas[:5]"
   ]
  },
  {
   "cell_type": "code",
   "execution_count": 14,
   "metadata": {},
   "outputs": [],
   "source": [
    "diccio_nuevas = {columna: columna.replace(\" \", \"_\").lower() for columna in columnas}"
   ]
  },
  {
   "cell_type": "code",
   "execution_count": 15,
   "metadata": {},
   "outputs": [
    {
     "data": {
      "text/plain": [
       "{'Case Number': 'case_number',\n",
       " 'Date': 'date',\n",
       " 'Year': 'year',\n",
       " 'Type': 'type',\n",
       " 'Country': 'country',\n",
       " 'Area': 'area',\n",
       " 'Location': 'location',\n",
       " 'Activity': 'activity',\n",
       " 'Name': 'name',\n",
       " 'Sex ': 'sex_',\n",
       " 'Age': 'age',\n",
       " 'Injury': 'injury',\n",
       " 'Fatal (Y/N)': 'fatal_(y/n)',\n",
       " 'Time': 'time',\n",
       " 'Species ': 'species_',\n",
       " 'Investigator or Source': 'investigator_or_source',\n",
       " 'pdf': 'pdf',\n",
       " 'href formula': 'href_formula',\n",
       " 'href': 'href',\n",
       " 'Case Number.1': 'case_number.1',\n",
       " 'Case Number.2': 'case_number.2',\n",
       " 'original order': 'original_order',\n",
       " 'Unnamed: 22': 'unnamed:_22',\n",
       " 'Unnamed: 23': 'unnamed:_23'}"
      ]
     },
     "execution_count": 15,
     "metadata": {},
     "output_type": "execute_result"
    }
   ],
   "source": [
    "diccio_nuevas"
   ]
  },
  {
   "cell_type": "code",
   "execution_count": 16,
   "metadata": {},
   "outputs": [
    {
     "data": {
      "text/html": [
       "<div>\n",
       "<style scoped>\n",
       "    .dataframe tbody tr th:only-of-type {\n",
       "        vertical-align: middle;\n",
       "    }\n",
       "\n",
       "    .dataframe tbody tr th {\n",
       "        vertical-align: top;\n",
       "    }\n",
       "\n",
       "    .dataframe thead th {\n",
       "        text-align: right;\n",
       "    }\n",
       "</style>\n",
       "<table border=\"1\" class=\"dataframe\">\n",
       "  <thead>\n",
       "    <tr style=\"text-align: right;\">\n",
       "      <th></th>\n",
       "      <th>case_number</th>\n",
       "      <th>date</th>\n",
       "      <th>year</th>\n",
       "      <th>type</th>\n",
       "      <th>country</th>\n",
       "      <th>area</th>\n",
       "      <th>location</th>\n",
       "      <th>activity</th>\n",
       "      <th>name</th>\n",
       "      <th>sex_</th>\n",
       "      <th>...</th>\n",
       "      <th>species_</th>\n",
       "      <th>investigator_or_source</th>\n",
       "      <th>pdf</th>\n",
       "      <th>href_formula</th>\n",
       "      <th>href</th>\n",
       "      <th>case_number.1</th>\n",
       "      <th>case_number.2</th>\n",
       "      <th>original_order</th>\n",
       "      <th>unnamed:_22</th>\n",
       "      <th>unnamed:_23</th>\n",
       "    </tr>\n",
       "  </thead>\n",
       "  <tbody>\n",
       "    <tr>\n",
       "      <th>23235</th>\n",
       "      <td>NaN</td>\n",
       "      <td>NaN</td>\n",
       "      <td>NaN</td>\n",
       "      <td>NaN</td>\n",
       "      <td>NaN</td>\n",
       "      <td>NaN</td>\n",
       "      <td>NaN</td>\n",
       "      <td>NaN</td>\n",
       "      <td>NaN</td>\n",
       "      <td>NaN</td>\n",
       "      <td>...</td>\n",
       "      <td>NaN</td>\n",
       "      <td>NaN</td>\n",
       "      <td>NaN</td>\n",
       "      <td>NaN</td>\n",
       "      <td>NaN</td>\n",
       "      <td>NaN</td>\n",
       "      <td>NaN</td>\n",
       "      <td>NaN</td>\n",
       "      <td>NaN</td>\n",
       "      <td>NaN</td>\n",
       "    </tr>\n",
       "  </tbody>\n",
       "</table>\n",
       "<p>1 rows × 24 columns</p>\n",
       "</div>"
      ],
      "text/plain": [
       "      case_number date  year type country area location activity name sex_  \\\n",
       "23235         NaN  NaN   NaN  NaN     NaN  NaN      NaN      NaN  NaN  NaN   \n",
       "\n",
       "       ... species_ investigator_or_source  pdf href_formula href  \\\n",
       "23235  ...      NaN                    NaN  NaN          NaN  NaN   \n",
       "\n",
       "      case_number.1 case_number.2 original_order unnamed:_22 unnamed:_23  \n",
       "23235           NaN           NaN            NaN         NaN         NaN  \n",
       "\n",
       "[1 rows x 24 columns]"
      ]
     },
     "execution_count": 16,
     "metadata": {},
     "output_type": "execute_result"
    }
   ],
   "source": [
    "attacks_renombrado = attacks.rename(columns=diccio_nuevas)\n",
    "attacks_renombrado.sample()"
   ]
  },
  {
   "cell_type": "code",
   "execution_count": 17,
   "metadata": {},
   "outputs": [],
   "source": [
    "attacks.rename(columns=diccio_nuevas, inplace=True)"
   ]
  },
  {
   "cell_type": "code",
   "execution_count": 18,
   "metadata": {},
   "outputs": [
    {
     "data": {
      "text/html": [
       "<div>\n",
       "<style scoped>\n",
       "    .dataframe tbody tr th:only-of-type {\n",
       "        vertical-align: middle;\n",
       "    }\n",
       "\n",
       "    .dataframe tbody tr th {\n",
       "        vertical-align: top;\n",
       "    }\n",
       "\n",
       "    .dataframe thead th {\n",
       "        text-align: right;\n",
       "    }\n",
       "</style>\n",
       "<table border=\"1\" class=\"dataframe\">\n",
       "  <thead>\n",
       "    <tr style=\"text-align: right;\">\n",
       "      <th></th>\n",
       "      <th>case_number</th>\n",
       "      <th>date</th>\n",
       "      <th>year</th>\n",
       "      <th>type</th>\n",
       "      <th>country</th>\n",
       "      <th>area</th>\n",
       "      <th>location</th>\n",
       "      <th>activity</th>\n",
       "      <th>name</th>\n",
       "      <th>sex_</th>\n",
       "      <th>...</th>\n",
       "      <th>species_</th>\n",
       "      <th>investigator_or_source</th>\n",
       "      <th>pdf</th>\n",
       "      <th>href_formula</th>\n",
       "      <th>href</th>\n",
       "      <th>case_number.1</th>\n",
       "      <th>case_number.2</th>\n",
       "      <th>original_order</th>\n",
       "      <th>unnamed:_22</th>\n",
       "      <th>unnamed:_23</th>\n",
       "    </tr>\n",
       "  </thead>\n",
       "  <tbody>\n",
       "    <tr>\n",
       "      <th>0</th>\n",
       "      <td>2018.06.25</td>\n",
       "      <td>25-Jun-2018</td>\n",
       "      <td>2018.0</td>\n",
       "      <td>Boating</td>\n",
       "      <td>USA</td>\n",
       "      <td>California</td>\n",
       "      <td>Oceanside, San Diego County</td>\n",
       "      <td>Paddling</td>\n",
       "      <td>Julie Wolfe</td>\n",
       "      <td>F</td>\n",
       "      <td>...</td>\n",
       "      <td>White shark</td>\n",
       "      <td>R. Collier, GSAF</td>\n",
       "      <td>2018.06.25-Wolfe.pdf</td>\n",
       "      <td>http://sharkattackfile.net/spreadsheets/pdf_di...</td>\n",
       "      <td>http://sharkattackfile.net/spreadsheets/pdf_di...</td>\n",
       "      <td>2018.06.25</td>\n",
       "      <td>2018.06.25</td>\n",
       "      <td>6303.0</td>\n",
       "      <td>NaN</td>\n",
       "      <td>NaN</td>\n",
       "    </tr>\n",
       "    <tr>\n",
       "      <th>1</th>\n",
       "      <td>2018.06.18</td>\n",
       "      <td>18-Jun-2018</td>\n",
       "      <td>2018.0</td>\n",
       "      <td>Unprovoked</td>\n",
       "      <td>USA</td>\n",
       "      <td>Georgia</td>\n",
       "      <td>St. Simon Island, Glynn County</td>\n",
       "      <td>Standing</td>\n",
       "      <td>Adyson McNeely</td>\n",
       "      <td>F</td>\n",
       "      <td>...</td>\n",
       "      <td>NaN</td>\n",
       "      <td>K.McMurray, TrackingSharks.com</td>\n",
       "      <td>2018.06.18-McNeely.pdf</td>\n",
       "      <td>http://sharkattackfile.net/spreadsheets/pdf_di...</td>\n",
       "      <td>http://sharkattackfile.net/spreadsheets/pdf_di...</td>\n",
       "      <td>2018.06.18</td>\n",
       "      <td>2018.06.18</td>\n",
       "      <td>6302.0</td>\n",
       "      <td>NaN</td>\n",
       "      <td>NaN</td>\n",
       "    </tr>\n",
       "  </tbody>\n",
       "</table>\n",
       "<p>2 rows × 24 columns</p>\n",
       "</div>"
      ],
      "text/plain": [
       "  case_number         date    year        type country        area  \\\n",
       "0  2018.06.25  25-Jun-2018  2018.0     Boating     USA  California   \n",
       "1  2018.06.18  18-Jun-2018  2018.0  Unprovoked     USA     Georgia   \n",
       "\n",
       "                         location  activity             name sex_  ...  \\\n",
       "0     Oceanside, San Diego County  Paddling      Julie Wolfe    F  ...   \n",
       "1  St. Simon Island, Glynn County  Standing  Adyson McNeely     F  ...   \n",
       "\n",
       "      species_          investigator_or_source                     pdf  \\\n",
       "0  White shark                R. Collier, GSAF    2018.06.25-Wolfe.pdf   \n",
       "1          NaN  K.McMurray, TrackingSharks.com  2018.06.18-McNeely.pdf   \n",
       "\n",
       "                                        href_formula  \\\n",
       "0  http://sharkattackfile.net/spreadsheets/pdf_di...   \n",
       "1  http://sharkattackfile.net/spreadsheets/pdf_di...   \n",
       "\n",
       "                                                href case_number.1  \\\n",
       "0  http://sharkattackfile.net/spreadsheets/pdf_di...    2018.06.25   \n",
       "1  http://sharkattackfile.net/spreadsheets/pdf_di...    2018.06.18   \n",
       "\n",
       "  case_number.2 original_order unnamed:_22 unnamed:_23  \n",
       "0    2018.06.25         6303.0         NaN         NaN  \n",
       "1    2018.06.18         6302.0         NaN         NaN  \n",
       "\n",
       "[2 rows x 24 columns]"
      ]
     },
     "execution_count": 18,
     "metadata": {},
     "output_type": "execute_result"
    }
   ],
   "source": [
    "attacks.head(2)"
   ]
  },
  {
   "cell_type": "markdown",
   "metadata": {},
   "source": [
    "Compruebo los datos que no son Nan en la columna unnamed:_23 para ver si hay algún dato relevante."
   ]
  },
  {
   "cell_type": "code",
   "execution_count": 19,
   "metadata": {},
   "outputs": [
    {
     "data": {
      "text/html": [
       "<div>\n",
       "<style scoped>\n",
       "    .dataframe tbody tr th:only-of-type {\n",
       "        vertical-align: middle;\n",
       "    }\n",
       "\n",
       "    .dataframe tbody tr th {\n",
       "        vertical-align: top;\n",
       "    }\n",
       "\n",
       "    .dataframe thead th {\n",
       "        text-align: right;\n",
       "    }\n",
       "</style>\n",
       "<table border=\"1\" class=\"dataframe\">\n",
       "  <thead>\n",
       "    <tr style=\"text-align: right;\">\n",
       "      <th></th>\n",
       "      <th>case_number</th>\n",
       "      <th>date</th>\n",
       "      <th>year</th>\n",
       "      <th>type</th>\n",
       "      <th>country</th>\n",
       "      <th>area</th>\n",
       "      <th>location</th>\n",
       "      <th>activity</th>\n",
       "      <th>name</th>\n",
       "      <th>sex_</th>\n",
       "      <th>...</th>\n",
       "      <th>species_</th>\n",
       "      <th>investigator_or_source</th>\n",
       "      <th>pdf</th>\n",
       "      <th>href_formula</th>\n",
       "      <th>href</th>\n",
       "      <th>case_number.1</th>\n",
       "      <th>case_number.2</th>\n",
       "      <th>original_order</th>\n",
       "      <th>unnamed:_22</th>\n",
       "      <th>unnamed:_23</th>\n",
       "    </tr>\n",
       "  </thead>\n",
       "  <tbody>\n",
       "    <tr>\n",
       "      <th>4415</th>\n",
       "      <td>1952.03.30</td>\n",
       "      <td>30-Mar-1952</td>\n",
       "      <td>1952.0</td>\n",
       "      <td>Unprovoked</td>\n",
       "      <td>NETHERLANDS ANTILLES</td>\n",
       "      <td>Curacao</td>\n",
       "      <td>NaN</td>\n",
       "      <td>Went to aid of child being menaced by the shark</td>\n",
       "      <td>A.J. Eggink</td>\n",
       "      <td>M</td>\n",
       "      <td>...</td>\n",
       "      <td>Bull shark, 2.7 m [9'] was captured &amp; dragged ...</td>\n",
       "      <td>J. Randall, p.352 in Sharks &amp; Survival; H.D. B...</td>\n",
       "      <td>1952.03.30-Eggink.pdf</td>\n",
       "      <td>http://sharkattackfile.net/spreadsheets/pdf_di...</td>\n",
       "      <td>http://sharkattackfile.net/spreadsheets/pdf_di...</td>\n",
       "      <td>1952.03.30</td>\n",
       "      <td>1952.03.30</td>\n",
       "      <td>1888.0</td>\n",
       "      <td>NaN</td>\n",
       "      <td>Teramo</td>\n",
       "    </tr>\n",
       "    <tr>\n",
       "      <th>5840</th>\n",
       "      <td>1878.09.14.R</td>\n",
       "      <td>Reported 14-Sep-1878</td>\n",
       "      <td>1878.0</td>\n",
       "      <td>Provoked</td>\n",
       "      <td>USA</td>\n",
       "      <td>Connecticut</td>\n",
       "      <td>Branford, New Haven County</td>\n",
       "      <td>Fishing</td>\n",
       "      <td>Captain Pattison</td>\n",
       "      <td>M</td>\n",
       "      <td>...</td>\n",
       "      <td>NaN</td>\n",
       "      <td>St. Joseph Herald, 9/14/1878</td>\n",
       "      <td>1878.09.14.R-Pattison.pdf</td>\n",
       "      <td>http://sharkattackfile.net/spreadsheets/pdf_di...</td>\n",
       "      <td>http://sharkattackfile.net/spreadsheets/pdf_di...</td>\n",
       "      <td>1878.09.14.R</td>\n",
       "      <td>1878.09.14.R</td>\n",
       "      <td>463.0</td>\n",
       "      <td>NaN</td>\n",
       "      <td>change filename</td>\n",
       "    </tr>\n",
       "  </tbody>\n",
       "</table>\n",
       "<p>2 rows × 24 columns</p>\n",
       "</div>"
      ],
      "text/plain": [
       "       case_number                  date    year        type  \\\n",
       "4415    1952.03.30           30-Mar-1952  1952.0  Unprovoked   \n",
       "5840  1878.09.14.R  Reported 14-Sep-1878  1878.0    Provoked   \n",
       "\n",
       "                   country         area                    location  \\\n",
       "4415  NETHERLANDS ANTILLES      Curacao                         NaN   \n",
       "5840                   USA  Connecticut  Branford, New Haven County   \n",
       "\n",
       "                                             activity              name sex_  \\\n",
       "4415  Went to aid of child being menaced by the shark       A.J. Eggink    M   \n",
       "5840                                          Fishing  Captain Pattison    M   \n",
       "\n",
       "      ...                                           species_  \\\n",
       "4415  ...  Bull shark, 2.7 m [9'] was captured & dragged ...   \n",
       "5840  ...                                                NaN   \n",
       "\n",
       "                                 investigator_or_source  \\\n",
       "4415  J. Randall, p.352 in Sharks & Survival; H.D. B...   \n",
       "5840                       St. Joseph Herald, 9/14/1878   \n",
       "\n",
       "                            pdf  \\\n",
       "4415      1952.03.30-Eggink.pdf   \n",
       "5840  1878.09.14.R-Pattison.pdf   \n",
       "\n",
       "                                           href_formula  \\\n",
       "4415  http://sharkattackfile.net/spreadsheets/pdf_di...   \n",
       "5840  http://sharkattackfile.net/spreadsheets/pdf_di...   \n",
       "\n",
       "                                                   href case_number.1  \\\n",
       "4415  http://sharkattackfile.net/spreadsheets/pdf_di...    1952.03.30   \n",
       "5840  http://sharkattackfile.net/spreadsheets/pdf_di...  1878.09.14.R   \n",
       "\n",
       "     case_number.2 original_order unnamed:_22      unnamed:_23  \n",
       "4415    1952.03.30         1888.0         NaN           Teramo  \n",
       "5840  1878.09.14.R          463.0         NaN  change filename  \n",
       "\n",
       "[2 rows x 24 columns]"
      ]
     },
     "execution_count": 19,
     "metadata": {},
     "output_type": "execute_result"
    }
   ],
   "source": [
    "\n",
    "attacks[attacks[\"unnamed:_23\"].notna()]"
   ]
  },
  {
   "cell_type": "markdown",
   "metadata": {},
   "source": [
    "Elimino los paréntesis de la columna fatal para poder ver más adelante las muertes."
   ]
  },
  {
   "cell_type": "code",
   "execution_count": 20,
   "metadata": {},
   "outputs": [],
   "source": [
    "columnas_1 = list(attacks.columns)"
   ]
  },
  {
   "cell_type": "code",
   "execution_count": 21,
   "metadata": {},
   "outputs": [],
   "source": [
    "diccio_nuevas_1 = {columna: columna.replace(\"(y/n)\", \"\") for columna in columnas_1}"
   ]
  },
  {
   "cell_type": "code",
   "execution_count": 22,
   "metadata": {},
   "outputs": [
    {
     "data": {
      "text/plain": [
       "{'case_number': 'case_number',\n",
       " 'date': 'date',\n",
       " 'year': 'year',\n",
       " 'type': 'type',\n",
       " 'country': 'country',\n",
       " 'area': 'area',\n",
       " 'location': 'location',\n",
       " 'activity': 'activity',\n",
       " 'name': 'name',\n",
       " 'sex_': 'sex_',\n",
       " 'age': 'age',\n",
       " 'injury': 'injury',\n",
       " 'fatal_(y/n)': 'fatal_',\n",
       " 'time': 'time',\n",
       " 'species_': 'species_',\n",
       " 'investigator_or_source': 'investigator_or_source',\n",
       " 'pdf': 'pdf',\n",
       " 'href_formula': 'href_formula',\n",
       " 'href': 'href',\n",
       " 'case_number.1': 'case_number.1',\n",
       " 'case_number.2': 'case_number.2',\n",
       " 'original_order': 'original_order',\n",
       " 'unnamed:_22': 'unnamed:_22',\n",
       " 'unnamed:_23': 'unnamed:_23'}"
      ]
     },
     "execution_count": 22,
     "metadata": {},
     "output_type": "execute_result"
    }
   ],
   "source": [
    "diccio_nuevas_1"
   ]
  },
  {
   "cell_type": "code",
   "execution_count": 23,
   "metadata": {},
   "outputs": [
    {
     "data": {
      "text/html": [
       "<div>\n",
       "<style scoped>\n",
       "    .dataframe tbody tr th:only-of-type {\n",
       "        vertical-align: middle;\n",
       "    }\n",
       "\n",
       "    .dataframe tbody tr th {\n",
       "        vertical-align: top;\n",
       "    }\n",
       "\n",
       "    .dataframe thead th {\n",
       "        text-align: right;\n",
       "    }\n",
       "</style>\n",
       "<table border=\"1\" class=\"dataframe\">\n",
       "  <thead>\n",
       "    <tr style=\"text-align: right;\">\n",
       "      <th></th>\n",
       "      <th>case_number</th>\n",
       "      <th>date</th>\n",
       "      <th>year</th>\n",
       "      <th>type</th>\n",
       "      <th>country</th>\n",
       "      <th>area</th>\n",
       "      <th>location</th>\n",
       "      <th>activity</th>\n",
       "      <th>name</th>\n",
       "      <th>sex_</th>\n",
       "      <th>...</th>\n",
       "      <th>species_</th>\n",
       "      <th>investigator_or_source</th>\n",
       "      <th>pdf</th>\n",
       "      <th>href_formula</th>\n",
       "      <th>href</th>\n",
       "      <th>case_number.1</th>\n",
       "      <th>case_number.2</th>\n",
       "      <th>original_order</th>\n",
       "      <th>unnamed:_22</th>\n",
       "      <th>unnamed:_23</th>\n",
       "    </tr>\n",
       "  </thead>\n",
       "  <tbody>\n",
       "    <tr>\n",
       "      <th>324</th>\n",
       "      <td>2015.12.21.a</td>\n",
       "      <td>21-Dec-2015</td>\n",
       "      <td>2015.0</td>\n",
       "      <td>Unprovoked</td>\n",
       "      <td>BRAZIL</td>\n",
       "      <td>Pernambuco</td>\n",
       "      <td>Fernano de Noronha</td>\n",
       "      <td>Scuba diving</td>\n",
       "      <td>Márcio de Castro Palma</td>\n",
       "      <td>M</td>\n",
       "      <td>...</td>\n",
       "      <td>Tiger shark, 1.5 m</td>\n",
       "      <td>Fox News, 12/22/2015</td>\n",
       "      <td>2015.12.21.a-Brazil.pdf</td>\n",
       "      <td>http://sharkattackfile.net/spreadsheets/pdf_di...</td>\n",
       "      <td>http://sharkattackfile.net/spreadsheets/pdf_di...</td>\n",
       "      <td>2015.12.21.a</td>\n",
       "      <td>2015.12.21.a</td>\n",
       "      <td>5979.0</td>\n",
       "      <td>NaN</td>\n",
       "      <td>NaN</td>\n",
       "    </tr>\n",
       "  </tbody>\n",
       "</table>\n",
       "<p>1 rows × 24 columns</p>\n",
       "</div>"
      ],
      "text/plain": [
       "      case_number         date    year        type country        area  \\\n",
       "324  2015.12.21.a  21-Dec-2015  2015.0  Unprovoked  BRAZIL  Pernambuco   \n",
       "\n",
       "               location      activity                     name sex_  ...  \\\n",
       "324  Fernano de Noronha  Scuba diving  Márcio de Castro Palma     M  ...   \n",
       "\n",
       "                species_ investigator_or_source                      pdf  \\\n",
       "324  Tiger shark, 1.5 m    Fox News, 12/22/2015  2015.12.21.a-Brazil.pdf   \n",
       "\n",
       "                                          href_formula  \\\n",
       "324  http://sharkattackfile.net/spreadsheets/pdf_di...   \n",
       "\n",
       "                                                  href case_number.1  \\\n",
       "324  http://sharkattackfile.net/spreadsheets/pdf_di...  2015.12.21.a   \n",
       "\n",
       "    case_number.2 original_order unnamed:_22 unnamed:_23  \n",
       "324  2015.12.21.a         5979.0         NaN         NaN  \n",
       "\n",
       "[1 rows x 24 columns]"
      ]
     },
     "execution_count": 23,
     "metadata": {},
     "output_type": "execute_result"
    }
   ],
   "source": [
    "attacks_renombrado = attacks.rename(columns=diccio_nuevas_1)\n",
    "attacks_renombrado.sample()"
   ]
  },
  {
   "cell_type": "code",
   "execution_count": 24,
   "metadata": {},
   "outputs": [],
   "source": [
    "attacks.rename(columns=diccio_nuevas_1, inplace=True)"
   ]
  },
  {
   "cell_type": "code",
   "execution_count": 25,
   "metadata": {},
   "outputs": [
    {
     "data": {
      "text/html": [
       "<div>\n",
       "<style scoped>\n",
       "    .dataframe tbody tr th:only-of-type {\n",
       "        vertical-align: middle;\n",
       "    }\n",
       "\n",
       "    .dataframe tbody tr th {\n",
       "        vertical-align: top;\n",
       "    }\n",
       "\n",
       "    .dataframe thead th {\n",
       "        text-align: right;\n",
       "    }\n",
       "</style>\n",
       "<table border=\"1\" class=\"dataframe\">\n",
       "  <thead>\n",
       "    <tr style=\"text-align: right;\">\n",
       "      <th></th>\n",
       "      <th>case_number</th>\n",
       "      <th>date</th>\n",
       "      <th>year</th>\n",
       "      <th>type</th>\n",
       "      <th>country</th>\n",
       "      <th>area</th>\n",
       "      <th>location</th>\n",
       "      <th>activity</th>\n",
       "      <th>name</th>\n",
       "      <th>sex_</th>\n",
       "      <th>...</th>\n",
       "      <th>species_</th>\n",
       "      <th>investigator_or_source</th>\n",
       "      <th>pdf</th>\n",
       "      <th>href_formula</th>\n",
       "      <th>href</th>\n",
       "      <th>case_number.1</th>\n",
       "      <th>case_number.2</th>\n",
       "      <th>original_order</th>\n",
       "      <th>unnamed:_22</th>\n",
       "      <th>unnamed:_23</th>\n",
       "    </tr>\n",
       "  </thead>\n",
       "  <tbody>\n",
       "    <tr>\n",
       "      <th>0</th>\n",
       "      <td>2018.06.25</td>\n",
       "      <td>25-Jun-2018</td>\n",
       "      <td>2018.0</td>\n",
       "      <td>Boating</td>\n",
       "      <td>USA</td>\n",
       "      <td>California</td>\n",
       "      <td>Oceanside, San Diego County</td>\n",
       "      <td>Paddling</td>\n",
       "      <td>Julie Wolfe</td>\n",
       "      <td>F</td>\n",
       "      <td>...</td>\n",
       "      <td>White shark</td>\n",
       "      <td>R. Collier, GSAF</td>\n",
       "      <td>2018.06.25-Wolfe.pdf</td>\n",
       "      <td>http://sharkattackfile.net/spreadsheets/pdf_di...</td>\n",
       "      <td>http://sharkattackfile.net/spreadsheets/pdf_di...</td>\n",
       "      <td>2018.06.25</td>\n",
       "      <td>2018.06.25</td>\n",
       "      <td>6303.0</td>\n",
       "      <td>NaN</td>\n",
       "      <td>NaN</td>\n",
       "    </tr>\n",
       "    <tr>\n",
       "      <th>1</th>\n",
       "      <td>2018.06.18</td>\n",
       "      <td>18-Jun-2018</td>\n",
       "      <td>2018.0</td>\n",
       "      <td>Unprovoked</td>\n",
       "      <td>USA</td>\n",
       "      <td>Georgia</td>\n",
       "      <td>St. Simon Island, Glynn County</td>\n",
       "      <td>Standing</td>\n",
       "      <td>Adyson McNeely</td>\n",
       "      <td>F</td>\n",
       "      <td>...</td>\n",
       "      <td>NaN</td>\n",
       "      <td>K.McMurray, TrackingSharks.com</td>\n",
       "      <td>2018.06.18-McNeely.pdf</td>\n",
       "      <td>http://sharkattackfile.net/spreadsheets/pdf_di...</td>\n",
       "      <td>http://sharkattackfile.net/spreadsheets/pdf_di...</td>\n",
       "      <td>2018.06.18</td>\n",
       "      <td>2018.06.18</td>\n",
       "      <td>6302.0</td>\n",
       "      <td>NaN</td>\n",
       "      <td>NaN</td>\n",
       "    </tr>\n",
       "  </tbody>\n",
       "</table>\n",
       "<p>2 rows × 24 columns</p>\n",
       "</div>"
      ],
      "text/plain": [
       "  case_number         date    year        type country        area  \\\n",
       "0  2018.06.25  25-Jun-2018  2018.0     Boating     USA  California   \n",
       "1  2018.06.18  18-Jun-2018  2018.0  Unprovoked     USA     Georgia   \n",
       "\n",
       "                         location  activity             name sex_  ...  \\\n",
       "0     Oceanside, San Diego County  Paddling      Julie Wolfe    F  ...   \n",
       "1  St. Simon Island, Glynn County  Standing  Adyson McNeely     F  ...   \n",
       "\n",
       "      species_          investigator_or_source                     pdf  \\\n",
       "0  White shark                R. Collier, GSAF    2018.06.25-Wolfe.pdf   \n",
       "1          NaN  K.McMurray, TrackingSharks.com  2018.06.18-McNeely.pdf   \n",
       "\n",
       "                                        href_formula  \\\n",
       "0  http://sharkattackfile.net/spreadsheets/pdf_di...   \n",
       "1  http://sharkattackfile.net/spreadsheets/pdf_di...   \n",
       "\n",
       "                                                href case_number.1  \\\n",
       "0  http://sharkattackfile.net/spreadsheets/pdf_di...    2018.06.25   \n",
       "1  http://sharkattackfile.net/spreadsheets/pdf_di...    2018.06.18   \n",
       "\n",
       "  case_number.2 original_order unnamed:_22 unnamed:_23  \n",
       "0    2018.06.25         6303.0         NaN         NaN  \n",
       "1    2018.06.18         6302.0         NaN         NaN  \n",
       "\n",
       "[2 rows x 24 columns]"
      ]
     },
     "execution_count": 25,
     "metadata": {},
     "output_type": "execute_result"
    }
   ],
   "source": [
    "attacks.head(2)"
   ]
  },
  {
   "cell_type": "markdown",
   "metadata": {},
   "source": [
    "ELIMINO COLUMNAS y FILAS que no me aportan valor."
   ]
  },
  {
   "cell_type": "markdown",
   "metadata": {},
   "source": [
    "1- COLUMNAS"
   ]
  },
  {
   "cell_type": "markdown",
   "metadata": {},
   "source": [
    "Elimino columnas que no aportan nada por significado."
   ]
  },
  {
   "cell_type": "code",
   "execution_count": 26,
   "metadata": {},
   "outputs": [],
   "source": [
    "attacks.drop([\"pdf\", \"href_formula\",\"href\",\"unnamed:_22\", \"unnamed:_23\"],axis=1,inplace=True)"
   ]
  },
  {
   "cell_type": "code",
   "execution_count": 27,
   "metadata": {},
   "outputs": [
    {
     "data": {
      "text/html": [
       "<div>\n",
       "<style scoped>\n",
       "    .dataframe tbody tr th:only-of-type {\n",
       "        vertical-align: middle;\n",
       "    }\n",
       "\n",
       "    .dataframe tbody tr th {\n",
       "        vertical-align: top;\n",
       "    }\n",
       "\n",
       "    .dataframe thead th {\n",
       "        text-align: right;\n",
       "    }\n",
       "</style>\n",
       "<table border=\"1\" class=\"dataframe\">\n",
       "  <thead>\n",
       "    <tr style=\"text-align: right;\">\n",
       "      <th></th>\n",
       "      <th>case_number</th>\n",
       "      <th>date</th>\n",
       "      <th>year</th>\n",
       "      <th>type</th>\n",
       "      <th>country</th>\n",
       "      <th>area</th>\n",
       "      <th>location</th>\n",
       "      <th>activity</th>\n",
       "      <th>name</th>\n",
       "      <th>sex_</th>\n",
       "      <th>age</th>\n",
       "      <th>injury</th>\n",
       "      <th>fatal_</th>\n",
       "      <th>time</th>\n",
       "      <th>species_</th>\n",
       "      <th>investigator_or_source</th>\n",
       "      <th>case_number.1</th>\n",
       "      <th>case_number.2</th>\n",
       "      <th>original_order</th>\n",
       "    </tr>\n",
       "  </thead>\n",
       "  <tbody>\n",
       "    <tr>\n",
       "      <th>0</th>\n",
       "      <td>2018.06.25</td>\n",
       "      <td>25-Jun-2018</td>\n",
       "      <td>2018.0</td>\n",
       "      <td>Boating</td>\n",
       "      <td>USA</td>\n",
       "      <td>California</td>\n",
       "      <td>Oceanside, San Diego County</td>\n",
       "      <td>Paddling</td>\n",
       "      <td>Julie Wolfe</td>\n",
       "      <td>F</td>\n",
       "      <td>57</td>\n",
       "      <td>No injury to occupant, outrigger canoe and pad...</td>\n",
       "      <td>N</td>\n",
       "      <td>18h00</td>\n",
       "      <td>White shark</td>\n",
       "      <td>R. Collier, GSAF</td>\n",
       "      <td>2018.06.25</td>\n",
       "      <td>2018.06.25</td>\n",
       "      <td>6303.0</td>\n",
       "    </tr>\n",
       "    <tr>\n",
       "      <th>1</th>\n",
       "      <td>2018.06.18</td>\n",
       "      <td>18-Jun-2018</td>\n",
       "      <td>2018.0</td>\n",
       "      <td>Unprovoked</td>\n",
       "      <td>USA</td>\n",
       "      <td>Georgia</td>\n",
       "      <td>St. Simon Island, Glynn County</td>\n",
       "      <td>Standing</td>\n",
       "      <td>Adyson McNeely</td>\n",
       "      <td>F</td>\n",
       "      <td>11</td>\n",
       "      <td>Minor injury to left thigh</td>\n",
       "      <td>N</td>\n",
       "      <td>14h00  -15h00</td>\n",
       "      <td>NaN</td>\n",
       "      <td>K.McMurray, TrackingSharks.com</td>\n",
       "      <td>2018.06.18</td>\n",
       "      <td>2018.06.18</td>\n",
       "      <td>6302.0</td>\n",
       "    </tr>\n",
       "  </tbody>\n",
       "</table>\n",
       "</div>"
      ],
      "text/plain": [
       "  case_number         date    year        type country        area  \\\n",
       "0  2018.06.25  25-Jun-2018  2018.0     Boating     USA  California   \n",
       "1  2018.06.18  18-Jun-2018  2018.0  Unprovoked     USA     Georgia   \n",
       "\n",
       "                         location  activity             name sex_ age  \\\n",
       "0     Oceanside, San Diego County  Paddling      Julie Wolfe    F  57   \n",
       "1  St. Simon Island, Glynn County  Standing  Adyson McNeely     F  11   \n",
       "\n",
       "                                              injury fatal_           time  \\\n",
       "0  No injury to occupant, outrigger canoe and pad...      N          18h00   \n",
       "1                         Minor injury to left thigh      N  14h00  -15h00   \n",
       "\n",
       "      species_          investigator_or_source case_number.1 case_number.2  \\\n",
       "0  White shark                R. Collier, GSAF    2018.06.25    2018.06.25   \n",
       "1          NaN  K.McMurray, TrackingSharks.com    2018.06.18    2018.06.18   \n",
       "\n",
       "   original_order  \n",
       "0          6303.0  \n",
       "1          6302.0  "
      ]
     },
     "execution_count": 27,
     "metadata": {},
     "output_type": "execute_result"
    }
   ],
   "source": [
    "attacks.head(2)"
   ]
  },
  {
   "cell_type": "markdown",
   "metadata": {},
   "source": [
    "Aquí, elimino columnas que no aportan nada a mis hipótesis."
   ]
  },
  {
   "cell_type": "code",
   "execution_count": 28,
   "metadata": {},
   "outputs": [],
   "source": [
    "attacks.drop([\"time\", \"species_\",\"investigator_or_source\",\"case_number.1\", \"case_number.2\", \"original_order\"],axis=1,inplace=True)"
   ]
  },
  {
   "cell_type": "code",
   "execution_count": 29,
   "metadata": {},
   "outputs": [
    {
     "data": {
      "text/html": [
       "<div>\n",
       "<style scoped>\n",
       "    .dataframe tbody tr th:only-of-type {\n",
       "        vertical-align: middle;\n",
       "    }\n",
       "\n",
       "    .dataframe tbody tr th {\n",
       "        vertical-align: top;\n",
       "    }\n",
       "\n",
       "    .dataframe thead th {\n",
       "        text-align: right;\n",
       "    }\n",
       "</style>\n",
       "<table border=\"1\" class=\"dataframe\">\n",
       "  <thead>\n",
       "    <tr style=\"text-align: right;\">\n",
       "      <th></th>\n",
       "      <th>case_number</th>\n",
       "      <th>date</th>\n",
       "      <th>year</th>\n",
       "      <th>type</th>\n",
       "      <th>country</th>\n",
       "      <th>area</th>\n",
       "      <th>location</th>\n",
       "      <th>activity</th>\n",
       "      <th>name</th>\n",
       "      <th>sex_</th>\n",
       "      <th>age</th>\n",
       "      <th>injury</th>\n",
       "      <th>fatal_</th>\n",
       "    </tr>\n",
       "  </thead>\n",
       "  <tbody>\n",
       "    <tr>\n",
       "      <th>0</th>\n",
       "      <td>2018.06.25</td>\n",
       "      <td>25-Jun-2018</td>\n",
       "      <td>2018.0</td>\n",
       "      <td>Boating</td>\n",
       "      <td>USA</td>\n",
       "      <td>California</td>\n",
       "      <td>Oceanside, San Diego County</td>\n",
       "      <td>Paddling</td>\n",
       "      <td>Julie Wolfe</td>\n",
       "      <td>F</td>\n",
       "      <td>57</td>\n",
       "      <td>No injury to occupant, outrigger canoe and pad...</td>\n",
       "      <td>N</td>\n",
       "    </tr>\n",
       "    <tr>\n",
       "      <th>1</th>\n",
       "      <td>2018.06.18</td>\n",
       "      <td>18-Jun-2018</td>\n",
       "      <td>2018.0</td>\n",
       "      <td>Unprovoked</td>\n",
       "      <td>USA</td>\n",
       "      <td>Georgia</td>\n",
       "      <td>St. Simon Island, Glynn County</td>\n",
       "      <td>Standing</td>\n",
       "      <td>Adyson McNeely</td>\n",
       "      <td>F</td>\n",
       "      <td>11</td>\n",
       "      <td>Minor injury to left thigh</td>\n",
       "      <td>N</td>\n",
       "    </tr>\n",
       "  </tbody>\n",
       "</table>\n",
       "</div>"
      ],
      "text/plain": [
       "  case_number         date    year        type country        area  \\\n",
       "0  2018.06.25  25-Jun-2018  2018.0     Boating     USA  California   \n",
       "1  2018.06.18  18-Jun-2018  2018.0  Unprovoked     USA     Georgia   \n",
       "\n",
       "                         location  activity             name sex_ age  \\\n",
       "0     Oceanside, San Diego County  Paddling      Julie Wolfe    F  57   \n",
       "1  St. Simon Island, Glynn County  Standing  Adyson McNeely     F  11   \n",
       "\n",
       "                                              injury fatal_  \n",
       "0  No injury to occupant, outrigger canoe and pad...      N  \n",
       "1                         Minor injury to left thigh      N  "
      ]
     },
     "execution_count": 29,
     "metadata": {},
     "output_type": "execute_result"
    }
   ],
   "source": [
    "attacks.head(2)"
   ]
  },
  {
   "cell_type": "markdown",
   "metadata": {},
   "source": [
    "2-FILAS.\n",
    "\n",
    "Elimino las filas en las que sus valores son todo NaN; no aporta nada. \n",
    "\n",
    "Para este paso he cambiado de data frame por si metía la pata. A apartir de aquí trabajo con el data frame \"sharks\""
   ]
  },
  {
   "cell_type": "code",
   "execution_count": 30,
   "metadata": {},
   "outputs": [],
   "source": [
    "sharks = attacks.dropna(how=\"all\", axis=0)"
   ]
  },
  {
   "cell_type": "code",
   "execution_count": 31,
   "metadata": {},
   "outputs": [
    {
     "data": {
      "text/plain": [
       "(8703, 13)"
      ]
     },
     "execution_count": 31,
     "metadata": {},
     "output_type": "execute_result"
    }
   ],
   "source": [
    "sharks.shape"
   ]
  },
  {
   "cell_type": "markdown",
   "metadata": {},
   "source": [
    "# LIMPIEZA por columnas.\n",
    "COLUMNA; case_number"
   ]
  },
  {
   "cell_type": "markdown",
   "metadata": {},
   "source": []
  },
  {
   "cell_type": "markdown",
   "metadata": {},
   "source": [
    "Elimino los \".letra\" de todos los case_number. Aunque no aporta much valor, como hice ya esta limpieza, lo dejo indicado."
   ]
  },
  {
   "cell_type": "code",
   "execution_count": 32,
   "metadata": {},
   "outputs": [],
   "source": [
    "case_number = list(attacks.case_number.unique())"
   ]
  },
  {
   "cell_type": "code",
   "execution_count": 33,
   "metadata": {},
   "outputs": [
    {
     "data": {
      "text/plain": [
       "'def quitar_a(x):\\n    if \".a\" in str(x):\\n        return x.replace(\".a\", \"\")\\n    else:\\n        return x'"
      ]
     },
     "execution_count": 33,
     "metadata": {},
     "output_type": "execute_result"
    }
   ],
   "source": [
    "\"\"\"def quitar_a(x):\n",
    "    if \".a\" in str(x):\n",
    "        return x.replace(\".a\", \"\")\n",
    "    else:\n",
    "        return x\"\"\""
   ]
  },
  {
   "cell_type": "code",
   "execution_count": 34,
   "metadata": {},
   "outputs": [
    {
     "data": {
      "text/plain": [
       "<function src.cleaning.quitar_a(x)>"
      ]
     },
     "execution_count": 34,
     "metadata": {},
     "output_type": "execute_result"
    }
   ],
   "source": [
    "quitar_a"
   ]
  },
  {
   "cell_type": "code",
   "execution_count": 35,
   "metadata": {
    "scrolled": false
   },
   "outputs": [
    {
     "name": "stderr",
     "output_type": "stream",
     "text": [
      "<ipython-input-35-b9e4096ae751>:1: SettingWithCopyWarning: \n",
      "A value is trying to be set on a copy of a slice from a DataFrame.\n",
      "Try using .loc[row_indexer,col_indexer] = value instead\n",
      "\n",
      "See the caveats in the documentation: https://pandas.pydata.org/pandas-docs/stable/user_guide/indexing.html#returning-a-view-versus-a-copy\n",
      "  sharks[\"case_number\"] = sharks.case_number.apply(quitar_a)\n"
     ]
    }
   ],
   "source": [
    "sharks[\"case_number\"] = sharks.case_number.apply(quitar_a)"
   ]
  },
  {
   "cell_type": "code",
   "execution_count": 36,
   "metadata": {},
   "outputs": [
    {
     "data": {
      "text/plain": [
       "'def quitar_b(x):\\n    if \".b\" in str(x):\\n        return x.replace(\".b\", \"\")\\n    else:\\n        return x'"
      ]
     },
     "execution_count": 36,
     "metadata": {},
     "output_type": "execute_result"
    }
   ],
   "source": [
    "\"\"\"def quitar_b(x):\n",
    "    if \".b\" in str(x):\n",
    "        return x.replace(\".b\", \"\")\n",
    "    else:\n",
    "        return x\"\"\""
   ]
  },
  {
   "cell_type": "code",
   "execution_count": 37,
   "metadata": {},
   "outputs": [
    {
     "data": {
      "text/plain": [
       "<function src.cleaning.quitar_b(x)>"
      ]
     },
     "execution_count": 37,
     "metadata": {},
     "output_type": "execute_result"
    }
   ],
   "source": [
    "quitar_b"
   ]
  },
  {
   "cell_type": "code",
   "execution_count": 38,
   "metadata": {},
   "outputs": [
    {
     "name": "stderr",
     "output_type": "stream",
     "text": [
      "<ipython-input-38-7a0d2429a33b>:1: SettingWithCopyWarning: \n",
      "A value is trying to be set on a copy of a slice from a DataFrame.\n",
      "Try using .loc[row_indexer,col_indexer] = value instead\n",
      "\n",
      "See the caveats in the documentation: https://pandas.pydata.org/pandas-docs/stable/user_guide/indexing.html#returning-a-view-versus-a-copy\n",
      "  sharks[\"case_number\"] = sharks.case_number.apply(quitar_b)\n"
     ]
    }
   ],
   "source": [
    "sharks[\"case_number\"] = sharks.case_number.apply(quitar_b)"
   ]
  },
  {
   "cell_type": "code",
   "execution_count": 39,
   "metadata": {},
   "outputs": [
    {
     "data": {
      "text/plain": [
       "'def quitar_c(x):\\n    if \".c\" in str(x):\\n        return x.replace(\".c\", \"\")\\n    else:\\n        return x'"
      ]
     },
     "execution_count": 39,
     "metadata": {},
     "output_type": "execute_result"
    }
   ],
   "source": [
    "\"\"\"def quitar_c(x):\n",
    "    if \".c\" in str(x):\n",
    "        return x.replace(\".c\", \"\")\n",
    "    else:\n",
    "        return x\"\"\""
   ]
  },
  {
   "cell_type": "code",
   "execution_count": 40,
   "metadata": {},
   "outputs": [
    {
     "data": {
      "text/plain": [
       "<function src.cleaning.quitar_c(x)>"
      ]
     },
     "execution_count": 40,
     "metadata": {},
     "output_type": "execute_result"
    }
   ],
   "source": [
    "quitar_c"
   ]
  },
  {
   "cell_type": "code",
   "execution_count": 41,
   "metadata": {},
   "outputs": [
    {
     "name": "stderr",
     "output_type": "stream",
     "text": [
      "<ipython-input-41-560dba157aa4>:1: SettingWithCopyWarning: \n",
      "A value is trying to be set on a copy of a slice from a DataFrame.\n",
      "Try using .loc[row_indexer,col_indexer] = value instead\n",
      "\n",
      "See the caveats in the documentation: https://pandas.pydata.org/pandas-docs/stable/user_guide/indexing.html#returning-a-view-versus-a-copy\n",
      "  sharks[\"case_number\"] = sharks.case_number.apply(quitar_c)\n"
     ]
    }
   ],
   "source": [
    "sharks[\"case_number\"] = sharks.case_number.apply(quitar_c)"
   ]
  },
  {
   "cell_type": "code",
   "execution_count": 42,
   "metadata": {},
   "outputs": [
    {
     "data": {
      "text/plain": [
       "'def quitar_d(x):\\n    if \".c\" in str(x):\\n        return x.replace(\".d\", \"\")\\n    else:\\n        return x'"
      ]
     },
     "execution_count": 42,
     "metadata": {},
     "output_type": "execute_result"
    }
   ],
   "source": [
    "\"\"\"def quitar_d(x):\n",
    "    if \".c\" in str(x):\n",
    "        return x.replace(\".d\", \"\")\n",
    "    else:\n",
    "        return x\"\"\""
   ]
  },
  {
   "cell_type": "code",
   "execution_count": 43,
   "metadata": {},
   "outputs": [
    {
     "data": {
      "text/plain": [
       "<function src.cleaning.quitar_d(x)>"
      ]
     },
     "execution_count": 43,
     "metadata": {},
     "output_type": "execute_result"
    }
   ],
   "source": [
    "quitar_d"
   ]
  },
  {
   "cell_type": "code",
   "execution_count": 44,
   "metadata": {},
   "outputs": [
    {
     "name": "stderr",
     "output_type": "stream",
     "text": [
      "<ipython-input-44-327631ea2d19>:1: SettingWithCopyWarning: \n",
      "A value is trying to be set on a copy of a slice from a DataFrame.\n",
      "Try using .loc[row_indexer,col_indexer] = value instead\n",
      "\n",
      "See the caveats in the documentation: https://pandas.pydata.org/pandas-docs/stable/user_guide/indexing.html#returning-a-view-versus-a-copy\n",
      "  sharks[\"case_number\"] = sharks.case_number.apply(quitar_d)\n"
     ]
    }
   ],
   "source": [
    "sharks[\"case_number\"] = sharks.case_number.apply(quitar_d)"
   ]
  },
  {
   "cell_type": "code",
   "execution_count": 45,
   "metadata": {},
   "outputs": [
    {
     "data": {
      "text/plain": [
       "'def quitar_R(x):\\n    if \".R\" in str(x):\\n        return x.replace(\".R\", \"\")\\n    else:\\n        return x'"
      ]
     },
     "execution_count": 45,
     "metadata": {},
     "output_type": "execute_result"
    }
   ],
   "source": [
    "\"\"\"def quitar_R(x):\n",
    "    if \".R\" in str(x):\n",
    "        return x.replace(\".R\", \"\")\n",
    "    else:\n",
    "        return x\"\"\""
   ]
  },
  {
   "cell_type": "code",
   "execution_count": 46,
   "metadata": {},
   "outputs": [
    {
     "data": {
      "text/plain": [
       "<function src.cleaning.quitar_R(x)>"
      ]
     },
     "execution_count": 46,
     "metadata": {},
     "output_type": "execute_result"
    }
   ],
   "source": [
    "quitar_R"
   ]
  },
  {
   "cell_type": "code",
   "execution_count": 47,
   "metadata": {},
   "outputs": [
    {
     "name": "stderr",
     "output_type": "stream",
     "text": [
      "<ipython-input-47-46223fb203ba>:1: SettingWithCopyWarning: \n",
      "A value is trying to be set on a copy of a slice from a DataFrame.\n",
      "Try using .loc[row_indexer,col_indexer] = value instead\n",
      "\n",
      "See the caveats in the documentation: https://pandas.pydata.org/pandas-docs/stable/user_guide/indexing.html#returning-a-view-versus-a-copy\n",
      "  sharks[\"case_number\"] = sharks.case_number.apply(quitar_R)\n"
     ]
    }
   ],
   "source": [
    "sharks[\"case_number\"] = sharks.case_number.apply(quitar_R)"
   ]
  },
  {
   "cell_type": "markdown",
   "metadata": {},
   "source": []
  },
  {
   "cell_type": "markdown",
   "metadata": {},
   "source": [
    "COLUMNA; date"
   ]
  },
  {
   "cell_type": "markdown",
   "metadata": {},
   "source": []
  },
  {
   "cell_type": "markdown",
   "metadata": {},
   "source": [
    "Para la columna \"date\" me quedo solo con fecha y año. "
   ]
  },
  {
   "cell_type": "code",
   "execution_count": 48,
   "metadata": {
    "scrolled": true
   },
   "outputs": [
    {
     "name": "stderr",
     "output_type": "stream",
     "text": [
      "<ipython-input-48-65ad4d2e00fd>:1: SettingWithCopyWarning: \n",
      "A value is trying to be set on a copy of a slice from a DataFrame.\n",
      "Try using .loc[row_indexer,col_indexer] = value instead\n",
      "\n",
      "See the caveats in the documentation: https://pandas.pydata.org/pandas-docs/stable/user_guide/indexing.html#returning-a-view-versus-a-copy\n",
      "  sharks['newcol'] = sharks['date'].str.extract(r\"(\\w+-\\d+)\")\n"
     ]
    }
   ],
   "source": [
    "sharks['newcol'] = sharks['date'].str.extract(r\"(\\w+-\\d+)\")"
   ]
  },
  {
   "cell_type": "code",
   "execution_count": 49,
   "metadata": {},
   "outputs": [
    {
     "data": {
      "text/html": [
       "<div>\n",
       "<style scoped>\n",
       "    .dataframe tbody tr th:only-of-type {\n",
       "        vertical-align: middle;\n",
       "    }\n",
       "\n",
       "    .dataframe tbody tr th {\n",
       "        vertical-align: top;\n",
       "    }\n",
       "\n",
       "    .dataframe thead th {\n",
       "        text-align: right;\n",
       "    }\n",
       "</style>\n",
       "<table border=\"1\" class=\"dataframe\">\n",
       "  <thead>\n",
       "    <tr style=\"text-align: right;\">\n",
       "      <th></th>\n",
       "      <th>case_number</th>\n",
       "      <th>date</th>\n",
       "      <th>year</th>\n",
       "      <th>type</th>\n",
       "      <th>country</th>\n",
       "      <th>area</th>\n",
       "      <th>location</th>\n",
       "      <th>activity</th>\n",
       "      <th>name</th>\n",
       "      <th>sex_</th>\n",
       "      <th>age</th>\n",
       "      <th>injury</th>\n",
       "      <th>fatal_</th>\n",
       "      <th>newcol</th>\n",
       "    </tr>\n",
       "  </thead>\n",
       "  <tbody>\n",
       "    <tr>\n",
       "      <th>3413</th>\n",
       "      <td>1970.00.00</td>\n",
       "      <td>1970s</td>\n",
       "      <td>1970.0</td>\n",
       "      <td>Unprovoked</td>\n",
       "      <td>IRAQ</td>\n",
       "      <td>Basrah</td>\n",
       "      <td>Shatt-al-Arab River near Abu al Khasib</td>\n",
       "      <td>Washing clothes on stairs</td>\n",
       "      <td>female</td>\n",
       "      <td>F</td>\n",
       "      <td>25</td>\n",
       "      <td>Left foot severed</td>\n",
       "      <td>N</td>\n",
       "      <td>NaN</td>\n",
       "    </tr>\n",
       "    <tr>\n",
       "      <th>2971</th>\n",
       "      <td>1982.07.31</td>\n",
       "      <td>31-Jul-1982</td>\n",
       "      <td>1982.0</td>\n",
       "      <td>Invalid</td>\n",
       "      <td>SOUTH AFRICA</td>\n",
       "      <td>KwaZulu-Natal</td>\n",
       "      <td>Amanzimtoti</td>\n",
       "      <td>Boogie boarding</td>\n",
       "      <td>Riaan van Rensburg</td>\n",
       "      <td>M</td>\n",
       "      <td>20</td>\n",
       "      <td>No injury, swim fin bitten</td>\n",
       "      <td>NaN</td>\n",
       "      <td>Jul-1982</td>\n",
       "    </tr>\n",
       "  </tbody>\n",
       "</table>\n",
       "</div>"
      ],
      "text/plain": [
       "     case_number         date    year        type       country  \\\n",
       "3413  1970.00.00        1970s  1970.0  Unprovoked          IRAQ   \n",
       "2971  1982.07.31  31-Jul-1982  1982.0     Invalid  SOUTH AFRICA   \n",
       "\n",
       "               area                                location  \\\n",
       "3413         Basrah  Shatt-al-Arab River near Abu al Khasib   \n",
       "2971  KwaZulu-Natal                             Amanzimtoti   \n",
       "\n",
       "                       activity                name sex_ age  \\\n",
       "3413  Washing clothes on stairs              female    F  25   \n",
       "2971            Boogie boarding  Riaan van Rensburg    M  20   \n",
       "\n",
       "                          injury fatal_    newcol  \n",
       "3413           Left foot severed      N       NaN  \n",
       "2971  No injury, swim fin bitten    NaN  Jul-1982  "
      ]
     },
     "execution_count": 49,
     "metadata": {},
     "output_type": "execute_result"
    }
   ],
   "source": [
    "sharks.sample(2)"
   ]
  },
  {
   "cell_type": "code",
   "execution_count": 50,
   "metadata": {
    "scrolled": false
   },
   "outputs": [
    {
     "name": "stdout",
     "output_type": "stream",
     "text": [
      "['25-Jun-2018', '18-Jun-2018', '09-Jun-2018', '08-Jun-2018', '04-Jun-2018']\n"
     ]
    }
   ],
   "source": [
    "dates = list(sharks.date)\n",
    "print(dates[0:5])"
   ]
  },
  {
   "cell_type": "code",
   "execution_count": 51,
   "metadata": {},
   "outputs": [
    {
     "name": "stdout",
     "output_type": "stream",
     "text": [
      "['Jun-2018', 'Jun-2018', 'Jun-2018', 'Jun-2018', 'Jun-2018']\n"
     ]
    }
   ],
   "source": [
    "newcoll= list(sharks.newcol)\n",
    "print(newcoll[0:5])"
   ]
  },
  {
   "cell_type": "code",
   "execution_count": 96,
   "metadata": {},
   "outputs": [
    {
     "name": "stderr",
     "output_type": "stream",
     "text": [
      "<ipython-input-96-af56e7fbce42>:1: UserWarning: Pandas doesn't allow columns to be created via a new attribute name - see https://pandas.pydata.org/pandas-docs/stable/indexing.html#attribute-access\n",
      "  sharks.dates=newcoll\n"
     ]
    }
   ],
   "source": [
    "sharks.date=newcoll"
   ]
  },
  {
   "cell_type": "code",
   "execution_count": 100,
   "metadata": {
    "scrolled": true
   },
   "outputs": [
    {
     "name": "stdout",
     "output_type": "stream",
     "text": [
      "0    Jun-2018\n",
      "1    Jun-2018\n",
      "2    Jun-2018\n",
      "3    Jun-2018\n",
      "4    Jun-2018\n",
      "Name: date, dtype: object\n"
     ]
    }
   ],
   "source": [
    "# Compruebo que me ha cambiado las fechas.\n",
    "print(sharks.date[0:5])"
   ]
  },
  {
   "cell_type": "code",
   "execution_count": 54,
   "metadata": {},
   "outputs": [
    {
     "data": {
      "text/html": [
       "<div>\n",
       "<style scoped>\n",
       "    .dataframe tbody tr th:only-of-type {\n",
       "        vertical-align: middle;\n",
       "    }\n",
       "\n",
       "    .dataframe tbody tr th {\n",
       "        vertical-align: top;\n",
       "    }\n",
       "\n",
       "    .dataframe thead th {\n",
       "        text-align: right;\n",
       "    }\n",
       "</style>\n",
       "<table border=\"1\" class=\"dataframe\">\n",
       "  <thead>\n",
       "    <tr style=\"text-align: right;\">\n",
       "      <th></th>\n",
       "      <th>case_number</th>\n",
       "      <th>date</th>\n",
       "      <th>year</th>\n",
       "      <th>type</th>\n",
       "      <th>country</th>\n",
       "      <th>area</th>\n",
       "      <th>location</th>\n",
       "      <th>activity</th>\n",
       "      <th>name</th>\n",
       "      <th>sex_</th>\n",
       "      <th>age</th>\n",
       "      <th>injury</th>\n",
       "      <th>fatal_</th>\n",
       "      <th>newcol</th>\n",
       "    </tr>\n",
       "  </thead>\n",
       "  <tbody>\n",
       "    <tr>\n",
       "      <th>6629</th>\n",
       "      <td>0</td>\n",
       "      <td>NaN</td>\n",
       "      <td>NaN</td>\n",
       "      <td>NaN</td>\n",
       "      <td>NaN</td>\n",
       "      <td>NaN</td>\n",
       "      <td>NaN</td>\n",
       "      <td>NaN</td>\n",
       "      <td>NaN</td>\n",
       "      <td>NaN</td>\n",
       "      <td>NaN</td>\n",
       "      <td>NaN</td>\n",
       "      <td>NaN</td>\n",
       "      <td>NaN</td>\n",
       "    </tr>\n",
       "  </tbody>\n",
       "</table>\n",
       "</div>"
      ],
      "text/plain": [
       "     case_number date  year type country area location activity name sex_  \\\n",
       "6629           0  NaN   NaN  NaN     NaN  NaN      NaN      NaN  NaN  NaN   \n",
       "\n",
       "      age injury fatal_ newcol  \n",
       "6629  NaN    NaN    NaN    NaN  "
      ]
     },
     "execution_count": 54,
     "metadata": {},
     "output_type": "execute_result"
    }
   ],
   "source": [
    "sharks.sample()"
   ]
  },
  {
   "cell_type": "code",
   "execution_count": 55,
   "metadata": {},
   "outputs": [
    {
     "name": "stderr",
     "output_type": "stream",
     "text": [
      "/home/jesus_chao/anaconda3/envs/ironhack/lib/python3.8/site-packages/pandas/core/frame.py:4906: SettingWithCopyWarning: \n",
      "A value is trying to be set on a copy of a slice from a DataFrame\n",
      "\n",
      "See the caveats in the documentation: https://pandas.pydata.org/pandas-docs/stable/user_guide/indexing.html#returning-a-view-versus-a-copy\n",
      "  return super().drop(\n"
     ]
    }
   ],
   "source": [
    "# Como he cambiado la date, puedo eliminar ya newcol\n",
    "sharks.drop([\"newcol\"],axis=1, inplace=True)"
   ]
  },
  {
   "cell_type": "code",
   "execution_count": 56,
   "metadata": {},
   "outputs": [
    {
     "data": {
      "text/html": [
       "<div>\n",
       "<style scoped>\n",
       "    .dataframe tbody tr th:only-of-type {\n",
       "        vertical-align: middle;\n",
       "    }\n",
       "\n",
       "    .dataframe tbody tr th {\n",
       "        vertical-align: top;\n",
       "    }\n",
       "\n",
       "    .dataframe thead th {\n",
       "        text-align: right;\n",
       "    }\n",
       "</style>\n",
       "<table border=\"1\" class=\"dataframe\">\n",
       "  <thead>\n",
       "    <tr style=\"text-align: right;\">\n",
       "      <th></th>\n",
       "      <th>case_number</th>\n",
       "      <th>date</th>\n",
       "      <th>year</th>\n",
       "      <th>type</th>\n",
       "      <th>country</th>\n",
       "      <th>area</th>\n",
       "      <th>location</th>\n",
       "      <th>activity</th>\n",
       "      <th>name</th>\n",
       "      <th>sex_</th>\n",
       "      <th>age</th>\n",
       "      <th>injury</th>\n",
       "      <th>fatal_</th>\n",
       "    </tr>\n",
       "  </thead>\n",
       "  <tbody>\n",
       "    <tr>\n",
       "      <th>4982</th>\n",
       "      <td>1932.08.10</td>\n",
       "      <td>Aug-1932</td>\n",
       "      <td>1932.0</td>\n",
       "      <td>Provoked</td>\n",
       "      <td>USA</td>\n",
       "      <td>New Jersey</td>\n",
       "      <td>Offshore, between Mantoloking &amp; Point Pleasant...</td>\n",
       "      <td>Fishing</td>\n",
       "      <td>John Olsen</td>\n",
       "      <td>M</td>\n",
       "      <td>NaN</td>\n",
       "      <td>Hooked shark gashed right leg      PROVOKED IN...</td>\n",
       "      <td>N</td>\n",
       "    </tr>\n",
       "  </tbody>\n",
       "</table>\n",
       "</div>"
      ],
      "text/plain": [
       "     case_number      date    year      type country        area  \\\n",
       "4982  1932.08.10  Aug-1932  1932.0  Provoked     USA  New Jersey   \n",
       "\n",
       "                                               location activity        name  \\\n",
       "4982  Offshore, between Mantoloking & Point Pleasant...  Fishing  John Olsen   \n",
       "\n",
       "     sex_  age                                             injury fatal_  \n",
       "4982    M  NaN  Hooked shark gashed right leg      PROVOKED IN...      N  "
      ]
     },
     "execution_count": 56,
     "metadata": {},
     "output_type": "execute_result"
    }
   ],
   "source": [
    "sharks.sample()"
   ]
  },
  {
   "cell_type": "markdown",
   "metadata": {},
   "source": []
  },
  {
   "cell_type": "markdown",
   "metadata": {},
   "source": [
    "COLUMNA; year"
   ]
  },
  {
   "cell_type": "markdown",
   "metadata": {},
   "source": []
  },
  {
   "cell_type": "markdown",
   "metadata": {},
   "source": [
    "Elimino el \".0\" de los años."
   ]
  },
  {
   "cell_type": "code",
   "execution_count": 57,
   "metadata": {},
   "outputs": [
    {
     "data": {
      "text/plain": [
       "'def year_(x):\\n    if \".0\" in str(x):\\n        return str(x).replace(\".0\", \"\")\\n    else:\\n        return x'"
      ]
     },
     "execution_count": 57,
     "metadata": {},
     "output_type": "execute_result"
    }
   ],
   "source": [
    "\"\"\"def year_(x):\n",
    "    if \".0\" in str(x):\n",
    "        return str(x).replace(\".0\", \"\")\n",
    "    else:\n",
    "        return x\"\"\""
   ]
  },
  {
   "cell_type": "code",
   "execution_count": 58,
   "metadata": {},
   "outputs": [
    {
     "data": {
      "text/plain": [
       "<function src.cleaning.year_(x)>"
      ]
     },
     "execution_count": 58,
     "metadata": {},
     "output_type": "execute_result"
    }
   ],
   "source": [
    "year_"
   ]
  },
  {
   "cell_type": "code",
   "execution_count": 59,
   "metadata": {},
   "outputs": [
    {
     "name": "stderr",
     "output_type": "stream",
     "text": [
      "<ipython-input-59-34703d824513>:1: SettingWithCopyWarning: \n",
      "A value is trying to be set on a copy of a slice from a DataFrame.\n",
      "Try using .loc[row_indexer,col_indexer] = value instead\n",
      "\n",
      "See the caveats in the documentation: https://pandas.pydata.org/pandas-docs/stable/user_guide/indexing.html#returning-a-view-versus-a-copy\n",
      "  sharks[\"year\"] = sharks.year.apply(year_)\n"
     ]
    }
   ],
   "source": [
    "sharks[\"year\"] = sharks.year.apply(year_)"
   ]
  },
  {
   "cell_type": "code",
   "execution_count": 60,
   "metadata": {},
   "outputs": [
    {
     "name": "stdout",
     "output_type": "stream",
     "text": [
      "0        2018\n",
      "1        2018\n",
      "2        2018\n",
      "3        2018\n",
      "4        2018\n",
      "         ... \n",
      "8698      NaN\n",
      "8699      NaN\n",
      "8700      NaN\n",
      "8701      NaN\n",
      "25722     NaN\n",
      "Name: year, Length: 8703, dtype: object\n"
     ]
    }
   ],
   "source": [
    "print(sharks.year)"
   ]
  },
  {
   "cell_type": "code",
   "execution_count": 61,
   "metadata": {},
   "outputs": [
    {
     "data": {
      "text/plain": [
       "array(['2018', '2017', nan, '2016', '2015', '2014', '2013', '2012',\n",
       "       '2011', '2010', '2009', '2008', '2007', '2006', '2005', '2004',\n",
       "       '2003', '2002', '2001', '2000', '1999', '1998', '1997', '1996',\n",
       "       '1995', '1984', '1994', '1993', '1992', '1991', '1990', '1989',\n",
       "       '1969', '1988', '1987', '1986', '1985', '1983', '1982', '1981',\n",
       "       '1980', '1979', '1978', '1977', '1976', '1975', '1974', '1973',\n",
       "       '1972', '1971', '1970', '1968', '1967', '1966', '1965', '1964',\n",
       "       '1963', '1962', '1961', '1960', '1959', '1958', '1957', '1956',\n",
       "       '1955', '1954', '1953', '1952', '1951', '1950', '1949', '1948',\n",
       "       '1848', '1947', '1946', '1945', '1944', '1943', '1942', '1941',\n",
       "       '1940', '1939', '1938', '1937', '1936', '1935', '1934', '1933',\n",
       "       '1932', '1931', '1930', '1929', '1928', '1927', '1926', '1925',\n",
       "       '1924', '1923', '1922', '1921', '1920', '1919', '1918', '1917',\n",
       "       '1916', '1915', '1914', '1913', '1912', '1911', '1910', '1909',\n",
       "       '1908', '1907', '1906', '1905', '1904', '1903', '1902', '1901',\n",
       "       '1900', '1899', '1898', '1897', '1896', '1895', '1894', '1893',\n",
       "       '1892', '1891', '1890', '1889', '1888', '1887', '1886', '1885',\n",
       "       '1884', '1883', '1882', '1881', '1880', '1879', '1878', '1877',\n",
       "       '1876', '1875', '1874', '1873', '1872', '1871', '1870', '1869',\n",
       "       '1868', '1867', '1866', '1865', '1864', '1863', '1862', '1861',\n",
       "       '1860', '1859', '1858', '1857', '1856', '1855', '1853', '1852',\n",
       "       '1851', '1850', '1849', '1847', '1846', '1845', '1844', '1842',\n",
       "       '1841', '1840', '1839', '1837', '1836', '1835', '1834', '1832',\n",
       "       '1831', '1830', '1829', '1828', '1827', '1826', '1825', '1823',\n",
       "       '1822', '1819', '1818', '1817', '1816', '1815', '1812', '1811',\n",
       "       '1810', '1808', '1807', '1805', '1804', '1803', '1802', '1801',\n",
       "       '1800', '1797', '1792', '1791', '1788', '1787', '1786', '1785',\n",
       "       '1784', '1783', '1780', '1779', '1776', '1771', '1767', '1764',\n",
       "       '1758', '1753', '1751', '1749', '1755', '1748', '1742', '1738',\n",
       "       '1733', '1723', '1721', '1703', '1700', '1642', '1638', '1637',\n",
       "       '1617', '1595', '1580', '1555', '1554', '1543', '500', '77', '5',\n",
       "       '0'], dtype=object)"
      ]
     },
     "execution_count": 61,
     "metadata": {},
     "output_type": "execute_result"
    }
   ],
   "source": [
    "# Este es el listado final de todas mis años.\n",
    "sharks.year.unique()"
   ]
  },
  {
   "cell_type": "markdown",
   "metadata": {},
   "source": []
  },
  {
   "cell_type": "markdown",
   "metadata": {},
   "source": [
    "COLUMNA type."
   ]
  },
  {
   "cell_type": "markdown",
   "metadata": {},
   "source": []
  },
  {
   "cell_type": "markdown",
   "metadata": {},
   "source": [
    "Cambio nombre de \"Unprovoked\" por \"Accidental\".Además he metido \"Boatomg\" y \"Boating\" en una sola columna \"Boat\" "
   ]
  },
  {
   "cell_type": "code",
   "execution_count": 62,
   "metadata": {},
   "outputs": [
    {
     "data": {
      "text/plain": [
       "array(['Boating', 'Unprovoked', 'Invalid', 'Provoked', 'Questionable',\n",
       "       'Sea Disaster', nan, 'Boat', 'Boatomg'], dtype=object)"
      ]
     },
     "execution_count": 62,
     "metadata": {},
     "output_type": "execute_result"
    }
   ],
   "source": [
    "sharks.type.unique()"
   ]
  },
  {
   "cell_type": "code",
   "execution_count": 63,
   "metadata": {},
   "outputs": [
    {
     "data": {
      "text/plain": [
       "'def type_(x):\\n    if \"Unprovoked\" in str(x):\\n        return x.replace(\"Unprovoked\", \"Accidental\")\\n    else:\\n        return x'"
      ]
     },
     "execution_count": 63,
     "metadata": {},
     "output_type": "execute_result"
    }
   ],
   "source": [
    "\"\"\"def type_(x):\n",
    "    if \"Unprovoked\" in str(x):\n",
    "        return x.replace(\"Unprovoked\", \"Accidental\")\n",
    "    else:\n",
    "        return x\"\"\""
   ]
  },
  {
   "cell_type": "code",
   "execution_count": 64,
   "metadata": {},
   "outputs": [
    {
     "data": {
      "text/plain": [
       "<function src.cleaning.type_(x)>"
      ]
     },
     "execution_count": 64,
     "metadata": {},
     "output_type": "execute_result"
    }
   ],
   "source": [
    "type_"
   ]
  },
  {
   "cell_type": "code",
   "execution_count": 65,
   "metadata": {},
   "outputs": [
    {
     "name": "stderr",
     "output_type": "stream",
     "text": [
      "<ipython-input-65-e5a48b295325>:1: SettingWithCopyWarning: \n",
      "A value is trying to be set on a copy of a slice from a DataFrame.\n",
      "Try using .loc[row_indexer,col_indexer] = value instead\n",
      "\n",
      "See the caveats in the documentation: https://pandas.pydata.org/pandas-docs/stable/user_guide/indexing.html#returning-a-view-versus-a-copy\n",
      "  sharks[\"type\"] = sharks.type.apply(type_)\n"
     ]
    }
   ],
   "source": [
    "sharks[\"type\"] = sharks.type.apply(type_)"
   ]
  },
  {
   "cell_type": "code",
   "execution_count": 66,
   "metadata": {},
   "outputs": [],
   "source": [
    "multi_p = sharks[(sharks.type == \"Boatomg\")]"
   ]
  },
  {
   "cell_type": "code",
   "execution_count": 67,
   "metadata": {},
   "outputs": [
    {
     "data": {
      "text/html": [
       "<div>\n",
       "<style scoped>\n",
       "    .dataframe tbody tr th:only-of-type {\n",
       "        vertical-align: middle;\n",
       "    }\n",
       "\n",
       "    .dataframe tbody tr th {\n",
       "        vertical-align: top;\n",
       "    }\n",
       "\n",
       "    .dataframe thead th {\n",
       "        text-align: right;\n",
       "    }\n",
       "</style>\n",
       "<table border=\"1\" class=\"dataframe\">\n",
       "  <thead>\n",
       "    <tr style=\"text-align: right;\">\n",
       "      <th></th>\n",
       "      <th>case_number</th>\n",
       "      <th>date</th>\n",
       "      <th>year</th>\n",
       "      <th>type</th>\n",
       "      <th>country</th>\n",
       "      <th>area</th>\n",
       "      <th>location</th>\n",
       "      <th>activity</th>\n",
       "      <th>name</th>\n",
       "      <th>sex_</th>\n",
       "      <th>age</th>\n",
       "      <th>injury</th>\n",
       "      <th>fatal_</th>\n",
       "    </tr>\n",
       "  </thead>\n",
       "  <tbody>\n",
       "    <tr>\n",
       "      <th>1152</th>\n",
       "      <td>2009.03.01</td>\n",
       "      <td>Mar-2009</td>\n",
       "      <td>2009</td>\n",
       "      <td>Boatomg</td>\n",
       "      <td>NEW ZEALAND</td>\n",
       "      <td>North Island</td>\n",
       "      <td>Taranaki</td>\n",
       "      <td>Fishing</td>\n",
       "      <td>boat, occupants: Boyd Rutherford &amp; Hamish Roper</td>\n",
       "      <td>M</td>\n",
       "      <td>NaN</td>\n",
       "      <td>No injury to occupants, shark bit propeller</td>\n",
       "      <td>N</td>\n",
       "    </tr>\n",
       "  </tbody>\n",
       "</table>\n",
       "</div>"
      ],
      "text/plain": [
       "     case_number      date  year     type      country          area  \\\n",
       "1152  2009.03.01  Mar-2009  2009  Boatomg  NEW ZEALAND  North Island   \n",
       "\n",
       "      location activity                                             name sex_  \\\n",
       "1152  Taranaki  Fishing  boat, occupants: Boyd Rutherford & Hamish Roper    M   \n",
       "\n",
       "      age                                       injury fatal_  \n",
       "1152  NaN  No injury to occupants, shark bit propeller      N  "
      ]
     },
     "execution_count": 67,
     "metadata": {},
     "output_type": "execute_result"
    }
   ],
   "source": [
    "multi_p"
   ]
  },
  {
   "cell_type": "code",
   "execution_count": 68,
   "metadata": {},
   "outputs": [
    {
     "data": {
      "text/plain": [
       "'def type_1(x):\\n    if \"Boatomg\" in str(x):\\n        return x.replace(\"Boatomg\", \"Boat\")\\n    else:\\n        return x'"
      ]
     },
     "execution_count": 68,
     "metadata": {},
     "output_type": "execute_result"
    }
   ],
   "source": [
    "\"\"\"def type_1(x):\n",
    "    if \"Boatomg\" in str(x):\n",
    "        return x.replace(\"Boatomg\", \"Boat\")\n",
    "    else:\n",
    "        return x\"\"\""
   ]
  },
  {
   "cell_type": "code",
   "execution_count": 69,
   "metadata": {},
   "outputs": [
    {
     "data": {
      "text/plain": [
       "<function src.cleaning.type_1(x)>"
      ]
     },
     "execution_count": 69,
     "metadata": {},
     "output_type": "execute_result"
    }
   ],
   "source": [
    "type_1"
   ]
  },
  {
   "cell_type": "code",
   "execution_count": 70,
   "metadata": {},
   "outputs": [
    {
     "name": "stderr",
     "output_type": "stream",
     "text": [
      "<ipython-input-70-240476cb040b>:1: SettingWithCopyWarning: \n",
      "A value is trying to be set on a copy of a slice from a DataFrame.\n",
      "Try using .loc[row_indexer,col_indexer] = value instead\n",
      "\n",
      "See the caveats in the documentation: https://pandas.pydata.org/pandas-docs/stable/user_guide/indexing.html#returning-a-view-versus-a-copy\n",
      "  sharks[\"type\"] = sharks.type.apply(type_1)\n"
     ]
    }
   ],
   "source": [
    "sharks[\"type\"] = sharks.type.apply(type_1)"
   ]
  },
  {
   "cell_type": "code",
   "execution_count": 71,
   "metadata": {},
   "outputs": [
    {
     "data": {
      "text/plain": [
       "'def type_2(x):\\n    if \"Invalid\" in str(x):\\n        return x.replace(\"Invalid\", \"Injured/Fatal\")\\n    else:\\n        return x'"
      ]
     },
     "execution_count": 71,
     "metadata": {},
     "output_type": "execute_result"
    }
   ],
   "source": [
    "\"\"\"def type_2(x):\n",
    "    if \"Invalid\" in str(x):\n",
    "        return x.replace(\"Invalid\", \"Injured/Fatal\")\n",
    "    else:\n",
    "        return x\"\"\""
   ]
  },
  {
   "cell_type": "code",
   "execution_count": 72,
   "metadata": {},
   "outputs": [
    {
     "data": {
      "text/plain": [
       "<function src.cleaning.type_2(x)>"
      ]
     },
     "execution_count": 72,
     "metadata": {},
     "output_type": "execute_result"
    }
   ],
   "source": [
    "type_2"
   ]
  },
  {
   "cell_type": "code",
   "execution_count": 73,
   "metadata": {},
   "outputs": [
    {
     "name": "stderr",
     "output_type": "stream",
     "text": [
      "<ipython-input-73-0df61136e9dd>:1: SettingWithCopyWarning: \n",
      "A value is trying to be set on a copy of a slice from a DataFrame.\n",
      "Try using .loc[row_indexer,col_indexer] = value instead\n",
      "\n",
      "See the caveats in the documentation: https://pandas.pydata.org/pandas-docs/stable/user_guide/indexing.html#returning-a-view-versus-a-copy\n",
      "  sharks[\"type\"] = sharks.type.apply(type_2)\n"
     ]
    }
   ],
   "source": [
    "sharks[\"type\"] = sharks.type.apply(type_2)"
   ]
  },
  {
   "cell_type": "code",
   "execution_count": 74,
   "metadata": {},
   "outputs": [
    {
     "data": {
      "text/plain": [
       "'def type_3(x):\\n    if \"Boating\" in str(x):\\n        return x.replace(\"Boating\", \"Boat\")\\n    else:\\n        return x'"
      ]
     },
     "execution_count": 74,
     "metadata": {},
     "output_type": "execute_result"
    }
   ],
   "source": [
    "\"\"\"def type_3(x):\n",
    "    if \"Boating\" in str(x):\n",
    "        return x.replace(\"Boating\", \"Boat\")\n",
    "    else:\n",
    "        return x\"\"\""
   ]
  },
  {
   "cell_type": "code",
   "execution_count": 75,
   "metadata": {},
   "outputs": [
    {
     "data": {
      "text/plain": [
       "<function src.cleaning.type_3(x)>"
      ]
     },
     "execution_count": 75,
     "metadata": {},
     "output_type": "execute_result"
    }
   ],
   "source": [
    "type_3"
   ]
  },
  {
   "cell_type": "code",
   "execution_count": 76,
   "metadata": {},
   "outputs": [
    {
     "name": "stderr",
     "output_type": "stream",
     "text": [
      "<ipython-input-76-75c94eba09d1>:1: SettingWithCopyWarning: \n",
      "A value is trying to be set on a copy of a slice from a DataFrame.\n",
      "Try using .loc[row_indexer,col_indexer] = value instead\n",
      "\n",
      "See the caveats in the documentation: https://pandas.pydata.org/pandas-docs/stable/user_guide/indexing.html#returning-a-view-versus-a-copy\n",
      "  sharks[\"type\"] = sharks.type.apply(type_3)\n"
     ]
    }
   ],
   "source": [
    "sharks[\"type\"] = sharks.type.apply(type_3)"
   ]
  },
  {
   "cell_type": "code",
   "execution_count": 77,
   "metadata": {},
   "outputs": [
    {
     "data": {
      "text/plain": [
       "array(['Boat', 'Accidental', 'Injured/Fatal', 'Provoked', 'Questionable',\n",
       "       'Sea Disaster', nan], dtype=object)"
      ]
     },
     "execution_count": 77,
     "metadata": {},
     "output_type": "execute_result"
    }
   ],
   "source": [
    "sharks.type.unique()"
   ]
  },
  {
   "cell_type": "markdown",
   "metadata": {},
   "source": []
  },
  {
   "cell_type": "markdown",
   "metadata": {},
   "source": [
    "COLUMNA; Pais, área y localización\n",
    "\n",
    "Área y localización no me afecta a mis hipótesis; no los toco aunque se puedan mejorar"
   ]
  },
  {
   "cell_type": "markdown",
   "metadata": {},
   "source": []
  },
  {
   "cell_type": "markdown",
   "metadata": {},
   "source": [
    "He pasado todos los países a mayúsculas y eliminado \"?\". He metido también \"ENGLAND\" en \"UNITED KINGDOM\""
   ]
  },
  {
   "cell_type": "code",
   "execution_count": 78,
   "metadata": {},
   "outputs": [],
   "source": [
    "countries = list(sharks.country.unique())"
   ]
  },
  {
   "cell_type": "code",
   "execution_count": 79,
   "metadata": {},
   "outputs": [
    {
     "data": {
      "text/plain": [
       "213"
      ]
     },
     "execution_count": 79,
     "metadata": {},
     "output_type": "execute_result"
    }
   ],
   "source": [
    "len(countries)"
   ]
  },
  {
   "cell_type": "code",
   "execution_count": 80,
   "metadata": {},
   "outputs": [
    {
     "name": "stdout",
     "output_type": "stream",
     "text": [
      "['USA', 'AUSTRALIA', 'MEXICO', 'BRAZIL', 'ENGLAND', 'SOUTH AFRICA', 'THAILAND', 'COSTA RICA', 'MALDIVES', 'BAHAMAS', 'NEW CALEDONIA', 'ECUADOR', 'MALAYSIA', 'LIBYA', nan, 'CUBA', 'MAURITIUS', 'NEW ZEALAND', 'SPAIN', 'SAMOA']\n"
     ]
    }
   ],
   "source": [
    "print(countries[0:20])"
   ]
  },
  {
   "cell_type": "markdown",
   "metadata": {},
   "source": [
    "Ponemos todos los países en mayúsculas."
   ]
  },
  {
   "cell_type": "code",
   "execution_count": 81,
   "metadata": {},
   "outputs": [
    {
     "data": {
      "text/plain": [
       "'def upper_c(x):\\n    return str(x).upper()'"
      ]
     },
     "execution_count": 81,
     "metadata": {},
     "output_type": "execute_result"
    }
   ],
   "source": [
    "\"\"\"def upper_c(x):\n",
    "    return str(x).upper()\"\"\""
   ]
  },
  {
   "cell_type": "code",
   "execution_count": 82,
   "metadata": {},
   "outputs": [
    {
     "data": {
      "text/plain": [
       "<function src.cleaning.upper_c(x)>"
      ]
     },
     "execution_count": 82,
     "metadata": {},
     "output_type": "execute_result"
    }
   ],
   "source": [
    "upper_c"
   ]
  },
  {
   "cell_type": "code",
   "execution_count": 83,
   "metadata": {},
   "outputs": [
    {
     "name": "stderr",
     "output_type": "stream",
     "text": [
      "<ipython-input-83-51f75b38b595>:1: SettingWithCopyWarning: \n",
      "A value is trying to be set on a copy of a slice from a DataFrame.\n",
      "Try using .loc[row_indexer,col_indexer] = value instead\n",
      "\n",
      "See the caveats in the documentation: https://pandas.pydata.org/pandas-docs/stable/user_guide/indexing.html#returning-a-view-versus-a-copy\n",
      "  sharks[\"country\"] = sharks.country.apply(upper_c)\n"
     ]
    }
   ],
   "source": [
    "sharks[\"country\"] = sharks.country.apply(upper_c)"
   ]
  },
  {
   "cell_type": "markdown",
   "metadata": {},
   "source": [
    "Reemplazar ENGLAND por UNITED KINGDOM"
   ]
  },
  {
   "cell_type": "code",
   "execution_count": 84,
   "metadata": {},
   "outputs": [
    {
     "data": {
      "text/plain": [
       "'def england_(x):\\n    if \"ENGLAND\" in str(x):\\n        return x.replace(\"ENGLAND\", \"UNITED KINGDOM\")\\n    else:\\n        return x'"
      ]
     },
     "execution_count": 84,
     "metadata": {},
     "output_type": "execute_result"
    }
   ],
   "source": [
    "\"\"\"def england_(x):\n",
    "    if \"ENGLAND\" in str(x):\n",
    "        return x.replace(\"ENGLAND\", \"UNITED KINGDOM\")\n",
    "    else:\n",
    "        return x\"\"\""
   ]
  },
  {
   "cell_type": "code",
   "execution_count": 85,
   "metadata": {},
   "outputs": [
    {
     "data": {
      "text/plain": [
       "<function src.cleaning.england_(x)>"
      ]
     },
     "execution_count": 85,
     "metadata": {},
     "output_type": "execute_result"
    }
   ],
   "source": [
    "england_"
   ]
  },
  {
   "cell_type": "code",
   "execution_count": 86,
   "metadata": {},
   "outputs": [
    {
     "name": "stderr",
     "output_type": "stream",
     "text": [
      "<ipython-input-86-9a5641fac9da>:1: SettingWithCopyWarning: \n",
      "A value is trying to be set on a copy of a slice from a DataFrame.\n",
      "Try using .loc[row_indexer,col_indexer] = value instead\n",
      "\n",
      "See the caveats in the documentation: https://pandas.pydata.org/pandas-docs/stable/user_guide/indexing.html#returning-a-view-versus-a-copy\n",
      "  sharks[\"country\"] = sharks.country.apply(england_)\n"
     ]
    }
   ],
   "source": [
    "sharks[\"country\"] = sharks.country.apply(england_)"
   ]
  },
  {
   "cell_type": "markdown",
   "metadata": {},
   "source": [
    "ELIMINO signo de interrogación."
   ]
  },
  {
   "cell_type": "code",
   "execution_count": 87,
   "metadata": {},
   "outputs": [
    {
     "data": {
      "text/plain": [
       "'def question_(x):\\n    if \"?\" in str(x):\\n        return x.replace(\"?\", \"\")\\n    else:\\n        return x'"
      ]
     },
     "execution_count": 87,
     "metadata": {},
     "output_type": "execute_result"
    }
   ],
   "source": [
    "\"\"\"def question_(x):\n",
    "    if \"?\" in str(x):\n",
    "        return x.replace(\"?\", \"\")\n",
    "    else:\n",
    "        return x\"\"\""
   ]
  },
  {
   "cell_type": "code",
   "execution_count": 88,
   "metadata": {},
   "outputs": [
    {
     "data": {
      "text/plain": [
       "<function src.cleaning.question_(x)>"
      ]
     },
     "execution_count": 88,
     "metadata": {},
     "output_type": "execute_result"
    }
   ],
   "source": [
    "question_"
   ]
  },
  {
   "cell_type": "code",
   "execution_count": 89,
   "metadata": {},
   "outputs": [
    {
     "name": "stderr",
     "output_type": "stream",
     "text": [
      "<ipython-input-89-1d540e1a7bd3>:1: SettingWithCopyWarning: \n",
      "A value is trying to be set on a copy of a slice from a DataFrame.\n",
      "Try using .loc[row_indexer,col_indexer] = value instead\n",
      "\n",
      "See the caveats in the documentation: https://pandas.pydata.org/pandas-docs/stable/user_guide/indexing.html#returning-a-view-versus-a-copy\n",
      "  sharks[\"country\"] = sharks.country.apply(question_)\n"
     ]
    }
   ],
   "source": [
    "sharks[\"country\"] = sharks.country.apply(question_)"
   ]
  },
  {
   "cell_type": "code",
   "execution_count": 90,
   "metadata": {},
   "outputs": [
    {
     "data": {
      "text/plain": [
       "array(['USA', 'AUSTRALIA', 'MEXICO', 'BRAZIL', 'UNITED KINGDOM',\n",
       "       'SOUTH AFRICA', 'THAILAND', 'COSTA RICA', 'MALDIVES', 'BAHAMAS',\n",
       "       'NEW CALEDONIA', 'ECUADOR', 'MALAYSIA', 'LIBYA', 'NAN', 'CUBA',\n",
       "       'MAURITIUS', 'NEW ZEALAND', 'SPAIN', 'SAMOA', 'SOLOMON ISLANDS',\n",
       "       'JAPAN', 'EGYPT', 'ST HELENA, BRITISH OVERSEAS TERRITORY',\n",
       "       'COMOROS', 'REUNION', 'FRENCH POLYNESIA', 'UNITED ARAB EMIRATES',\n",
       "       'PHILIPPINES', 'INDONESIA', 'CHINA', 'COLUMBIA', 'CAPE VERDE',\n",
       "       'FIJI', 'DOMINICAN REPUBLIC', 'CAYMAN ISLANDS', 'ARUBA',\n",
       "       'MOZAMBIQUE', 'PUERTO RICO', 'ITALY', 'ATLANTIC OCEAN', 'GREECE',\n",
       "       'ST. MARTIN', 'FRANCE', 'PAPUA NEW GUINEA', 'TRINIDAD & TOBAGO',\n",
       "       'KIRIBATI', 'ISRAEL', 'DIEGO GARCIA', 'TAIWAN', 'JAMAICA',\n",
       "       'PALESTINIAN TERRITORIES', 'GUAM', 'SEYCHELLES', 'BELIZE',\n",
       "       'NIGERIA', 'TONGA', 'SCOTLAND', 'CANADA', 'CROATIA',\n",
       "       'SAUDI ARABIA', 'CHILE', 'ANTIGUA', 'KENYA', 'RUSSIA',\n",
       "       'TURKS & CAICOS', 'UNITED ARAB EMIRATES (UAE)', 'AZORES',\n",
       "       'SOUTH KOREA', 'MALTA', 'VIETNAM', 'MADAGASCAR', 'PANAMA',\n",
       "       'SOMALIA', 'NEVIS', 'BRITISH VIRGIN ISLANDS', 'NORWAY', 'SENEGAL',\n",
       "       'YEMEN', 'GULF OF ADEN', 'SIERRA LEONE', 'ST. MAARTIN',\n",
       "       'GRAND CAYMAN', 'LIBERIA', 'VANUATU', 'MEXICO ', 'HONDURAS',\n",
       "       'VENEZUELA', 'SRI LANKA', ' TONGA', 'URUGUAY', 'INDIA',\n",
       "       'MICRONESIA', 'CARIBBEAN SEA', 'OKINAWA', 'TANZANIA',\n",
       "       'MARSHALL ISLANDS', 'EGYPT / ISRAEL', 'NORTHERN ARABIAN SEA',\n",
       "       'HONG KONG', 'EL SALVADOR', 'ANGOLA', 'BERMUDA', 'MONTENEGRO',\n",
       "       'IRAN', 'TUNISIA', 'NAMIBIA', 'NORTH ATLANTIC OCEAN', 'PORTUGAL',\n",
       "       'SOUTH CHINA SEA', 'BANGLADESH', 'PALAU', 'WESTERN SAMOA',\n",
       "       'PACIFIC OCEAN ', 'BRITISH ISLES', 'GRENADA', 'IRAQ', 'TURKEY',\n",
       "       'SINGAPORE', 'NEW BRITAIN', 'SUDAN', 'JOHNSTON ISLAND',\n",
       "       'SOUTH PACIFIC OCEAN', 'NEW GUINEA', 'RED SEA',\n",
       "       'NORTH PACIFIC OCEAN', 'FEDERATED STATES OF MICRONESIA',\n",
       "       'MID ATLANTIC OCEAN', 'ADMIRALTY ISLANDS', 'BRITISH WEST INDIES',\n",
       "       'SOUTH ATLANTIC OCEAN', 'PERSIAN GULF', 'RED SEA / INDIAN OCEAN',\n",
       "       'PACIFIC OCEAN', 'NORTH SEA', 'NICARAGUA ', 'MALDIVE ISLANDS',\n",
       "       'AMERICAN SAMOA', 'ANDAMAN / NICOBAR ISLANDAS', 'GABON', 'MAYOTTE',\n",
       "       'NORTH ATLANTIC OCEAN ', 'THE BALKANS', 'ARGENTINA', 'MARTINIQUE',\n",
       "       'INDIAN OCEAN', 'GUATEMALA', 'NETHERLANDS ANTILLES',\n",
       "       'NORTHERN MARIANA ISLANDS', 'IRAN / IRAQ', 'JAVA', ' PHILIPPINES',\n",
       "       'NICARAGUA', 'CENTRAL PACIFIC', 'SOLOMON ISLANDS / VANUATU',\n",
       "       'SOUTHWEST PACIFIC OCEAN', 'BAY OF BENGAL', 'MID-PACIFC OCEAN',\n",
       "       'SLOVENIA', 'CURACAO', 'ICELAND', 'ITALY / CROATIA', 'BARBADOS',\n",
       "       'MONACO', 'GUYANA', 'HAITI', 'SAN DOMINGO', 'IRELAND', 'KUWAIT',\n",
       "       'YEMEN ', 'REUNION ISLAND', 'FALKLAND ISLANDS', 'CRETE', 'CYPRUS',\n",
       "       'EGYPT ', 'WEST INDIES', 'BURMA', 'LEBANON', 'PARAGUAY',\n",
       "       'BRITISH NEW GUINEA', 'CEYLON', 'OCEAN', 'GEORGIA', 'SYRIA',\n",
       "       'TUVALU', 'GUINEA', 'ANDAMAN ISLANDS',\n",
       "       'EQUATORIAL GUINEA / CAMEROON', 'COOK ISLANDS', 'TOBAGO', 'PERU',\n",
       "       'AFRICA', 'ALGERIA', 'COAST OF AFRICA', 'TASMAN SEA', 'GHANA',\n",
       "       'GREENLAND', 'MEDITERRANEAN SEA', 'SWEDEN', 'ROATAN',\n",
       "       'BETWEEN PORTUGAL & INDIA', 'DJIBOUTI', 'BAHREIN', 'KOREA', 'ASIA',\n",
       "       'CEYLON (SRI LANKA)'], dtype=object)"
      ]
     },
     "execution_count": 90,
     "metadata": {},
     "output_type": "execute_result"
    }
   ],
   "source": [
    "# Este es el listado final de todos mis paises.\n",
    "sharks.country.unique()"
   ]
  },
  {
   "cell_type": "markdown",
   "metadata": {},
   "source": []
  },
  {
   "cell_type": "markdown",
   "metadata": {},
   "source": [
    "COLUMNA; Activity"
   ]
  },
  {
   "cell_type": "markdown",
   "metadata": {},
   "source": []
  },
  {
   "cell_type": "markdown",
   "metadata": {},
   "source": [
    "Aunque mis hipótesis afectan a actividades, para validarlo he optado por otra opción que no sea limpieza. Ver validación."
   ]
  },
  {
   "cell_type": "code",
   "execution_count": 101,
   "metadata": {},
   "outputs": [],
   "source": [
    "activities = list(sharks.activity.unique())"
   ]
  },
  {
   "cell_type": "code",
   "execution_count": 102,
   "metadata": {},
   "outputs": [
    {
     "data": {
      "text/plain": [
       "['Paddling',\n",
       " 'Standing',\n",
       " 'Surfing',\n",
       " 'Free diving',\n",
       " 'Kite surfing',\n",
       " 'Swimming',\n",
       " 'Fishing',\n",
       " 'Walking',\n",
       " 'Feeding sharks',\n",
       " 'Boogie boarding',\n",
       " 'Scuba diving',\n",
       " 'Paddle-skiing',\n",
       " 'Body boarding',\n",
       " 'Windsurfing',\n",
       " 'Stand-Up Paddleboarding',\n",
       " 'Wading',\n",
       " 'Scuba Diving',\n",
       " 'Kayak fishing for sharks',\n",
       " 'Cleaning fish',\n",
       " 'Snorkeling',\n",
       " 'Spearfishing',\n",
       " nan,\n",
       " 'Diving',\n",
       " 'Fishing / Wading',\n",
       " '2 boats capsized',\n",
       " 'Night bathing',\n",
       " 'Surfing ',\n",
       " 'Kayaking / Fishing',\n",
       " 'Kayaking',\n",
       " 'Body surfing',\n",
       " 'Swimming, poaching abalone',\n",
       " 'Canoeing',\n",
       " 'SUP',\n",
       " 'Skimboarding',\n",
       " 'Touching a shark',\n",
       " 'Fishing ',\n",
       " 'Attempting to lasso a shark',\n",
       " 'Photo shoot',\n",
       " 'Paddle boarding',\n",
       " 'Kakaying',\n",
       " 'Washing hands',\n",
       " 'Grabbing shark for a selfie',\n",
       " 'Kayak fishing',\n",
       " 'Tagging sharks',\n",
       " 'Surf skiing ',\n",
       " 'Surf fishing',\n",
       " 'Floating',\n",
       " 'Cage Diving',\n",
       " 'Surfng',\n",
       " 'SUP Foil boarding',\n",
       " 'Lobstering',\n",
       " 'Fishing in Alabama Deep Fishing Rodeo',\n",
       " 'Fishing for squid',\n",
       " 'Fishing for sharks',\n",
       " 'Floating in tube',\n",
       " 'Teasing a shark',\n",
       " 'Surf-skiing',\n",
       " 'Diving for beche-de-mer',\n",
       " 'Feeding stingrays?',\n",
       " 'Kayak Fishing',\n",
       " 'Sea disaster',\n",
       " 'Lobster fishing',\n",
       " 'Swimming / Wading',\n",
       " 'Fishing for shrimp',\n",
       " 'Photographing fish',\n",
       " 'Scallop diving on hookah',\n",
       " 'Treading water',\n",
       " 'Body boarding ',\n",
       " 'Playing in the water',\n",
       " 'Body Boarding',\n",
       " 'Body surfing?',\n",
       " 'Playing',\n",
       " 'Attempting to rescue a shark',\n",
       " 'Photographing the shark',\n",
       " 'Standing / Snorkeling',\n",
       " 'Hand feeding sharks',\n",
       " 'Sitting in the water',\n",
       " 'Transatlantic Rowing',\n",
       " 'Bodysurfing',\n",
       " 'Rowing',\n",
       " 'Shark fishing',\n",
       " 'Surfing & filming dolphins',\n",
       " 'Filming',\n",
       " 'Swimming after falling overboard',\n",
       " 'Diving / Filming',\n",
       " 'Fishing for blue sharks',\n",
       " 'Standing in inner tube',\n",
       " 'Body surfing or Boogie boarding',\n",
       " 'Kayaking ',\n",
       " 'Feeding fish',\n",
       " 'Playing with an air mattress',\n",
       " 'Kite boarding',\n",
       " 'Shark diving',\n",
       " 'Petting a shark',\n",
       " 'Kneeling in the water',\n",
       " 'Fell into the water',\n",
       " 'Shark watching',\n",
       " 'Diving for lobsters',\n",
       " 'Kite Surfing',\n",
       " 'Scuba diving / culling lionfish',\n",
       " 'Kitesurfing',\n",
       " 'Sailing',\n",
       " 'Spearfishing / Free diving',\n",
       " 'Free diving / Photographing pilot whales',\n",
       " 'Filming a documentary',\n",
       " 'Attempting to remove fishing net from submerged object',\n",
       " 'Kiteboarding',\n",
       " 'Diving for crayfish',\n",
       " 'Diving ',\n",
       " 'Swimming / snorkeling',\n",
       " 'Diving for Abalone',\n",
       " 'Casting a net',\n",
       " 'Marathon swimming',\n",
       " 'Longline fishing for sharks',\n",
       " 'Wrangling a shark',\n",
       " 'Attempting to free the shark',\n",
       " 'Walking in surf',\n",
       " 'Swimming ',\n",
       " 'Swimming & snorkeling',\n",
       " 'Boogie Boarding',\n",
       " 'Playing in the surf',\n",
       " 'Fly fishing',\n",
       " \"Fishing - 'tag & release'\",\n",
       " 'Swimming to shore with floatioon devices after boat engine conked out',\n",
       " 'Dragging stranded shark into deeper water',\n",
       " 'Bathing',\n",
       " 'Bodyboarding',\n",
       " 'Swimming or boogie boarding',\n",
       " 'Wading or swimming',\n",
       " 'Free diving ',\n",
       " 'Attempting to rescue an injured & beached shark',\n",
       " 'Free diving / spearfishing',\n",
       " 'Crayfishing',\n",
       " 'Diving, feeding sharks',\n",
       " 'Attempting to Kite surf from Egypt to Saudi Arabia',\n",
       " 'Fishing (illegally)',\n",
       " 'Diving, photographing sharks',\n",
       " 'Wade fishing',\n",
       " 'Jumping in the waves',\n",
       " 'Wade Fishing',\n",
       " 'Standing, collecting sea stars',\n",
       " 'Floating ',\n",
       " 'Swimming or Snorkeling',\n",
       " 'Kayaking or Wave skiing',\n",
       " 'Jet skiing',\n",
       " 'Standing or boogie boardin',\n",
       " 'Kite Boarding',\n",
       " 'Washing sand off a speared fish',\n",
       " 'Standing, holding shark pup',\n",
       " 'Diving / fishing',\n",
       " 'Wakeboarding',\n",
       " 'Diving for abalone',\n",
       " 'Shark fishing on the Ricardo Astorga',\n",
       " 'Shark fishing on the Don Agustín-VI. ',\n",
       " 'Attempting to fix motor',\n",
       " 'Swimming /  Whale Watching',\n",
       " 'Swimming after boat became disabled',\n",
       " 'Rescuing',\n",
       " 'Measuring sharks',\n",
       " 'Swimming / treading water',\n",
       " 'Surf fishing / wading',\n",
       " 'Spearfishing (free diving)',\n",
       " 'Paddling on kneeboard',\n",
       " 'Swimming to shore from capsized kayak',\n",
       " 'Paddle-boarding',\n",
       " 'Swimming, attempting to rescue a girl  believed to be drowning',\n",
       " 'Washing his feet',\n",
       " 'Paddle-surfing',\n",
       " 'Crawling',\n",
       " 'Diving, but on the surface when bitten by the shark',\n",
       " 'Air Disaster',\n",
       " 'Crabbing',\n",
       " 'Yacht race',\n",
       " 'Sinking of the cargo ship Mark Jason',\n",
       " 'Fishing boat swamped in storm',\n",
       " 'Swimming, towing surfboard',\n",
       " 'Swimming or surfing',\n",
       " 'Rowing an inflatable dinghy',\n",
       " 'Sea Disaster',\n",
       " 'Night diving',\n",
       " 'Free-diving',\n",
       " 'Walking out of the water after surfing',\n",
       " 'Fishing from surfski',\n",
       " \"Accidentally stood on hooked shark's tail before attempting to gut it \",\n",
       " 'Attempting to chase shark out to sea',\n",
       " 'Fishing for snapper',\n",
       " 'Removing fish from a trap',\n",
       " 'The 426-ton cargo ship Mia, laden with cement, capsized in heavy seas ',\n",
       " 'Wading?',\n",
       " 'Jumping',\n",
       " 'Floating near boat & observing bioluminesce',\n",
       " 'Jumped into the water',\n",
       " 'Surf paddling',\n",
       " 'Murder',\n",
       " 'Removing hook from shark',\n",
       " 'Reviving a sedated shark',\n",
       " 'Shark tagging',\n",
       " 'Swimming / jumping off a jetty',\n",
       " 'Playing on a sandbar',\n",
       " 'Shrimping',\n",
       " 'Swimming / Body Surfing',\n",
       " 'Playing soccer in the water',\n",
       " 'Free diving / modeling',\n",
       " 'Diving / Kissing the shark',\n",
       " 'Lifesaving drill',\n",
       " 'Touching sharks',\n",
       " 'Competing in the Woodvale Atlantic Rowing Race',\n",
       " 'Night Surfing',\n",
       " 'Standing / Surfing',\n",
       " 'Treading water/ Surfing',\n",
       " 'Removing shark from net',\n",
       " 'Boogie boarding, kicked at object in the water',\n",
       " 'Scuba diving in aquarium tank',\n",
       " 'Holding onto an inflatable boat',\n",
       " 'Swimming with boogie board',\n",
       " 'Spearfishing (Free diving)',\n",
       " \"Crouching in 2' of water\",\n",
       " 'SCUBA Diving',\n",
       " 'Diving in aquarium display tank',\n",
       " 'Attempting to drive shark away from sailing regatta',\n",
       " 'Fishing from a kayak',\n",
       " 'Swept out to sea by the tsunami, she clung  to a log for 24 hours',\n",
       " 'Scurfing (surfboard being  towed behind a boat)',\n",
       " 'Chumming for white sharks',\n",
       " 'Spearfishing/ filming',\n",
       " 'Diving & fishing with net',\n",
       " 'Wading / fishing & carrying a bag of fish',\n",
       " 'Fishing for squid aboard the trawler Shikishima-Maru when the shark leapt into the boat',\n",
       " 'In water with diving seabirds',\n",
       " 'Swimming, poaching perlemoen',\n",
       " 'Boogie-boarding / swimming',\n",
       " 'Free diving & spearfishing',\n",
       " 'Tandem surfing',\n",
       " 'Five men on makeshift raft after their 10 m fishing boat  capsized and sank in rough seas. Survivors rescued after  7.5 hours in the water',\n",
       " 'Surf skiing',\n",
       " 'Kayaking (returning from spearfishing)',\n",
       " 'Air disaster. Flash Airlines Boeing 737 crashed into the Red Sea',\n",
       " 'Swimming / shipwreck',\n",
       " 'Surfing amid a shoal of sharks',\n",
       " 'Swimming to shore from boat or kayak',\n",
       " 'Sitting on surfboard',\n",
       " 'Wading near a fishing net',\n",
       " 'Wading to shore from his boat',\n",
       " 'Standing, stepped on shark',\n",
       " 'Wade-fishing',\n",
       " 'Swimming, wearing black wetsuit & swim fins',\n",
       " 'Walking, carrying surfboard & stepped on shark',\n",
       " 'Swimming with pod of dolphins',\n",
       " 'Killing  sharks',\n",
       " 'Swimming (using a float)',\n",
       " 'Petting captive sharks',\n",
       " 'Unknown',\n",
       " \"Fishing, standing in 2' of water\",\n",
       " 'Fishing from Surfboard',\n",
       " 'Boogie boarding or Surfing',\n",
       " 'Wading, when he stepped on the shark',\n",
       " 'Shark Fishing',\n",
       " 'Attempting to retreive a dinghy',\n",
       " 'Snorkeling (filming the sardine run)',\n",
       " 'Floating on a raft',\n",
       " 'Fishing, removing the shark from his line',\n",
       " 'Playing in the surf with his 2 dogs',\n",
       " 'Collecting beche-de-mer',\n",
       " 'Fishing from prawn trawler',\n",
       " 'Scallop diving (using surface-supplied air & a POD) ',\n",
       " 'Fishing (Drowned 2-Apr-2002)',\n",
       " 'Surfing, but standing in water alongside board',\n",
       " 'Body-boarding',\n",
       " 'Swimming /  boogie boarding',\n",
       " 'Capsized fishing boat',\n",
       " 'Kite-Boarding',\n",
       " 'Surfing, fell off surfboard & stepped on the shark.',\n",
       " 'Wreck / Technical diving',\n",
       " 'Walking in shallows',\n",
       " 'Fell off banana boat',\n",
       " 'Floating face-down in knee-deep water',\n",
       " 'Hiking on the beach',\n",
       " 'Spearfishing, carrying his catch',\n",
       " 'Standing alongside surfboard',\n",
       " 'Batin',\n",
       " 'Attempting to catch a crocodile',\n",
       " \"Sinking of the 40' Esperanza off St. Maartin with 36 refugees on board\",\n",
       " 'Fishing for whiting',\n",
       " 'Swimming back from anchored sailboat',\n",
       " 'Diving for sea urchins',\n",
       " 'Diving (shell maintenance)',\n",
       " 'Shipwrecked',\n",
       " 'Fell onto dead shark',\n",
       " 'Standing / surfing',\n",
       " 'Swimming / Body surfing',\n",
       " 'Conducting research',\n",
       " 'Swimming out to porpoises ',\n",
       " 'Windsurfing, but sitting on his board',\n",
       " 'Surfing / Wading',\n",
       " 'Attempting to illegally enter the USA',\n",
       " 'Spearfishing, holding mesh bag with speared fish',\n",
       " 'Air Disaster - Piper aircraft crashed into the sea, killing all on board',\n",
       " 'Boogie boarding / wading',\n",
       " 'Feeding prawns to captive sharks',\n",
       " 'Canoe with 3 men onboard sank',\n",
       " 'Fishing for tarpon',\n",
       " 'Surfing (sitting on his board)',\n",
       " 'Spearfishing, but swimming at surface',\n",
       " 'Surfing, lying on surfboard',\n",
       " 'Wading to shore after surfing',\n",
       " 'Wading with surfboard',\n",
       " \"Lying prone in 2' of water\",\n",
       " 'Spearfishing & holding catch',\n",
       " 'Swimming with dolphins',\n",
       " 'Wading in school of baitfish',\n",
       " 'Adrift in a life jacket',\n",
       " 'Splashing / wading',\n",
       " 'Swimming after being swept into sea by a large wave',\n",
       " 'Spearfishing & diving for paua',\n",
       " \"Scientific research (Dr. Sonny Gruber's student)\",\n",
       " 'Swimming, towing a kayak',\n",
       " 'Body surfing or body boarding',\n",
       " 'Swimming near pod of whales',\n",
       " 'Cruising',\n",
       " 'Paddle Skiing',\n",
       " 'Inflatable boat',\n",
       " 'Splashing',\n",
       " 'Fishing for tuna',\n",
       " 'Fishing / washing bait off hands',\n",
       " 'Moving a shark in a net ',\n",
       " 'Surfing (or body boarding)',\n",
       " 'Free diving for abalone',\n",
       " 'Swimming / surfing',\n",
       " 'Towing rubber dinghy',\n",
       " 'Surfing (lying prone on his board)',\n",
       " 'Snorkeling \\x96 hunting crayfish and abalone',\n",
       " 'Swimming or paddle boarding',\n",
       " 'Spearfishing on scuba & transferring fish onto a stringer',\n",
       " 'Scuba diving (submerged riding a scooter)',\n",
       " 'Body boarding or surfing',\n",
       " 'Fishingat',\n",
       " 'Walking / surfing',\n",
       " 'SCUBA diving',\n",
       " 'Floating on raft',\n",
       " 'Wading / Surfing',\n",
       " 'Fishing for octopus',\n",
       " 'Spearfishing / night diving',\n",
       " 'Body surfing, stood up on sandbar',\n",
       " 'Rowing ',\n",
       " 'Watching seals',\n",
       " 'Attempting to attract dolphins',\n",
       " 'Swimming or snorkeling',\n",
       " 'Surfing / Swimming',\n",
       " 'Free diving with a pod of dolphins',\n",
       " 'Tech diving ',\n",
       " 'Shell Diving',\n",
       " 'Swimming breast stoke',\n",
       " 'Fishing in knee-deep water',\n",
       " 'Dived naked into the water on a bet',\n",
       " 'Swimming in fish tank',\n",
       " 'Boeing 757 enroute from Porta Plata plunged into the sea',\n",
       " 'Swimming with mask & snorkel',\n",
       " 'Chumming for sharks',\n",
       " 'Diving, gathering shellfish',\n",
       " 'Fell off aircraft carrier',\n",
       " 'Playing / standing',\n",
       " 'Abalone diving using Hookah (near calving whales)',\n",
       " 'Abalone diving using Hookah (resting on the surface)',\n",
       " 'On a float',\n",
       " '\"Riding waves on a board\"',\n",
       " 'Jumped off surfboard & landed on the shark',\n",
       " 'Scuba diving (ascending using scooter)',\n",
       " 'Playing / jumping',\n",
       " 'Sleeping in anchored boat',\n",
       " 'Scuba diving for bivalves',\n",
       " 'Wind surfing',\n",
       " 'Surfing, sitting on board',\n",
       " 'Murder victim',\n",
       " 'Commercial diver (submerged or treading water)',\n",
       " 'Surfing, paddling seawards',\n",
       " 'Adrift on refugee raft',\n",
       " 'Jumped off rocks into white water',\n",
       " 'Freediving for seashells',\n",
       " 'Swimming alongside NOAA research vessel Discoverer',\n",
       " 'Removing shark from tank in nightclub ',\n",
       " 'Swimming, after falling off towed kneeboard',\n",
       " 'Playing volleyball with friends',\n",
       " 'Hookah diving',\n",
       " 'Surfing, paddling shorewards',\n",
       " 'Stamding',\n",
       " 'Watching the shark feeding on a dead pinniped',\n",
       " 'Riding floatation device',\n",
       " 'Free diving for abalone (ascending)',\n",
       " 'Fishing for lobsters',\n",
       " 'Oyster fishing',\n",
       " 'Paddling on surfboard or body board',\n",
       " 'Scuba diving at seal colony',\n",
       " 'Floating on his back',\n",
       " 'Paddling on surfboard',\n",
       " 'Free diving & spearfishing (ascending)',\n",
       " '   ',\n",
       " 'Standing in waist-deep water, helping his father tend a gill net containing dead fish',\n",
       " 'Lying on surfboard',\n",
       " 'Spearfishing / free diving',\n",
       " 'Scuba diving (submerged)',\n",
       " 'Hookah diving for sea urchins',\n",
       " 'Snorkeling, carrying a speared fish in her hand',\n",
       " 'Fell from cliff while fishing & disappeared in strong current',\n",
       " 'Fisherman',\n",
       " \"Zosimo & his son, Jeffrey Popa, failed to return from overnight fishing trip in a 14' boat, Boat apparently sank, debris recovered but his son & boat were never found\",\n",
       " 'Preparing to fish for jack-mackerel',\n",
       " 'Scuba diving ',\n",
       " 'Scuba diving & filming',\n",
       " 'Hookah diving for pen shells ',\n",
       " 'Fishing for yellowtail, Seriola quinqueradiata',\n",
       " 'Diving for pen shells',\n",
       " 'Fishing from rocks, swept out to sea by large wave & treading water',\n",
       " 'Finning the shark that bit him',\n",
       " 'Swimming from makeshift raft  to life vest after fishing boat sank',\n",
       " 'Swimming behind sailboat',\n",
       " 'Surfing, collided with shark',\n",
       " 'Surfing (or sailboarding)',\n",
       " 'Scuba diving (but on surface)',\n",
       " 'Free diving / spearfishing, from paddleboard & floating on the surface',\n",
       " 'Snorkeling, possibly holding a fish',\n",
       " 'Resting on surfboard',\n",
       " 'Lying on surfboard & paddling',\n",
       " 'Free diving for trochus',\n",
       " 'Scuba diving & spearfishing',\n",
       " 'Board sailing',\n",
       " \"On board 51' fishing vessel One Ki\",\n",
       " 'Wading, knocked down & swept away by large waves',\n",
       " 'Swimming in canal',\n",
       " \"Fishing, stepped on hooked shark's head\",\n",
       " 'Observing a shark feeding on a carcass of a humpback whale',\n",
       " 'Hookah diving for abalone (descending)',\n",
       " \"Filming 5' blue shark\",\n",
       " 'Playing ',\n",
       " \"Fell off surfboard 20' from shore\",\n",
       " 'Windsurfing (urinating on his board)',\n",
       " 'Scuba diving, but swimming on surface',\n",
       " 'Swimming in strong current with 3 others when he disappeared',\n",
       " 'Surfing with dolphins',\n",
       " 'Scuba diving, hand feeding sharks',\n",
       " 'Spearfishing using scuba & trailing a string of bleeding fish',\n",
       " 'Skindiving',\n",
       " 'The Christie V sank on 11/6/1988, survivors were adrift on a dinghy',\n",
       " 'The MV Dona Marilyn sank in Typhoon Unsang with the loss of 389 lives',\n",
       " \"Diving in Sharkey's Reef restaurant\\x92s aquarium\",\n",
       " 'Free diving & spearfishing ',\n",
       " 'Spearfishing on scuba',\n",
       " 'Sittting in water with his child',\n",
       " 'Shell diving',\n",
       " 'Surfing / treading water',\n",
       " 'pêcheur de bichiques',\n",
       " \"Onboard 21' powerboat that capsized in rough seas\",\n",
       " 'Standing ',\n",
       " 'Lying atop surfboard',\n",
       " 'Drift fishing',\n",
       " 'Fell overboard  from the Taiwanese fishing trawler Lien Cheng Feu ',\n",
       " \"Attempting to lasso shark's tail\",\n",
       " 'Returning to shore, collided with shark',\n",
       " 'Ferry boat Dona Paz with 4431 passengers exploded & caught fire when she collided with an  oil tanker ',\n",
       " 'Vessel caught fire & capsized, survivors in the water',\n",
       " 'Scuba Diving for scallops',\n",
       " 'Dropping anchor',\n",
       " 'Swimming from shore to anchored sailboat',\n",
       " 'The inter-island ferry Vula sank in heavy weather',\n",
       " 'Jumped into the water from a cliff',\n",
       " 'Boat',\n",
       " 'Adrift after ditching plane in the sea',\n",
       " 'Free diving  & spearfishing (submerged)',\n",
       " 'NSB Meshing',\n",
       " 'Racing ski',\n",
       " 'Fishing, fell from rocks & disappeared',\n",
       " 'Hookah diving for abalone',\n",
       " 'Floating on inner tube after diving for lobster',\n",
       " 'Free diving & spearfishing (descending)',\n",
       " 'Bottom fishing for lingcod & had hooked a fish',\n",
       " 'Playing in knee-deep water',\n",
       " 'Surfing, but lying prone on his board',\n",
       " 'Free diving for scallops',\n",
       " 'Scuba Diving for lobster (at surface)',\n",
       " 'Investigating shark sighting',\n",
       " 'Sailing on catamaran & fell into the water',\n",
       " 'Surfing or body surfing',\n",
       " 'Free diving , but surfacing',\n",
       " 'Boat capsized?',\n",
       " 'Sea disaster, foundering of the cargo vessle M/V Dorolonda',\n",
       " \"During a shark fishing tournament, the 18' Boatem was capsized by waves, throwing 3 men into the water \",\n",
       " 'Towing her sister on plastic ski board',\n",
       " 'Steinhart Aquarium',\n",
       " 'Scuba diving for abalone',\n",
       " 'Ferry boat sank',\n",
       " 'Swimming from the New Venture ',\n",
       " '14 m prawn trawler New Venture capsized  & sank in heavy seas Three people in the water',\n",
       " 'Floating on air mattress',\n",
       " 'Surfing & dangling foot in water amid baitfish',\n",
       " 'Water-skiing',\n",
       " 'Paddleskiing',\n",
       " 'Ran into the water',\n",
       " 'In waist-deep water',\n",
       " 'Free diving for abalone from Zodiac (submerged)',\n",
       " 'Paddle Boarding',\n",
       " 'Spearfishing ',\n",
       " 'Sailboarding, fell into water 100 yards outside the breakwater',\n",
       " 'Fishing on a boat',\n",
       " 'Spearfishing, but swimming on surface',\n",
       " 'Inspecting teeth of supposedly dead (hooked & shot) shark',\n",
       " \"Diving to untangle a crab trap line from boat's propeller\",\n",
       " \"16' catamaran capsized previous night, occupants stayed with wreckage until morning, then attempted to swim ashore\",\n",
       " 'Snorkeling on surface',\n",
       " 'Catching sardines',\n",
       " 'Scuba diving, reportedly also spearfishing',\n",
       " 'Foundering of the Israeli freighter Mezada',\n",
       " 'Standing / Wading',\n",
       " 'Free diving Spearfishing',\n",
       " 'Exercising his dog in the shallows',\n",
       " 'Commercial spearfishing',\n",
       " 'Free diving / spearfishing, ',\n",
       " 'Diving in tuna net',\n",
       " 'Resting on body board',\n",
       " 'Skin diving',\n",
       " 'Sinking of the ferryboat Don Juan',\n",
       " 'Sinking of the ferryboat Bongbong 1',\n",
       " 'Hookah Diving',\n",
       " 'Gaffing netted shark',\n",
       " 'Freedom swimming',\n",
       " 'Murdered by Thai pirates',\n",
       " 'Floating with life preserver after his boat foundered',\n",
       " 'Floating on inner tube raft',\n",
       " \"Explosion destroyed 28' boat, survivors in the water \",\n",
       " 'Fishing for mackerel',\n",
       " 'Swimming, after single-engine aircraft went down in the sea',\n",
       " 'Fishing for bottom fish',\n",
       " 'Floating on an inflatable raft',\n",
       " 'Free diving for abalone (surfacing)',\n",
       " \"40' fishing boat sank\",\n",
       " 'Spearfishing / Scuba diving',\n",
       " 'Collecting fish from net',\n",
       " 'Fishing for yellowtail',\n",
       " 'Their 9 m launch was run down by a 25,000-ton Japanese freighter  on the night of 3-11-1977 & they drifted, clinging to an icebox for 2 days',\n",
       " \"Pushed surfmat of a young girl out of the shark's path, drawing shark's attention to his own board\",\n",
       " 'Hookah diving for abalone (submerged)',\n",
       " 'Thrashing the water / imitating the shark victim from \"Jaws\"',\n",
       " 'Fishing for white shark',\n",
       " 'Shipwreck',\n",
       " 'Skindiving,',\n",
       " '3,909-ton Panamanian freighter Chieh Lee sank in a typhoon',\n",
       " 'Surfing, fell off surfboard',\n",
       " \"Sitting in bow of her father's 5 m boat\",\n",
       " 'Competing in a light tackle game fishing',\n",
       " 'Fishing for snoek & yellowtail',\n",
       " 'Spearfishing / scuba diving',\n",
       " 'Attempting to drive shark away from the beach',\n",
       " 'Filming & feeding captive sharks',\n",
       " 'Floating on a small orange raft ',\n",
       " 'Scuba diving for abalone (at surface)',\n",
       " 'Swimming near his boat',\n",
       " 'Spearfishing Competition',\n",
       " 'Floating in inner tube',\n",
       " 'Diving & force-feeding the shark',\n",
       " 'Attempting to drag hooked shark ashore by its tail',\n",
       " 'Ferry capsized',\n",
       " 'Swimming underwater from crayfish cage to a fishing bait',\n",
       " '3.3 m fishing boat sank. Treveluwe & Peter Hodgson (wearing lifejackets) were drifting in the current',\n",
       " 'Freedom Swimming',\n",
       " 'Free diving for abalone (submerged)',\n",
       " 'Adrift after the sinking of the motor yacht Princess Dianne',\n",
       " 'Free diving (but on surface)',\n",
       " 'Fishing boat swamped in a storm',\n",
       " 'Fishing for kob',\n",
       " 'Fishing for red fish',\n",
       " 'Sitting',\n",
       " 'Swimming alongside yacht Mexico Fiesta',\n",
       " 'Being pulled to shore from wreck of 25-ton fishing vessel Alan S',\n",
       " 'Free diving, Spearfishing',\n",
       " 'Crabbing (spearing crabs)',\n",
       " 'Fishing from paddleski',\n",
       " 'Scuba diving & U/W photography',\n",
       " 'Sitting in shallows',\n",
       " 'Free diving, collecting shells',\n",
       " 'Scuba diving & feeding fish',\n",
       " 'Hookah diving (submerged)',\n",
       " 'Wreck of the 1689-ton Portuguese  coaster Angoche',\n",
       " 'Fishing for prawns',\n",
       " 'Sea Disaster Sinking of ferryboat Christina',\n",
       " 'Motor launch Baby Princesa capsized with 22 people on board',\n",
       " 'Freediving',\n",
       " 'Air disaster',\n",
       " 'Attempted to return injured shark to the sea',\n",
       " 'Spearfishing / freediving',\n",
       " 'Washing cooking pans',\n",
       " 'Washing clothes on stairs',\n",
       " 'Fishing, trying to catch the end of his fishing line',\n",
       " 'Scuba diving for lobsters',\n",
       " 'Freediving for abalone (at surface)',\n",
       " 'Surf-fishing',\n",
       " 'Netting pilchards',\n",
       " 'Hard hat diving',\n",
       " 'Sight-seeing',\n",
       " 'Feeding mullet to sharks',\n",
       " 'Wreck of the Storm King',\n",
       " 'Spearfishing using Scuba',\n",
       " 'Sinking of the ferryboat Dumaguete ',\n",
       " 'Playing with a frisbee in the shallows',\n",
       " 'Leaving the water',\n",
       " 'Dynamite fishing',\n",
       " 'Small boat with 2 men onboard hit a submerged coral formation. Men began swimming to shore',\n",
       " 'Clamming',\n",
       " 'Schooner sank during a storm',\n",
       " 'Diving. Shark \\x93swallowed\\x92 his hand, so he threw his other around the shark and went \\x93shark-back riding\\x94 for 30 yards until the shark opened its jaws',\n",
       " 'Wading & pushing dinghy toward  the shallows',\n",
       " 'Picking up shark by the tail',\n",
       " 'Swimming after his canoe capsized',\n",
       " 'Sinking of the M/V Mindoro during a typhoon',\n",
       " 'Standing on sandbar',\n",
       " \"Boat capsized between O'ahu & Molokai\",\n",
       " 'Pulling shark from the water',\n",
       " 'Spearfishing on Scuba',\n",
       " 'Spearfishing, dived to pick up a float line',\n",
       " 'Anti-sabotage night dive exercise alongside destroyer (Scuba diving)',\n",
       " 'Photographing sharks underwater using Scuba',\n",
       " 'Beach seine netting',\n",
       " 'Fishing boat',\n",
       " 'Feeding a shark',\n",
       " 'Vehicle plunged over cliff into the water',\n",
       " 'The shrimper Loless Maurine capsized in heavy seas & the men were swimming ashore  ',\n",
       " 'Fishing for rock lobster',\n",
       " 'Swimming in the channel',\n",
       " 'A father bathing his smallest daughter when the shark bumped her out of his arms and carried her into deep water',\n",
       " 'Free diving, carrying speargun',\n",
       " 'Hunting crayfish ',\n",
       " 'Diving / UW photography',\n",
       " 'Netting sharks',\n",
       " 'Diving into water',\n",
       " 'Lobster diving using Scuba',\n",
       " 'Attacked shark with fists',\n",
       " 'Diving for sand dollars',\n",
       " 'Killing a shark',\n",
       " 'Sinking of the dredge World Atlas',\n",
       " 'The passenger ship Pioneer Cebu  capsized & sank in Typhoon Irma',\n",
       " 'Overturned skiff',\n",
       " 'Fishing (big game)',\n",
       " 'The World Liberty and the tanker Mosli collided. The  Halcyon Breeze sent a lifeboat to the rescue, but it was smashed, throwing 6 men in the  water.',\n",
       " 'Helping men land a shark',\n",
       " 'wreck of the State Oil Company ship Permina',\n",
       " 'Free diving / spearfishing (resting on the surface)',\n",
       " 'Colombian  (Avianca) DC-4 airliner plunged into the sea 5 minutes after takeoff',\n",
       " 'Body surfing ',\n",
       " 'Spearfishing, but standing in knee-deep water',\n",
       " \"Fishing from 34' boat when pulled overboard by hooked shark\",\n",
       " 'Hauling dead shark aboard, when another shark leapt out of the water & bit him',\n",
       " 'Argentine Air Force C-54',\n",
       " 'The boat Caribou II sank',\n",
       " 'Sunbathing on beach when he saw child being attacked by the shark',\n",
       " 'Spearfishing, shot a turtle',\n",
       " 'Spearing fish',\n",
       " 'Fishing (rod & line)',\n",
       " 'Arsinoe, a French tanker',\n",
       " 'Attempting to anesthetize shark',\n",
       " 'Diving, retrieving film package from Titan 3C rocket',\n",
       " 'Walking on reef',\n",
       " 'Aircraft exploded',\n",
       " 'Motor boat Rebel Belle lost',\n",
       " 'Paddling rescue ski',\n",
       " 'Dangling feet in the water',\n",
       " 'Collecting marine specimens',\n",
       " 'Standing in waist-deep water',\n",
       " 'Spearfishing, but standing in the water',\n",
       " 'Bather',\n",
       " 'Canoe swamped, swimming back to canoe',\n",
       " 'Fishing with hand line tied to wrist & was pulled into the water',\n",
       " 'Free diving with seals',\n",
       " 'Swimming out to rescue swimmers in difficulty',\n",
       " 'Filming underwater, carrying powerhead',\n",
       " 'Longline fishing',\n",
       " 'Boat Miss Becky  sank 12 miles from shore',\n",
       " 'Surfing, but swimming to his board',\n",
       " 'Floating on his back in an inner tube',\n",
       " 'Spearfishing using scuba',\n",
       " 'Free diving / Spearfishingat edge of reef',\n",
       " 'Searching for remains of  Dr. Marais',\n",
       " 'Yacht Gooney Bird foundered, 4 survivors on raft',\n",
       " 'Standing / fishing',\n",
       " 'canoeing',\n",
       " 'Conducting a promotional film project for the Gemini space program (a practice astronaut recovery)',\n",
       " 'Attempting to swim across the Atlantic Ocean',\n",
       " 'Canoe capsized with 10 occupants, 8 survived,  Hamilton swam off to seek help',\n",
       " 'Skin diving ',\n",
       " 'Free diving for shell',\n",
       " 'Diving for trochus shell',\n",
       " 'preparing to go skin diving',\n",
       " 'Lying in 2 feet of water',\n",
       " 'Spearfishing / Scuba diving (at surface)',\n",
       " 'Diving for sinkers',\n",
       " 'Sitting on gunwale of boat',\n",
       " 'Greek steamship Lakonia caught fire, 98 of her 646 passengers, and 30 of her crew of 376 perished',\n",
       " 'Helping friend land hooked shark',\n",
       " 'Splashing in surf',\n",
       " 'Treading water while alongside capsized yacht',\n",
       " 'Fishing / standing in waist deep water',\n",
       " 'Catching sharks under government contract',\n",
       " 'Testing anti-shark cage',\n",
       " 'Surf fishing, wading ',\n",
       " 'Commercial fishing vessel, Ev-nn, struck object & sank. Ken Crosby and  Jame & Ann Dumas adrift on makeshift raft.',\n",
       " 'Spearfishing, pulled shark\\x92s tail',\n",
       " 'Swimming, when caught in heavy seas',\n",
       " 'Fishing, on charter boat Silver Dollar',\n",
       " \"63' fishing boat Sno' Bay foundered\",\n",
       " 'Seining for bait, standing in chest-deep water',\n",
       " 'Boat, with 42 passengers onboard, capsized in rough seas',\n",
       " 'Surfing on \"chest board\" (boogie board?)',\n",
       " 'Washed into sea while picking opihi',\n",
       " 'The 500-ton coastal trader Polurrian foundered ',\n",
       " 'S.S. Marine Sulphur Queen, laden with molten sulphur was bound from Beaumont, Texas for Norfolk, VA, when she disappeared with 39 on board',\n",
       " 'Free diving, hunting crayfish',\n",
       " 'Fishing for turtles',\n",
       " 'Spearfishing, Scuba diving',\n",
       " 'Abandoning burning ship Captain George in raging seas',\n",
       " 'Adrift after wave swamped engine',\n",
       " \"Overcome by CO fumes, fell overboard from 36' fishing cruiser & prop slashed arm\",\n",
       " 'When  a deckhand  jumped overboard, McIver dived after him with a rescue line.',\n",
       " 'Spearfishing with Scuba gear',\n",
       " 'Surf fishing in waist-deep water',\n",
       " 'Finning the shark',\n",
       " 'Fishing for albacore',\n",
       " 'Playing in surf with his child  (9)',\n",
       " 'Dived from inner-tube',\n",
       " 'U.S. Airforce crewman reported missing after bailing out of jet',\n",
       " 'On a \"shark hunt\"',\n",
       " 'Rolled off raft',\n",
       " 'Escaping from Alacatraz',\n",
       " 'Washing',\n",
       " 'Scuba diving, attempting to catch a captive shark',\n",
       " '25-foot cabin cruiser Happy Jack sank in heavy seas',\n",
       " 'Fishing & spearfishing',\n",
       " 'Swimming along a row of nets',\n",
       " 'Fishing for snappers & cleaning mullet. Put mullet over side of boat to wash it',\n",
       " 'Swimming outside fishing net',\n",
       " 'Splashing ',\n",
       " 'Fishing, slipped on rocks & fell into sea',\n",
       " \"Fishing with hand net in 2' of water\",\n",
       " 'Fishing, hauling in a 5-lb snapper',\n",
       " 'Surfing, pushing board ashore',\n",
       " 'Swimming with other crew near wharf',\n",
       " 'Gathering shells',\n",
       " 'Paddling outrigger canoe',\n",
       " 'Survived US Naval aircraft crash, climbing onboard rescue vessel when he fell back into sea ',\n",
       " 'Free diving, surveying a pipeline & examing cathodes under jetty',\n",
       " 'Attaching a line at sea',\n",
       " 'Net fishing, picking catch from the net',\n",
       " 'Fishing, two large sharks passed. He speared one and it bit him',\n",
       " 'Fishing (trolling)  from canoe',\n",
       " 'Scuba diving & spearfishing ',\n",
       " 'Fishing, speared shark upset canoe & man fell in water',\n",
       " 'Collecting dynamited fish',\n",
       " 'Walking in chest-deep water',\n",
       " 'Checking fish traps, fell into the water',\n",
       " 'Swimming, using bundles of sticks as raft',\n",
       " 'Cargo ship Dara sank after collision with another ship during a severe storm',\n",
       " 'Fishing from dinghy',\n",
       " 'Floating on back',\n",
       " 'Cleaning a tank',\n",
       " 'Spearfishing, shark grabbed his white t-shirt and towed him ',\n",
       " 'Collecting crayfish',\n",
       " 'Collecting aquarium specimens',\n",
       " 'Pacific Seafarer of US Navy',\n",
       " 'Ocean racing',\n",
       " 'Taking boat from California to Florida when it ran aground & he was swimming back to boat',\n",
       " 'Free diving for molluscs',\n",
       " 'Light aircraft ditched at sea',\n",
       " 'Swept out to sea while net fishing',\n",
       " 'Fishing, when line became snagged on rock & he dived into water to free it ',\n",
       " 'Fell overboard, prop slashed arm',\n",
       " 'Chasing shark out of bathing area while riding on a surf-ski',\n",
       " 'Spearfishing, speared fish retreated to cave where shark grabbed his arm',\n",
       " 'Hand lining for shad',\n",
       " 'Ejected from F3H-2 aircraft ',\n",
       " 'Fishing for rock lobsters',\n",
       " 'Collecting shells',\n",
       " 'Cargo ship El Gamil entroute Suez to Yemen (Aden) when her cargo shifted and she sank. 19 Egyption sailors jumped into the water and swam for several hours before being bitten by sharks',\n",
       " 'Free diving / photography, kneeling on sand',\n",
       " 'Fishing inside net',\n",
       " 'R5D aircraft went down with 29 on board',\n",
       " 'Free diving / Spearfishing',\n",
       " 'Swimming 3 miles offshore',\n",
       " 'Air disaster: crash of Air France Super Constellation ',\n",
       " 'Aircraft crashed into sea',\n",
       " 'Standing in knee-deep water',\n",
       " 'boat with 46 people on board capsized',\n",
       " 'Holding shark on leader & dangling it above the water',\n",
       " 'Helping angler land a shark',\n",
       " 'Fishing, Struck by another shark when removing shark from line',\n",
       " 'Swimming from camp',\n",
       " 'Pulling raft out to ride to shore',\n",
       " 'Fishing, tossing netted shark onboard',\n",
       " 'Testing classified underwater electronic gear for Raytheon Corporation, vessel torn apart by explosion',\n",
       " 'Diving for shells, saw shark circling wife near the surface, intercepted shark & it pulled him beneath the water',\n",
       " 'Spearfishing, free diving, possibly ascended into path of cruising shark',\n",
       " 'Free diving but treading water at surface',\n",
       " 'Skindiving for abalone (but at surface)',\n",
       " 'Fishing, hauling in a set line',\n",
       " 'Spearfishing, shot a sandtiger shark. Cord to spear tangled round his legs & a wave washed him onto a reef.',\n",
       " 'Speared a grouper, saw shark but it came for him instead of the fish so he fired spear into shark\\x92s mouth. Then shark took grouper but unable to swallow because of the spear in its mouth.',\n",
       " 'Fishing in shoulder-deep water',\n",
       " 'Fishing, hooked shark towed boat out to sea, storm swamped boat',\n",
       " 'Spearfishing, carrying fish on belt',\n",
       " 'Wading, fishing for flounder',\n",
       " 'S2F-1 airplane crashed immediately after carrier take-off',\n",
       " 'Portuguese Airliner with 9 people aboard went down. ',\n",
       " 'Fishing, lifting shark out of craypot',\n",
       " 'Setting crayfish pots',\n",
       " 'Standing, watching seine netters',\n",
       " 'Collecting ornamental fish',\n",
       " 'Spear fishing, removing fish from spear',\n",
       " 'Swimming underneath house on pilings',\n",
       " 'Dived from dinghy to retrieve oar in heavy seas',\n",
       " 'ship M.V. Rizal sank during typhoon',\n",
       " 'Spearfishing, Smith  & Walker touched shark with tip of their guns',\n",
       " '17 Maldivians adrift in open boat for 31 days',\n",
       " 'Standing in chest-deep water',\n",
       " 'Trailing the field in a surf race',\n",
       " 'National Airlines DC7B enroute from Miami to Los Angeles with 42 or 46 people on board went down in heavy fog',\n",
       " 'Fishing for tunny',\n",
       " \"Swimming at surface through school of feeding 2.5' to 5\\x92 sharks\",\n",
       " 'Spearfishing, shot shark, hauled it onto boat',\n",
       " 'Dived overboard to retrieve dinghy',\n",
       " \"Adrift, hanging onto cushion, after his 17' skiff ran out of gas & capsized 3 miles from shore\",\n",
       " 'Gigging for flounder',\n",
       " 'Pulling hooked salmon to boat',\n",
       " 'On inflatable raft',\n",
       " 'The 240-ton motor vessel Pilar II with 100 people on board capsized in high winds & rough seas',\n",
       " 'Fishing boat capsized ',\n",
       " 'Spearfishing with Joe Turner (24). Shark attracted to speared halibut on belt of one diver, tried to bite Ide\\x92s speargun & he shot it in the mouth',\n",
       " 'Pulling anchor',\n",
       " 'Spearfishing (but on surface)',\n",
       " 'Dragging stranded shark ashore',\n",
       " 'Columbian petrol barge Rio Atrato burned and sank',\n",
       " 'Swimming ashore from capsized boat',\n",
       " 'Jumped overboard to rescue a man',\n",
       " 'Diving for pearl shell',\n",
       " 'Lifeboat capsized',\n",
       " 'On boat, preparing to dive',\n",
       " 'Fell into water while attempting to boat a swordfish',\n",
       " 'Bathing with sister',\n",
       " 'Working prawn net',\n",
       " 'Washed overboard into school of fish',\n",
       " 'Swimming with motor tube',\n",
       " 'In deep water about 100 yards from his ship',\n",
       " 'Surfing, but treading water',\n",
       " 'Dragging banana seeds through the shallows',\n",
       " 'Swimming ashore from fishing boat swamped and sunk by a squall',\n",
       " 'Paddling & sailing from Buenos Aires to Miami',\n",
       " 'Spear fishing',\n",
       " 'Surfing on air mattress',\n",
       " 'Cleaning hull of ship ',\n",
       " 'Swimming near jetty',\n",
       " 'Slapped shark on tail as it swam by',\n",
       " '\"Climbing up to ship after repairing the stern in water\"',\n",
       " 'Boat stopped to repair electric pump',\n",
       " 'Swimming, ducking for shells in water 0.9 m deep',\n",
       " 'U.S. Airforce C124 enroute from Hickham Air Base to Japan went down. The 3 survivors fashioned raft from mailbags  & were rescued 3 days after the crash.',\n",
       " 'Spearfishing, had fish on his spear',\n",
       " 'Swimming, towing the shark',\n",
       " 'Paddling in knee-deep water',\n",
       " 'Swimming with goggles',\n",
       " 'Fishing, holding fish in his left hand',\n",
       " 'Spearfishing / swimming on surface',\n",
       " 'Placed hand in disemboweled shark\\x92s jaws',\n",
       " 'Fishing, holding fish',\n",
       " 'Fishing (trolling)',\n",
       " 'Fishing, walking in river to cast',\n",
       " 'Air/Sea Disaster Pan-American Airlines Stratocruiser with 44 people onboard crashed into the sea',\n",
       " 'Attempting to net shark in shark channel',\n",
       " 'Diving for trochus',\n",
       " 'M.V. Tropical sank. Sole survivor rode oil drums for 8 days without food or water.',\n",
       " 'Competing in spearfishing championship & towing dead fish',\n",
       " '3 men & 2 boys picked up wearing life jackets and with inner tube',\n",
       " 'Swimming between  anchored  pearling luggers',\n",
       " 'Diving from canoe',\n",
       " 'Skindiving for specimens',\n",
       " 'Helmet diving in Miami Seaquarium',\n",
       " 'Dynamiting fish',\n",
       " 'Free diving for sinkers',\n",
       " \"Spearfishing, holding 5' speared fish\",\n",
       " 'Skindiving, fish at belt',\n",
       " 'Climbing back on ship',\n",
       " 'Swimming near pier',\n",
       " 'Free diving for crayfish',\n",
       " 'Attempting to kill a shark with explosives',\n",
       " 'Line fishing from Lakotoi, saw shoal of fish, dived overboard, had speared second fish & surfaced for air',\n",
       " 'Longling fishing',\n",
       " 'Air/Sea Disaster',\n",
       " 'Free diving, working on U/W scenes for motion picture',\n",
       " 'Boating',\n",
       " 'Swimming, attacked at  surf carnival',\n",
       " 'Attempting to set underwater endurance record',\n",
       " 'Swimming off yacht',\n",
       " 'Removing shark from net ',\n",
       " 'Fishing for pompano',\n",
       " 'Spearfishing & lassoed shark',\n",
       " '\"Flying Tiger\" transport plane went down with 5 men onboard',\n",
       " 'Hunting turtle',\n",
       " 'Swimming near breakwater',\n",
       " 'Spearfishing or fishing',\n",
       " 'Fishing from boat, Kaimamla',\n",
       " 'Swimming with speared fish',\n",
       " \"Competing in U/W endurance record, standing beside drum in 10' of water\",\n",
       " 'Rowing toward snapper grounds',\n",
       " 'Hunting lobsters in 2.4 m of water',\n",
       " 'Crossing the bay at the ford',\n",
       " 'Dived overboard & was swimming near stern of trawler',\n",
       " 'Swimming near canoe',\n",
       " 'American freighter Mormackite, bound from Buenos Aires for Baltimore, capsized & sank in heavy seas',\n",
       " 'Fishing  (trawling)',\n",
       " 'Spearfishing, hunting crayfish',\n",
       " 'Tuna fishing, standing on stern platform that was submerged by waves',\n",
       " 'Closed circuit diving (submerged). Diving to recover jettisoned packets of opium for police',\n",
       " 'Fishing trawler Flavio Gioia ',\n",
       " 'Grabbed shark & threw it on deck',\n",
       " 'Pearl diving from lugger Whyalla',\n",
       " 'Bathing alongside ship',\n",
       " 'Fishing / cleaning fish, dived into water to retrieve a lost fish',\n",
       " 'Fishing from shore',\n",
       " 'Crouching in the water',\n",
       " 'Swimming or wading out  to warn bathers that a shark had been seen',\n",
       " 'Aircaft exploded',\n",
       " 'Fishing from market fishboat Sea Spray',\n",
       " 'Royal Hawaiian skymaster DC-6B aircraft went down with  58 passenger & crew',\n",
       " 'Accidentally dragged overboard from the sampan Holokahana into school of yellowfin tuna',\n",
       " 'Retrieving bait box that had fallen overboard',\n",
       " 'Landing hooked shark in boat',\n",
       " 'Swimming in midriver near sewage outlet & 400 m from a slaughterhouse',\n",
       " \"Adrift on a 4'  raft for 32 days\",\n",
       " 'Went over side of boat at trochus ground',\n",
       " 'Bitten while cutting shark from net',\n",
       " 'Lying prone on surfboard',\n",
       " 'Fishing, setting nets',\n",
       " 'Body surfing & treading water',\n",
       " 'Swimming from fishing boat setting nets',\n",
       " 'Fishing for trout ',\n",
       " 'Boat exploded',\n",
       " 'Spearfishing, carrying fish on spear',\n",
       " 'Swimming on surface',\n",
       " 'Fishing, standing in water washing fish',\n",
       " 'Fishing, standing in water next to purse net',\n",
       " 'Fishing for white sharks',\n",
       " 'Went to aid of child being menaced by the shark',\n",
       " 'Spearfishing, speared a small shark',\n",
       " 'Diving, recovering fish killed by dynamite',\n",
       " 'Shipwrecked; adrift on raft for 2 days & 2 nights',\n",
       " 'cargo ship Southern Isle sank at 04h00',\n",
       " 'Body found on deserted luxury yacht, 38\\x92 Christine',\n",
       " 'Diving (Hookah)',\n",
       " 'Fell overboard',\n",
       " 'Swept out to sea while fishing',\n",
       " 'Fell off surf ski',\n",
       " 'Fishing, casting in the surf',\n",
       " 'Spearfishing (but treading water on the surface)',\n",
       " 'Paddling a surfboat',\n",
       " 'Paddling a canoe',\n",
       " 'Body surfing / treading water',\n",
       " 'Jerked overboard while pole fishing for tuna',\n",
       " 'Swept off deck of S.S.Frontenac enroute from West Indies to US',\n",
       " 'Goggle-diving for seaweeds, but standing in water',\n",
       " 'Survived crash of two-engine  C-46 transport plane carrying 62 migrant workers from Puerto Rico to USA ',\n",
       " 'Sea Disaster, sinking of the fishing  launch Mavis',\n",
       " 'Fishing, sitting in stern of small boat, feet dangling in the water',\n",
       " 'Suicide',\n",
       " 'Fishing, one of three fishermen swept into the sea by a large wave ',\n",
       " 'Sitting on side of dinghy mending a net',\n",
       " 'Defecating in water beneath the docks',\n",
       " 'Bending over',\n",
       " 'Bathing ',\n",
       " 'Diving for coins',\n",
       " 'Spearfishing, but walking carrying fish on end of speargun',\n",
       " 'Helmet diving, collecting trochus shell',\n",
       " 'Sea Disaster, sinking of the motorship Wingate',\n",
       " \"Lying on the bottom of a 16' dinghy\",\n",
       " 'Free diving or wading back to shore',\n",
       " 'No details',\n",
       " 'Swimming near shore',\n",
       " 'A 75-ton  Japanese fishing ship was sunk by  Chinese Nationalist gunboat, shipwrecked men were clinging to debris',\n",
       " 'Examining netted shark, that had been shot',\n",
       " 'Bathing in water 0.9 m deep',\n",
       " 'Lifesaving exhibition',\n",
       " 'Fishing, on a boat',\n",
       " 'Swimming close to wharf',\n",
       " 'Treading water, waiting for a wave',\n",
       " '2 messboys (Jeppsen) & Tony Latona (13) were playing on the afterdeck of the Danish ship Grete Maersk. Jeppsen fell overboard, Latona threw a lifebelt then jumped in to help him. Ship didn\\x92t notice they were missing',\n",
       " 'Air/Sea Disaster involving C-54 Air Force Transport No. 2686 with 37 on board',\n",
       " 'Pearl diving',\n",
       " 'Leicester abandoned in a hurricane',\n",
       " 'Bathing or washing',\n",
       " 'Spearing a shark',\n",
       " 'Fishing, shark caught in his net',\n",
       " 'Bringing hooked, harpooned shark onboard boat',\n",
       " 'C47 aircraft carrying 5,000 lbs of ice ditched in the sea',\n",
       " 'Underwater photography',\n",
       " 'Fishing, holding fish in right hand',\n",
       " 'Fishing / diving',\n",
       " 'Fishing from surf ski',\n",
       " 'Fishing in waist-deep water',\n",
       " 'Jumped overboard ',\n",
       " ...]"
      ]
     },
     "execution_count": 102,
     "metadata": {},
     "output_type": "execute_result"
    }
   ],
   "source": [
    "activities"
   ]
  },
  {
   "cell_type": "markdown",
   "metadata": {},
   "source": []
  },
  {
   "cell_type": "markdown",
   "metadata": {},
   "source": [
    "COLUMNA: sex_"
   ]
  },
  {
   "cell_type": "markdown",
   "metadata": {},
   "source": []
  },
  {
   "cell_type": "markdown",
   "metadata": {},
   "source": [
    "Limpio para quedarme sólo con F, M o None"
   ]
  },
  {
   "cell_type": "code",
   "execution_count": 103,
   "metadata": {},
   "outputs": [],
   "source": [
    "gender = list(sharks.sex_.unique())"
   ]
  },
  {
   "cell_type": "code",
   "execution_count": 104,
   "metadata": {
    "scrolled": true
   },
   "outputs": [
    {
     "data": {
      "text/plain": [
       "['F', 'M', nan, 'M ', 'lli', 'N', '.']"
      ]
     },
     "execution_count": 104,
     "metadata": {},
     "output_type": "execute_result"
    }
   ],
   "source": [
    "gender"
   ]
  },
  {
   "cell_type": "code",
   "execution_count": 105,
   "metadata": {},
   "outputs": [
    {
     "data": {
      "text/html": [
       "<div>\n",
       "<style scoped>\n",
       "    .dataframe tbody tr th:only-of-type {\n",
       "        vertical-align: middle;\n",
       "    }\n",
       "\n",
       "    .dataframe tbody tr th {\n",
       "        vertical-align: top;\n",
       "    }\n",
       "\n",
       "    .dataframe thead th {\n",
       "        text-align: right;\n",
       "    }\n",
       "</style>\n",
       "<table border=\"1\" class=\"dataframe\">\n",
       "  <thead>\n",
       "    <tr style=\"text-align: right;\">\n",
       "      <th></th>\n",
       "      <th>case_number</th>\n",
       "      <th>date</th>\n",
       "      <th>year</th>\n",
       "      <th>type</th>\n",
       "      <th>country</th>\n",
       "      <th>area</th>\n",
       "      <th>location</th>\n",
       "      <th>activity</th>\n",
       "      <th>name</th>\n",
       "      <th>sex_</th>\n",
       "      <th>age</th>\n",
       "      <th>injury</th>\n",
       "      <th>fatal_</th>\n",
       "    </tr>\n",
       "  </thead>\n",
       "  <tbody>\n",
       "    <tr>\n",
       "      <th>0</th>\n",
       "      <td>2018.06.25</td>\n",
       "      <td>Jun-2018</td>\n",
       "      <td>2018</td>\n",
       "      <td>Boat</td>\n",
       "      <td>USA</td>\n",
       "      <td>California</td>\n",
       "      <td>Oceanside, San Diego County</td>\n",
       "      <td>Paddling</td>\n",
       "      <td>Julie Wolfe</td>\n",
       "      <td>F</td>\n",
       "      <td>57</td>\n",
       "      <td>No injury to occupant, outrigger canoe and pad...</td>\n",
       "      <td>N</td>\n",
       "    </tr>\n",
       "    <tr>\n",
       "      <th>1</th>\n",
       "      <td>2018.06.18</td>\n",
       "      <td>Jun-2018</td>\n",
       "      <td>2018</td>\n",
       "      <td>Accidental</td>\n",
       "      <td>USA</td>\n",
       "      <td>Georgia</td>\n",
       "      <td>St. Simon Island, Glynn County</td>\n",
       "      <td>Standing</td>\n",
       "      <td>Adyson McNeely</td>\n",
       "      <td>F</td>\n",
       "      <td>11</td>\n",
       "      <td>Minor injury to left thigh</td>\n",
       "      <td>N</td>\n",
       "    </tr>\n",
       "  </tbody>\n",
       "</table>\n",
       "</div>"
      ],
      "text/plain": [
       "  case_number      date  year        type country        area  \\\n",
       "0  2018.06.25  Jun-2018  2018        Boat     USA  California   \n",
       "1  2018.06.18  Jun-2018  2018  Accidental     USA     Georgia   \n",
       "\n",
       "                         location  activity             name sex_ age  \\\n",
       "0     Oceanside, San Diego County  Paddling      Julie Wolfe    F  57   \n",
       "1  St. Simon Island, Glynn County  Standing  Adyson McNeely     F  11   \n",
       "\n",
       "                                              injury fatal_  \n",
       "0  No injury to occupant, outrigger canoe and pad...      N  \n",
       "1                         Minor injury to left thigh      N  "
      ]
     },
     "execution_count": 105,
     "metadata": {},
     "output_type": "execute_result"
    }
   ],
   "source": [
    "sharks.head(2)"
   ]
  },
  {
   "cell_type": "code",
   "execution_count": 106,
   "metadata": {},
   "outputs": [
    {
     "data": {
      "text/plain": [
       "'def gender_(x):\\n    special_characters = \\'FM\\'\\n    if str(x) in special_characters:\\n        return x\\n    else:\\n        return str(x).replace(str(x), \"None\")'"
      ]
     },
     "execution_count": 106,
     "metadata": {},
     "output_type": "execute_result"
    }
   ],
   "source": [
    "\"\"\"def gender_(x):\n",
    "    special_characters = 'FM'\n",
    "    if str(x) in special_characters:\n",
    "        return x\n",
    "    else:\n",
    "        return str(x).replace(str(x), \"None\")\"\"\""
   ]
  },
  {
   "cell_type": "code",
   "execution_count": 107,
   "metadata": {},
   "outputs": [
    {
     "data": {
      "text/plain": [
       "<function src.cleaning.gender_(x)>"
      ]
     },
     "execution_count": 107,
     "metadata": {},
     "output_type": "execute_result"
    }
   ],
   "source": [
    "gender_"
   ]
  },
  {
   "cell_type": "code",
   "execution_count": 108,
   "metadata": {},
   "outputs": [
    {
     "name": "stderr",
     "output_type": "stream",
     "text": [
      "<ipython-input-108-0220de8c0124>:1: SettingWithCopyWarning: \n",
      "A value is trying to be set on a copy of a slice from a DataFrame.\n",
      "Try using .loc[row_indexer,col_indexer] = value instead\n",
      "\n",
      "See the caveats in the documentation: https://pandas.pydata.org/pandas-docs/stable/user_guide/indexing.html#returning-a-view-versus-a-copy\n",
      "  sharks[\"genero\"] = sharks.sex_.apply(gender_)\n"
     ]
    }
   ],
   "source": [
    "sharks[\"genero\"] = sharks.sex_.apply(gender_)"
   ]
  },
  {
   "cell_type": "code",
   "execution_count": 109,
   "metadata": {},
   "outputs": [
    {
     "data": {
      "text/html": [
       "<div>\n",
       "<style scoped>\n",
       "    .dataframe tbody tr th:only-of-type {\n",
       "        vertical-align: middle;\n",
       "    }\n",
       "\n",
       "    .dataframe tbody tr th {\n",
       "        vertical-align: top;\n",
       "    }\n",
       "\n",
       "    .dataframe thead th {\n",
       "        text-align: right;\n",
       "    }\n",
       "</style>\n",
       "<table border=\"1\" class=\"dataframe\">\n",
       "  <thead>\n",
       "    <tr style=\"text-align: right;\">\n",
       "      <th></th>\n",
       "      <th>case_number</th>\n",
       "      <th>date</th>\n",
       "      <th>year</th>\n",
       "      <th>type</th>\n",
       "      <th>country</th>\n",
       "      <th>area</th>\n",
       "      <th>location</th>\n",
       "      <th>activity</th>\n",
       "      <th>name</th>\n",
       "      <th>sex_</th>\n",
       "      <th>age</th>\n",
       "      <th>injury</th>\n",
       "      <th>fatal_</th>\n",
       "      <th>genero</th>\n",
       "    </tr>\n",
       "  </thead>\n",
       "  <tbody>\n",
       "    <tr>\n",
       "      <th>0</th>\n",
       "      <td>2018.06.25</td>\n",
       "      <td>Jun-2018</td>\n",
       "      <td>2018</td>\n",
       "      <td>Boat</td>\n",
       "      <td>USA</td>\n",
       "      <td>California</td>\n",
       "      <td>Oceanside, San Diego County</td>\n",
       "      <td>Paddling</td>\n",
       "      <td>Julie Wolfe</td>\n",
       "      <td>F</td>\n",
       "      <td>57</td>\n",
       "      <td>No injury to occupant, outrigger canoe and pad...</td>\n",
       "      <td>N</td>\n",
       "      <td>F</td>\n",
       "    </tr>\n",
       "    <tr>\n",
       "      <th>1</th>\n",
       "      <td>2018.06.18</td>\n",
       "      <td>Jun-2018</td>\n",
       "      <td>2018</td>\n",
       "      <td>Accidental</td>\n",
       "      <td>USA</td>\n",
       "      <td>Georgia</td>\n",
       "      <td>St. Simon Island, Glynn County</td>\n",
       "      <td>Standing</td>\n",
       "      <td>Adyson McNeely</td>\n",
       "      <td>F</td>\n",
       "      <td>11</td>\n",
       "      <td>Minor injury to left thigh</td>\n",
       "      <td>N</td>\n",
       "      <td>F</td>\n",
       "    </tr>\n",
       "    <tr>\n",
       "      <th>2</th>\n",
       "      <td>2018.06.09</td>\n",
       "      <td>Jun-2018</td>\n",
       "      <td>2018</td>\n",
       "      <td>Injured/Fatal</td>\n",
       "      <td>USA</td>\n",
       "      <td>Hawaii</td>\n",
       "      <td>Habush, Oahu</td>\n",
       "      <td>Surfing</td>\n",
       "      <td>John Denges</td>\n",
       "      <td>M</td>\n",
       "      <td>48</td>\n",
       "      <td>Injury to left lower leg from surfboard skeg</td>\n",
       "      <td>N</td>\n",
       "      <td>M</td>\n",
       "    </tr>\n",
       "    <tr>\n",
       "      <th>3</th>\n",
       "      <td>2018.06.08</td>\n",
       "      <td>Jun-2018</td>\n",
       "      <td>2018</td>\n",
       "      <td>Accidental</td>\n",
       "      <td>AUSTRALIA</td>\n",
       "      <td>New South Wales</td>\n",
       "      <td>Arrawarra Headland</td>\n",
       "      <td>Surfing</td>\n",
       "      <td>male</td>\n",
       "      <td>M</td>\n",
       "      <td>NaN</td>\n",
       "      <td>Minor injury to lower leg</td>\n",
       "      <td>N</td>\n",
       "      <td>M</td>\n",
       "    </tr>\n",
       "    <tr>\n",
       "      <th>4</th>\n",
       "      <td>2018.06.04</td>\n",
       "      <td>Jun-2018</td>\n",
       "      <td>2018</td>\n",
       "      <td>Provoked</td>\n",
       "      <td>MEXICO</td>\n",
       "      <td>Colima</td>\n",
       "      <td>La Ticla</td>\n",
       "      <td>Free diving</td>\n",
       "      <td>Gustavo Ramos</td>\n",
       "      <td>M</td>\n",
       "      <td>NaN</td>\n",
       "      <td>Lacerations to leg &amp; hand shark PROVOKED INCIDENT</td>\n",
       "      <td>N</td>\n",
       "      <td>M</td>\n",
       "    </tr>\n",
       "  </tbody>\n",
       "</table>\n",
       "</div>"
      ],
      "text/plain": [
       "  case_number      date  year           type    country             area  \\\n",
       "0  2018.06.25  Jun-2018  2018           Boat        USA       California   \n",
       "1  2018.06.18  Jun-2018  2018     Accidental        USA          Georgia   \n",
       "2  2018.06.09  Jun-2018  2018  Injured/Fatal        USA           Hawaii   \n",
       "3  2018.06.08  Jun-2018  2018     Accidental  AUSTRALIA  New South Wales   \n",
       "4  2018.06.04  Jun-2018  2018       Provoked     MEXICO           Colima   \n",
       "\n",
       "                         location     activity             name sex_  age  \\\n",
       "0     Oceanside, San Diego County     Paddling      Julie Wolfe    F   57   \n",
       "1  St. Simon Island, Glynn County     Standing  Adyson McNeely     F   11   \n",
       "2                    Habush, Oahu      Surfing      John Denges    M   48   \n",
       "3              Arrawarra Headland      Surfing             male    M  NaN   \n",
       "4                        La Ticla  Free diving   Gustavo Ramos     M  NaN   \n",
       "\n",
       "                                              injury fatal_ genero  \n",
       "0  No injury to occupant, outrigger canoe and pad...      N      F  \n",
       "1                         Minor injury to left thigh      N      F  \n",
       "2       Injury to left lower leg from surfboard skeg      N      M  \n",
       "3                          Minor injury to lower leg      N      M  \n",
       "4  Lacerations to leg & hand shark PROVOKED INCIDENT      N      M  "
      ]
     },
     "execution_count": 109,
     "metadata": {},
     "output_type": "execute_result"
    }
   ],
   "source": [
    "sharks.head()"
   ]
  },
  {
   "cell_type": "code",
   "execution_count": 110,
   "metadata": {},
   "outputs": [],
   "source": [
    "gender = list(sharks.genero.unique())"
   ]
  },
  {
   "cell_type": "code",
   "execution_count": 111,
   "metadata": {},
   "outputs": [
    {
     "data": {
      "text/plain": [
       "['F', 'M', 'None']"
      ]
     },
     "execution_count": 111,
     "metadata": {},
     "output_type": "execute_result"
    }
   ],
   "source": [
    "gender"
   ]
  },
  {
   "cell_type": "code",
   "execution_count": 112,
   "metadata": {},
   "outputs": [
    {
     "name": "stderr",
     "output_type": "stream",
     "text": [
      "/home/jesus_chao/anaconda3/envs/ironhack/lib/python3.8/site-packages/pandas/core/frame.py:4906: SettingWithCopyWarning: \n",
      "A value is trying to be set on a copy of a slice from a DataFrame\n",
      "\n",
      "See the caveats in the documentation: https://pandas.pydata.org/pandas-docs/stable/user_guide/indexing.html#returning-a-view-versus-a-copy\n",
      "  return super().drop(\n"
     ]
    }
   ],
   "source": [
    "sharks.drop([\"sex_\"],axis=1,inplace=True)"
   ]
  },
  {
   "cell_type": "code",
   "execution_count": 113,
   "metadata": {},
   "outputs": [
    {
     "data": {
      "text/html": [
       "<div>\n",
       "<style scoped>\n",
       "    .dataframe tbody tr th:only-of-type {\n",
       "        vertical-align: middle;\n",
       "    }\n",
       "\n",
       "    .dataframe tbody tr th {\n",
       "        vertical-align: top;\n",
       "    }\n",
       "\n",
       "    .dataframe thead th {\n",
       "        text-align: right;\n",
       "    }\n",
       "</style>\n",
       "<table border=\"1\" class=\"dataframe\">\n",
       "  <thead>\n",
       "    <tr style=\"text-align: right;\">\n",
       "      <th></th>\n",
       "      <th>case_number</th>\n",
       "      <th>date</th>\n",
       "      <th>year</th>\n",
       "      <th>type</th>\n",
       "      <th>country</th>\n",
       "      <th>area</th>\n",
       "      <th>location</th>\n",
       "      <th>activity</th>\n",
       "      <th>name</th>\n",
       "      <th>age</th>\n",
       "      <th>injury</th>\n",
       "      <th>fatal_</th>\n",
       "      <th>genero</th>\n",
       "    </tr>\n",
       "  </thead>\n",
       "  <tbody>\n",
       "    <tr>\n",
       "      <th>0</th>\n",
       "      <td>2018.06.25</td>\n",
       "      <td>Jun-2018</td>\n",
       "      <td>2018</td>\n",
       "      <td>Boat</td>\n",
       "      <td>USA</td>\n",
       "      <td>California</td>\n",
       "      <td>Oceanside, San Diego County</td>\n",
       "      <td>Paddling</td>\n",
       "      <td>Julie Wolfe</td>\n",
       "      <td>57</td>\n",
       "      <td>No injury to occupant, outrigger canoe and pad...</td>\n",
       "      <td>N</td>\n",
       "      <td>F</td>\n",
       "    </tr>\n",
       "    <tr>\n",
       "      <th>1</th>\n",
       "      <td>2018.06.18</td>\n",
       "      <td>Jun-2018</td>\n",
       "      <td>2018</td>\n",
       "      <td>Accidental</td>\n",
       "      <td>USA</td>\n",
       "      <td>Georgia</td>\n",
       "      <td>St. Simon Island, Glynn County</td>\n",
       "      <td>Standing</td>\n",
       "      <td>Adyson McNeely</td>\n",
       "      <td>11</td>\n",
       "      <td>Minor injury to left thigh</td>\n",
       "      <td>N</td>\n",
       "      <td>F</td>\n",
       "    </tr>\n",
       "    <tr>\n",
       "      <th>2</th>\n",
       "      <td>2018.06.09</td>\n",
       "      <td>Jun-2018</td>\n",
       "      <td>2018</td>\n",
       "      <td>Injured/Fatal</td>\n",
       "      <td>USA</td>\n",
       "      <td>Hawaii</td>\n",
       "      <td>Habush, Oahu</td>\n",
       "      <td>Surfing</td>\n",
       "      <td>John Denges</td>\n",
       "      <td>48</td>\n",
       "      <td>Injury to left lower leg from surfboard skeg</td>\n",
       "      <td>N</td>\n",
       "      <td>M</td>\n",
       "    </tr>\n",
       "    <tr>\n",
       "      <th>3</th>\n",
       "      <td>2018.06.08</td>\n",
       "      <td>Jun-2018</td>\n",
       "      <td>2018</td>\n",
       "      <td>Accidental</td>\n",
       "      <td>AUSTRALIA</td>\n",
       "      <td>New South Wales</td>\n",
       "      <td>Arrawarra Headland</td>\n",
       "      <td>Surfing</td>\n",
       "      <td>male</td>\n",
       "      <td>NaN</td>\n",
       "      <td>Minor injury to lower leg</td>\n",
       "      <td>N</td>\n",
       "      <td>M</td>\n",
       "    </tr>\n",
       "    <tr>\n",
       "      <th>4</th>\n",
       "      <td>2018.06.04</td>\n",
       "      <td>Jun-2018</td>\n",
       "      <td>2018</td>\n",
       "      <td>Provoked</td>\n",
       "      <td>MEXICO</td>\n",
       "      <td>Colima</td>\n",
       "      <td>La Ticla</td>\n",
       "      <td>Free diving</td>\n",
       "      <td>Gustavo Ramos</td>\n",
       "      <td>NaN</td>\n",
       "      <td>Lacerations to leg &amp; hand shark PROVOKED INCIDENT</td>\n",
       "      <td>N</td>\n",
       "      <td>M</td>\n",
       "    </tr>\n",
       "  </tbody>\n",
       "</table>\n",
       "</div>"
      ],
      "text/plain": [
       "  case_number      date  year           type    country             area  \\\n",
       "0  2018.06.25  Jun-2018  2018           Boat        USA       California   \n",
       "1  2018.06.18  Jun-2018  2018     Accidental        USA          Georgia   \n",
       "2  2018.06.09  Jun-2018  2018  Injured/Fatal        USA           Hawaii   \n",
       "3  2018.06.08  Jun-2018  2018     Accidental  AUSTRALIA  New South Wales   \n",
       "4  2018.06.04  Jun-2018  2018       Provoked     MEXICO           Colima   \n",
       "\n",
       "                         location     activity             name  age  \\\n",
       "0     Oceanside, San Diego County     Paddling      Julie Wolfe   57   \n",
       "1  St. Simon Island, Glynn County     Standing  Adyson McNeely    11   \n",
       "2                    Habush, Oahu      Surfing      John Denges   48   \n",
       "3              Arrawarra Headland      Surfing             male  NaN   \n",
       "4                        La Ticla  Free diving   Gustavo Ramos   NaN   \n",
       "\n",
       "                                              injury fatal_ genero  \n",
       "0  No injury to occupant, outrigger canoe and pad...      N      F  \n",
       "1                         Minor injury to left thigh      N      F  \n",
       "2       Injury to left lower leg from surfboard skeg      N      M  \n",
       "3                          Minor injury to lower leg      N      M  \n",
       "4  Lacerations to leg & hand shark PROVOKED INCIDENT      N      M  "
      ]
     },
     "execution_count": 113,
     "metadata": {},
     "output_type": "execute_result"
    }
   ],
   "source": [
    "sharks.head()"
   ]
  },
  {
   "cell_type": "code",
   "execution_count": null,
   "metadata": {},
   "outputs": [],
   "source": []
  },
  {
   "cell_type": "markdown",
   "metadata": {},
   "source": [
    "COLUMNA: fatal_"
   ]
  },
  {
   "cell_type": "code",
   "execution_count": null,
   "metadata": {},
   "outputs": [],
   "source": []
  },
  {
   "cell_type": "markdown",
   "metadata": {},
   "source": [
    "Limpio para quedarme con N, Y o None"
   ]
  },
  {
   "cell_type": "code",
   "execution_count": 114,
   "metadata": {},
   "outputs": [],
   "source": [
    "fatal = list(sharks.fatal_.unique())"
   ]
  },
  {
   "cell_type": "code",
   "execution_count": 115,
   "metadata": {},
   "outputs": [
    {
     "data": {
      "text/plain": [
       "['N', 'Y', nan, 'M', 'UNKNOWN', '2017', ' N', 'N ', 'y']"
      ]
     },
     "execution_count": 115,
     "metadata": {},
     "output_type": "execute_result"
    }
   ],
   "source": [
    "fatal"
   ]
  },
  {
   "cell_type": "code",
   "execution_count": 116,
   "metadata": {},
   "outputs": [
    {
     "data": {
      "text/plain": [
       "'def fatal_(x):\\n    special_characters = \\'NYy\\'\\n    if str(x) in special_characters:\\n        return x.upper()\\n    else:\\n        return str(x).replace(str(x), \"None\")'"
      ]
     },
     "execution_count": 116,
     "metadata": {},
     "output_type": "execute_result"
    }
   ],
   "source": [
    "\"\"\"def fatal_(x):\n",
    "    special_characters = 'NYy'\n",
    "    if str(x) in special_characters:\n",
    "        return x.upper()\n",
    "    else:\n",
    "        return str(x).replace(str(x), \"None\")\"\"\""
   ]
  },
  {
   "cell_type": "code",
   "execution_count": 117,
   "metadata": {},
   "outputs": [
    {
     "data": {
      "text/plain": [
       "<function src.cleaning.fatal_(x)>"
      ]
     },
     "execution_count": 117,
     "metadata": {},
     "output_type": "execute_result"
    }
   ],
   "source": [
    "fatal_"
   ]
  },
  {
   "cell_type": "code",
   "execution_count": 118,
   "metadata": {},
   "outputs": [
    {
     "name": "stderr",
     "output_type": "stream",
     "text": [
      "<ipython-input-118-988055907673>:1: SettingWithCopyWarning: \n",
      "A value is trying to be set on a copy of a slice from a DataFrame.\n",
      "Try using .loc[row_indexer,col_indexer] = value instead\n",
      "\n",
      "See the caveats in the documentation: https://pandas.pydata.org/pandas-docs/stable/user_guide/indexing.html#returning-a-view-versus-a-copy\n",
      "  sharks[\"fatal\"] = sharks.fatal_.apply(fatal_)\n"
     ]
    }
   ],
   "source": [
    "sharks[\"fatal\"] = sharks.fatal_.apply(fatal_)"
   ]
  },
  {
   "cell_type": "code",
   "execution_count": 119,
   "metadata": {},
   "outputs": [
    {
     "data": {
      "text/html": [
       "<div>\n",
       "<style scoped>\n",
       "    .dataframe tbody tr th:only-of-type {\n",
       "        vertical-align: middle;\n",
       "    }\n",
       "\n",
       "    .dataframe tbody tr th {\n",
       "        vertical-align: top;\n",
       "    }\n",
       "\n",
       "    .dataframe thead th {\n",
       "        text-align: right;\n",
       "    }\n",
       "</style>\n",
       "<table border=\"1\" class=\"dataframe\">\n",
       "  <thead>\n",
       "    <tr style=\"text-align: right;\">\n",
       "      <th></th>\n",
       "      <th>case_number</th>\n",
       "      <th>date</th>\n",
       "      <th>year</th>\n",
       "      <th>type</th>\n",
       "      <th>country</th>\n",
       "      <th>area</th>\n",
       "      <th>location</th>\n",
       "      <th>activity</th>\n",
       "      <th>name</th>\n",
       "      <th>age</th>\n",
       "      <th>injury</th>\n",
       "      <th>fatal_</th>\n",
       "      <th>genero</th>\n",
       "      <th>fatal</th>\n",
       "    </tr>\n",
       "  </thead>\n",
       "  <tbody>\n",
       "    <tr>\n",
       "      <th>0</th>\n",
       "      <td>2018.06.25</td>\n",
       "      <td>Jun-2018</td>\n",
       "      <td>2018</td>\n",
       "      <td>Boat</td>\n",
       "      <td>USA</td>\n",
       "      <td>California</td>\n",
       "      <td>Oceanside, San Diego County</td>\n",
       "      <td>Paddling</td>\n",
       "      <td>Julie Wolfe</td>\n",
       "      <td>57</td>\n",
       "      <td>No injury to occupant, outrigger canoe and pad...</td>\n",
       "      <td>N</td>\n",
       "      <td>F</td>\n",
       "      <td>N</td>\n",
       "    </tr>\n",
       "    <tr>\n",
       "      <th>1</th>\n",
       "      <td>2018.06.18</td>\n",
       "      <td>Jun-2018</td>\n",
       "      <td>2018</td>\n",
       "      <td>Accidental</td>\n",
       "      <td>USA</td>\n",
       "      <td>Georgia</td>\n",
       "      <td>St. Simon Island, Glynn County</td>\n",
       "      <td>Standing</td>\n",
       "      <td>Adyson McNeely</td>\n",
       "      <td>11</td>\n",
       "      <td>Minor injury to left thigh</td>\n",
       "      <td>N</td>\n",
       "      <td>F</td>\n",
       "      <td>N</td>\n",
       "    </tr>\n",
       "  </tbody>\n",
       "</table>\n",
       "</div>"
      ],
      "text/plain": [
       "  case_number      date  year        type country        area  \\\n",
       "0  2018.06.25  Jun-2018  2018        Boat     USA  California   \n",
       "1  2018.06.18  Jun-2018  2018  Accidental     USA     Georgia   \n",
       "\n",
       "                         location  activity             name age  \\\n",
       "0     Oceanside, San Diego County  Paddling      Julie Wolfe  57   \n",
       "1  St. Simon Island, Glynn County  Standing  Adyson McNeely   11   \n",
       "\n",
       "                                              injury fatal_ genero fatal  \n",
       "0  No injury to occupant, outrigger canoe and pad...      N      F     N  \n",
       "1                         Minor injury to left thigh      N      F     N  "
      ]
     },
     "execution_count": 119,
     "metadata": {},
     "output_type": "execute_result"
    }
   ],
   "source": [
    "sharks.head(2)"
   ]
  },
  {
   "cell_type": "code",
   "execution_count": 120,
   "metadata": {},
   "outputs": [],
   "source": [
    "fatal_ = list(sharks.fatal.unique())"
   ]
  },
  {
   "cell_type": "code",
   "execution_count": 121,
   "metadata": {},
   "outputs": [
    {
     "data": {
      "text/plain": [
       "['N', 'Y', 'None']"
      ]
     },
     "execution_count": 121,
     "metadata": {},
     "output_type": "execute_result"
    }
   ],
   "source": [
    "fatal_"
   ]
  },
  {
   "cell_type": "code",
   "execution_count": 122,
   "metadata": {},
   "outputs": [
    {
     "name": "stderr",
     "output_type": "stream",
     "text": [
      "/home/jesus_chao/anaconda3/envs/ironhack/lib/python3.8/site-packages/pandas/core/frame.py:4906: SettingWithCopyWarning: \n",
      "A value is trying to be set on a copy of a slice from a DataFrame\n",
      "\n",
      "See the caveats in the documentation: https://pandas.pydata.org/pandas-docs/stable/user_guide/indexing.html#returning-a-view-versus-a-copy\n",
      "  return super().drop(\n"
     ]
    }
   ],
   "source": [
    "sharks.drop([\"fatal_\"],axis=1,inplace=True)"
   ]
  },
  {
   "cell_type": "code",
   "execution_count": 123,
   "metadata": {},
   "outputs": [
    {
     "data": {
      "text/html": [
       "<div>\n",
       "<style scoped>\n",
       "    .dataframe tbody tr th:only-of-type {\n",
       "        vertical-align: middle;\n",
       "    }\n",
       "\n",
       "    .dataframe tbody tr th {\n",
       "        vertical-align: top;\n",
       "    }\n",
       "\n",
       "    .dataframe thead th {\n",
       "        text-align: right;\n",
       "    }\n",
       "</style>\n",
       "<table border=\"1\" class=\"dataframe\">\n",
       "  <thead>\n",
       "    <tr style=\"text-align: right;\">\n",
       "      <th></th>\n",
       "      <th>case_number</th>\n",
       "      <th>date</th>\n",
       "      <th>year</th>\n",
       "      <th>type</th>\n",
       "      <th>country</th>\n",
       "      <th>area</th>\n",
       "      <th>location</th>\n",
       "      <th>activity</th>\n",
       "      <th>name</th>\n",
       "      <th>age</th>\n",
       "      <th>injury</th>\n",
       "      <th>genero</th>\n",
       "      <th>fatal</th>\n",
       "    </tr>\n",
       "  </thead>\n",
       "  <tbody>\n",
       "    <tr>\n",
       "      <th>0</th>\n",
       "      <td>2018.06.25</td>\n",
       "      <td>Jun-2018</td>\n",
       "      <td>2018</td>\n",
       "      <td>Boat</td>\n",
       "      <td>USA</td>\n",
       "      <td>California</td>\n",
       "      <td>Oceanside, San Diego County</td>\n",
       "      <td>Paddling</td>\n",
       "      <td>Julie Wolfe</td>\n",
       "      <td>57</td>\n",
       "      <td>No injury to occupant, outrigger canoe and pad...</td>\n",
       "      <td>F</td>\n",
       "      <td>N</td>\n",
       "    </tr>\n",
       "    <tr>\n",
       "      <th>1</th>\n",
       "      <td>2018.06.18</td>\n",
       "      <td>Jun-2018</td>\n",
       "      <td>2018</td>\n",
       "      <td>Accidental</td>\n",
       "      <td>USA</td>\n",
       "      <td>Georgia</td>\n",
       "      <td>St. Simon Island, Glynn County</td>\n",
       "      <td>Standing</td>\n",
       "      <td>Adyson McNeely</td>\n",
       "      <td>11</td>\n",
       "      <td>Minor injury to left thigh</td>\n",
       "      <td>F</td>\n",
       "      <td>N</td>\n",
       "    </tr>\n",
       "  </tbody>\n",
       "</table>\n",
       "</div>"
      ],
      "text/plain": [
       "  case_number      date  year        type country        area  \\\n",
       "0  2018.06.25  Jun-2018  2018        Boat     USA  California   \n",
       "1  2018.06.18  Jun-2018  2018  Accidental     USA     Georgia   \n",
       "\n",
       "                         location  activity             name age  \\\n",
       "0     Oceanside, San Diego County  Paddling      Julie Wolfe  57   \n",
       "1  St. Simon Island, Glynn County  Standing  Adyson McNeely   11   \n",
       "\n",
       "                                              injury genero fatal  \n",
       "0  No injury to occupant, outrigger canoe and pad...      F     N  \n",
       "1                         Minor injury to left thigh      F     N  "
      ]
     },
     "execution_count": 123,
     "metadata": {},
     "output_type": "execute_result"
    }
   ],
   "source": [
    "sharks.head(2)"
   ]
  },
  {
   "cell_type": "markdown",
   "metadata": {},
   "source": [
    "# Validación HIPOTESIS"
   ]
  },
  {
   "cell_type": "markdown",
   "metadata": {},
   "source": [
    "1- USA es donde más accidentes de tiburón se producen."
   ]
  },
  {
   "cell_type": "markdown",
   "metadata": {},
   "source": []
  },
  {
   "cell_type": "markdown",
   "metadata": {},
   "source": [
    "Cuento los valores de la columna para validar"
   ]
  },
  {
   "cell_type": "code",
   "execution_count": 124,
   "metadata": {
    "scrolled": true
   },
   "outputs": [
    {
     "data": {
      "text/plain": [
       "NAN                      2451\n",
       "USA                      2229\n",
       "AUSTRALIA                1338\n",
       "SOUTH AFRICA              579\n",
       "PAPUA NEW GUINEA          134\n",
       "                         ... \n",
       "DIEGO GARCIA                1\n",
       "ARGENTINA                   1\n",
       "THE BALKANS                 1\n",
       "NORTH ATLANTIC OCEAN        1\n",
       "CEYLON (SRI LANKA)          1\n",
       "Name: country, Length: 206, dtype: int64"
      ]
     },
     "execution_count": 124,
     "metadata": {},
     "output_type": "execute_result"
    }
   ],
   "source": [
    "sharks.country.value_counts()"
   ]
  },
  {
   "cell_type": "markdown",
   "metadata": {},
   "source": []
  },
  {
   "cell_type": "markdown",
   "metadata": {},
   "source": [
    "2- La mayor parte de los accidentes son no provocados."
   ]
  },
  {
   "cell_type": "markdown",
   "metadata": {},
   "source": []
  },
  {
   "cell_type": "markdown",
   "metadata": {},
   "source": [
    "Cuento los valores de la columna para validar."
   ]
  },
  {
   "cell_type": "code",
   "execution_count": 125,
   "metadata": {
    "scrolled": true
   },
   "outputs": [
    {
     "data": {
      "text/plain": [
       "Accidental       4595\n",
       "Provoked          574\n",
       "Injured/Fatal     547\n",
       "Boat              341\n",
       "Sea Disaster      239\n",
       "Questionable        2\n",
       "Name: type, dtype: int64"
      ]
     },
     "execution_count": 125,
     "metadata": {},
     "output_type": "execute_result"
    }
   ],
   "source": [
    "sharks.type.value_counts()"
   ]
  },
  {
   "cell_type": "markdown",
   "metadata": {},
   "source": []
  },
  {
   "cell_type": "markdown",
   "metadata": {},
   "source": [
    "3- Fishing y Surfing; mayores causas de accidentes."
   ]
  },
  {
   "cell_type": "markdown",
   "metadata": {},
   "source": []
  },
  {
   "cell_type": "markdown",
   "metadata": {},
   "source": [
    "Creo dos columnas Tue or False para datos que terminan en \"ishing\" y \"urfing\". Los cuento y compruebo la hipótesis."
   ]
  },
  {
   "cell_type": "code",
   "execution_count": 126,
   "metadata": {},
   "outputs": [
    {
     "name": "stderr",
     "output_type": "stream",
     "text": [
      "<ipython-input-126-bfcf38036315>:1: SettingWithCopyWarning: \n",
      "A value is trying to be set on a copy of a slice from a DataFrame.\n",
      "Try using .loc[row_indexer,col_indexer] = value instead\n",
      "\n",
      "See the caveats in the documentation: https://pandas.pydata.org/pandas-docs/stable/user_guide/indexing.html#returning-a-view-versus-a-copy\n",
      "  sharks[\"fishing\"] = sharks[\"activity\"].str.contains(\"ishing\")\n"
     ]
    }
   ],
   "source": [
    "sharks[\"fishing\"] = sharks[\"activity\"].str.contains(\"ishing\")"
   ]
  },
  {
   "cell_type": "code",
   "execution_count": 127,
   "metadata": {
    "scrolled": true
   },
   "outputs": [
    {
     "name": "stderr",
     "output_type": "stream",
     "text": [
      "<ipython-input-127-d92449e05581>:1: SettingWithCopyWarning: \n",
      "A value is trying to be set on a copy of a slice from a DataFrame.\n",
      "Try using .loc[row_indexer,col_indexer] = value instead\n",
      "\n",
      "See the caveats in the documentation: https://pandas.pydata.org/pandas-docs/stable/user_guide/indexing.html#returning-a-view-versus-a-copy\n",
      "  sharks[\"surfing\"] = sharks[\"activity\"].str.contains(\"urfing\")\n"
     ]
    }
   ],
   "source": [
    "sharks[\"surfing\"] = sharks[\"activity\"].str.contains(\"urfing\")"
   ]
  },
  {
   "cell_type": "code",
   "execution_count": 128,
   "metadata": {},
   "outputs": [
    {
     "data": {
      "text/html": [
       "<div>\n",
       "<style scoped>\n",
       "    .dataframe tbody tr th:only-of-type {\n",
       "        vertical-align: middle;\n",
       "    }\n",
       "\n",
       "    .dataframe tbody tr th {\n",
       "        vertical-align: top;\n",
       "    }\n",
       "\n",
       "    .dataframe thead th {\n",
       "        text-align: right;\n",
       "    }\n",
       "</style>\n",
       "<table border=\"1\" class=\"dataframe\">\n",
       "  <thead>\n",
       "    <tr style=\"text-align: right;\">\n",
       "      <th></th>\n",
       "      <th>case_number</th>\n",
       "      <th>date</th>\n",
       "      <th>year</th>\n",
       "      <th>type</th>\n",
       "      <th>country</th>\n",
       "      <th>area</th>\n",
       "      <th>location</th>\n",
       "      <th>activity</th>\n",
       "      <th>name</th>\n",
       "      <th>age</th>\n",
       "      <th>injury</th>\n",
       "      <th>genero</th>\n",
       "      <th>fatal</th>\n",
       "      <th>fishing</th>\n",
       "      <th>surfing</th>\n",
       "    </tr>\n",
       "  </thead>\n",
       "  <tbody>\n",
       "    <tr>\n",
       "      <th>0</th>\n",
       "      <td>2018.06.25</td>\n",
       "      <td>Jun-2018</td>\n",
       "      <td>2018</td>\n",
       "      <td>Boat</td>\n",
       "      <td>USA</td>\n",
       "      <td>California</td>\n",
       "      <td>Oceanside, San Diego County</td>\n",
       "      <td>Paddling</td>\n",
       "      <td>Julie Wolfe</td>\n",
       "      <td>57</td>\n",
       "      <td>No injury to occupant, outrigger canoe and pad...</td>\n",
       "      <td>F</td>\n",
       "      <td>N</td>\n",
       "      <td>False</td>\n",
       "      <td>False</td>\n",
       "    </tr>\n",
       "    <tr>\n",
       "      <th>1</th>\n",
       "      <td>2018.06.18</td>\n",
       "      <td>Jun-2018</td>\n",
       "      <td>2018</td>\n",
       "      <td>Accidental</td>\n",
       "      <td>USA</td>\n",
       "      <td>Georgia</td>\n",
       "      <td>St. Simon Island, Glynn County</td>\n",
       "      <td>Standing</td>\n",
       "      <td>Adyson McNeely</td>\n",
       "      <td>11</td>\n",
       "      <td>Minor injury to left thigh</td>\n",
       "      <td>F</td>\n",
       "      <td>N</td>\n",
       "      <td>False</td>\n",
       "      <td>False</td>\n",
       "    </tr>\n",
       "  </tbody>\n",
       "</table>\n",
       "</div>"
      ],
      "text/plain": [
       "  case_number      date  year        type country        area  \\\n",
       "0  2018.06.25  Jun-2018  2018        Boat     USA  California   \n",
       "1  2018.06.18  Jun-2018  2018  Accidental     USA     Georgia   \n",
       "\n",
       "                         location  activity             name age  \\\n",
       "0     Oceanside, San Diego County  Paddling      Julie Wolfe  57   \n",
       "1  St. Simon Island, Glynn County  Standing  Adyson McNeely   11   \n",
       "\n",
       "                                              injury genero fatal fishing  \\\n",
       "0  No injury to occupant, outrigger canoe and pad...      F     N   False   \n",
       "1                         Minor injury to left thigh      F     N   False   \n",
       "\n",
       "  surfing  \n",
       "0   False  \n",
       "1   False  "
      ]
     },
     "execution_count": 128,
     "metadata": {},
     "output_type": "execute_result"
    }
   ],
   "source": [
    "sharks.head(2)"
   ]
  },
  {
   "cell_type": "code",
   "execution_count": 129,
   "metadata": {},
   "outputs": [
    {
     "data": {
      "text/plain": [
       "False    4586\n",
       "True     1172\n",
       "Name: fishing, dtype: int64"
      ]
     },
     "execution_count": 129,
     "metadata": {},
     "output_type": "execute_result"
    }
   ],
   "source": [
    "sharks.fishing.value_counts()"
   ]
  },
  {
   "cell_type": "code",
   "execution_count": 130,
   "metadata": {
    "scrolled": true
   },
   "outputs": [
    {
     "data": {
      "text/plain": [
       "False    4630\n",
       "True     1128\n",
       "Name: surfing, dtype: int64"
      ]
     },
     "execution_count": 130,
     "metadata": {},
     "output_type": "execute_result"
    }
   ],
   "source": [
    "sharks.surfing.value_counts()"
   ]
  },
  {
   "cell_type": "code",
   "execution_count": 131,
   "metadata": {
    "scrolled": false
   },
   "outputs": [
    {
     "data": {
      "text/plain": [
       "case_number       1\n",
       "date           2946\n",
       "year           2403\n",
       "type           2405\n",
       "country           0\n",
       "area           2856\n",
       "location       2941\n",
       "activity       2945\n",
       "name           2611\n",
       "age            5232\n",
       "injury         2429\n",
       "genero            0\n",
       "fatal             0\n",
       "fishing        2945\n",
       "surfing        2945\n",
       "dtype: int64"
      ]
     },
     "execution_count": 131,
     "metadata": {},
     "output_type": "execute_result"
    }
   ],
   "source": [
    "sharks.isnull().sum()"
   ]
  },
  {
   "cell_type": "markdown",
   "metadata": {},
   "source": [
    "2945 nulls"
   ]
  },
  {
   "cell_type": "code",
   "execution_count": 132,
   "metadata": {},
   "outputs": [],
   "source": [
    "suma_fish_surf = 1128 + 1172"
   ]
  },
  {
   "cell_type": "code",
   "execution_count": 133,
   "metadata": {},
   "outputs": [],
   "source": [
    "Porcentaje = suma_fish_surf/(4630+1128)"
   ]
  },
  {
   "cell_type": "code",
   "execution_count": 134,
   "metadata": {},
   "outputs": [
    {
     "data": {
      "text/plain": [
       "0.399444251476207"
      ]
     },
     "execution_count": 134,
     "metadata": {},
     "output_type": "execute_result"
    }
   ],
   "source": [
    "Porcentaje"
   ]
  },
  {
   "cell_type": "markdown",
   "metadata": {},
   "source": []
  },
  {
   "cell_type": "markdown",
   "metadata": {},
   "source": [
    "4- Mueren más hombres que mujeres."
   ]
  },
  {
   "cell_type": "markdown",
   "metadata": {},
   "source": []
  },
  {
   "cell_type": "markdown",
   "metadata": {},
   "source": [
    "Cuento los valores de la columna para validar."
   ]
  },
  {
   "cell_type": "code",
   "execution_count": 135,
   "metadata": {},
   "outputs": [],
   "source": [
    "hombres_muertos = sharks[(sharks.genero == \"M\") & (sharks.fatal == \"Y\")]"
   ]
  },
  {
   "cell_type": "code",
   "execution_count": 136,
   "metadata": {},
   "outputs": [
    {
     "data": {
      "text/plain": [
       "M    1173\n",
       "Name: genero, dtype: int64"
      ]
     },
     "execution_count": 136,
     "metadata": {},
     "output_type": "execute_result"
    }
   ],
   "source": [
    "hombres_muertos.genero.value_counts()"
   ]
  },
  {
   "cell_type": "code",
   "execution_count": 137,
   "metadata": {},
   "outputs": [],
   "source": [
    "mujeres_muertas = sharks[(sharks.genero == \"F\") & (sharks.fatal == \"Y\")]"
   ]
  },
  {
   "cell_type": "code",
   "execution_count": 138,
   "metadata": {},
   "outputs": [
    {
     "data": {
      "text/plain": [
       "F    107\n",
       "Name: genero, dtype: int64"
      ]
     },
     "execution_count": 138,
     "metadata": {},
     "output_type": "execute_result"
    }
   ],
   "source": [
    "mujeres_muertas.genero.value_counts()"
   ]
  },
  {
   "cell_type": "markdown",
   "metadata": {},
   "source": [
    "# Conclusión"
   ]
  },
  {
   "cell_type": "markdown",
   "metadata": {},
   "source": [
    "Las HIPOTESIS 1, 2, y 4 son verdaderas la 3 es falsa."
   ]
  },
  {
   "cell_type": "markdown",
   "metadata": {},
   "source": [
    "Esta es el aspecto final del csv"
   ]
  },
  {
   "cell_type": "code",
   "execution_count": 139,
   "metadata": {
    "scrolled": true
   },
   "outputs": [
    {
     "data": {
      "text/html": [
       "<div>\n",
       "<style scoped>\n",
       "    .dataframe tbody tr th:only-of-type {\n",
       "        vertical-align: middle;\n",
       "    }\n",
       "\n",
       "    .dataframe tbody tr th {\n",
       "        vertical-align: top;\n",
       "    }\n",
       "\n",
       "    .dataframe thead th {\n",
       "        text-align: right;\n",
       "    }\n",
       "</style>\n",
       "<table border=\"1\" class=\"dataframe\">\n",
       "  <thead>\n",
       "    <tr style=\"text-align: right;\">\n",
       "      <th></th>\n",
       "      <th>case_number</th>\n",
       "      <th>date</th>\n",
       "      <th>year</th>\n",
       "      <th>type</th>\n",
       "      <th>country</th>\n",
       "      <th>area</th>\n",
       "      <th>location</th>\n",
       "      <th>activity</th>\n",
       "      <th>name</th>\n",
       "      <th>age</th>\n",
       "      <th>injury</th>\n",
       "      <th>genero</th>\n",
       "      <th>fatal</th>\n",
       "      <th>fishing</th>\n",
       "      <th>surfing</th>\n",
       "    </tr>\n",
       "  </thead>\n",
       "  <tbody>\n",
       "    <tr>\n",
       "      <th>0</th>\n",
       "      <td>2018.06.25</td>\n",
       "      <td>Jun-2018</td>\n",
       "      <td>2018</td>\n",
       "      <td>Boat</td>\n",
       "      <td>USA</td>\n",
       "      <td>California</td>\n",
       "      <td>Oceanside, San Diego County</td>\n",
       "      <td>Paddling</td>\n",
       "      <td>Julie Wolfe</td>\n",
       "      <td>57</td>\n",
       "      <td>No injury to occupant, outrigger canoe and pad...</td>\n",
       "      <td>F</td>\n",
       "      <td>N</td>\n",
       "      <td>False</td>\n",
       "      <td>False</td>\n",
       "    </tr>\n",
       "    <tr>\n",
       "      <th>1</th>\n",
       "      <td>2018.06.18</td>\n",
       "      <td>Jun-2018</td>\n",
       "      <td>2018</td>\n",
       "      <td>Accidental</td>\n",
       "      <td>USA</td>\n",
       "      <td>Georgia</td>\n",
       "      <td>St. Simon Island, Glynn County</td>\n",
       "      <td>Standing</td>\n",
       "      <td>Adyson McNeely</td>\n",
       "      <td>11</td>\n",
       "      <td>Minor injury to left thigh</td>\n",
       "      <td>F</td>\n",
       "      <td>N</td>\n",
       "      <td>False</td>\n",
       "      <td>False</td>\n",
       "    </tr>\n",
       "    <tr>\n",
       "      <th>2</th>\n",
       "      <td>2018.06.09</td>\n",
       "      <td>Jun-2018</td>\n",
       "      <td>2018</td>\n",
       "      <td>Injured/Fatal</td>\n",
       "      <td>USA</td>\n",
       "      <td>Hawaii</td>\n",
       "      <td>Habush, Oahu</td>\n",
       "      <td>Surfing</td>\n",
       "      <td>John Denges</td>\n",
       "      <td>48</td>\n",
       "      <td>Injury to left lower leg from surfboard skeg</td>\n",
       "      <td>M</td>\n",
       "      <td>N</td>\n",
       "      <td>False</td>\n",
       "      <td>True</td>\n",
       "    </tr>\n",
       "  </tbody>\n",
       "</table>\n",
       "</div>"
      ],
      "text/plain": [
       "  case_number      date  year           type country        area  \\\n",
       "0  2018.06.25  Jun-2018  2018           Boat     USA  California   \n",
       "1  2018.06.18  Jun-2018  2018     Accidental     USA     Georgia   \n",
       "2  2018.06.09  Jun-2018  2018  Injured/Fatal     USA      Hawaii   \n",
       "\n",
       "                         location  activity             name age  \\\n",
       "0     Oceanside, San Diego County  Paddling      Julie Wolfe  57   \n",
       "1  St. Simon Island, Glynn County  Standing  Adyson McNeely   11   \n",
       "2                    Habush, Oahu   Surfing      John Denges  48   \n",
       "\n",
       "                                              injury genero fatal fishing  \\\n",
       "0  No injury to occupant, outrigger canoe and pad...      F     N   False   \n",
       "1                         Minor injury to left thigh      F     N   False   \n",
       "2       Injury to left lower leg from surfboard skeg      M     N   False   \n",
       "\n",
       "  surfing  \n",
       "0   False  \n",
       "1   False  \n",
       "2    True  "
      ]
     },
     "execution_count": 139,
     "metadata": {},
     "output_type": "execute_result"
    }
   ],
   "source": [
    "sharks.head(3)"
   ]
  },
  {
   "cell_type": "markdown",
   "metadata": {},
   "source": [
    "Exporto CSV limpio."
   ]
  },
  {
   "cell_type": "code",
   "execution_count": 140,
   "metadata": {},
   "outputs": [],
   "source": [
    "sharks.to_csv(\"sharks.csv\")"
   ]
  },
  {
   "cell_type": "code",
   "execution_count": null,
   "metadata": {},
   "outputs": [],
   "source": []
  }
 ],
 "metadata": {
  "kernelspec": {
   "display_name": "ironhack",
   "language": "python",
   "name": "ironhack"
  },
  "language_info": {
   "codemirror_mode": {
    "name": "ipython",
    "version": 3
   },
   "file_extension": ".py",
   "mimetype": "text/x-python",
   "name": "python",
   "nbconvert_exporter": "python",
   "pygments_lexer": "ipython3",
   "version": "3.8.5"
  }
 },
 "nbformat": 4,
 "nbformat_minor": 4
}
